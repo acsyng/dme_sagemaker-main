{
 "cells": [
  {
   "cell_type": "code",
   "execution_count": 2,
   "id": "4478c398-9a15-4fa3-a13f-ad51a646371d",
   "metadata": {
    "tags": []
   },
   "outputs": [],
   "source": [
    "#%pip install shap\n",
    "\n",
    "# stages 3 and 4 for Soy Brazil Summer\n",
    "# do we combine stages to make 1 model?"
   ]
  },
  {
   "cell_type": "code",
   "execution_count": 2,
   "id": "2eb86dfb-7f45-4f59-85b3-a504ee21cacd",
   "metadata": {
    "tags": []
   },
   "outputs": [
    {
     "name": "stderr",
     "output_type": "stream",
     "text": [
      "Using `tqdm.autonotebook.tqdm` in notebook mode. Use `tqdm.tqdm` instead to force console mode (e.g. in jupyter console)\n"
     ]
    }
   ],
   "source": [
    "# import packages\n",
    "import os\n",
    "import sys\n",
    "\n",
    "import pandas as pd, numpy as np\n",
    "import argparse\n",
    "\n",
    "import pickle\n",
    "import json\n",
    "import xgboost\n",
    "\n",
    "# need to add dme_sagemaker to path to load in libraries\n",
    "sys.path.append(\"/root/dme_sagemaker/dme_sagemaker\")\n",
    "\n",
    "from libs.performance_lib import predictive_advancement_lib\n",
    "from libs.performance_lib import performance_validation_lib\n",
    "\n",
    "import boto3"
   ]
  },
  {
   "cell_type": "code",
   "execution_count": 3,
   "id": "ce978bcb-47da-4617-becd-8b3973cdfb35",
   "metadata": {
    "tags": []
   },
   "outputs": [],
   "source": [
    "ap_data_sector = 'SOY_BRAZIL_SUMMER'\n",
    "out_year=2023\n",
    "bucket = 'us.com.syngenta.ap.nonprod'\n",
    "region = boto3.Session().region_name # not necessary\n",
    "s3 = boto3.client('s3')"
   ]
  },
  {
   "cell_type": "code",
   "execution_count": 4,
   "id": "e281335d-34f6-4856-8fab-b024fb0dee61",
   "metadata": {
    "tags": []
   },
   "outputs": [],
   "source": [
    "# when testing, we read directly from S3, bucket is provided as a separate input to function, don't include in input args. \n",
    "input_args = [\n",
    "    '--s3_input_data_folder', 'uat/dme/performance/reformatting_performance_pipeline_temp_out/data'\n",
    "]\n",
    "\n",
    "parser = argparse.ArgumentParser(description='app inputs and outputs')\n",
    "parser.add_argument('--s3_input_data_folder', type=str,\n",
    "                    help='s3_input_data_folder', required=True)\n",
    "input_args_parsed = parser.parse_args(input_args)"
   ]
  },
  {
   "cell_type": "code",
   "execution_count": 5,
   "id": "29316eeb-07cf-4fa5-ab57-e5a28a1717f3",
   "metadata": {
    "tags": []
   },
   "outputs": [
    {
     "name": "stderr",
     "output_type": "stream",
     "text": [
      "Columns (42,43,44,45,46,47,48,49,50,52,54,56,58,59,60,61,75,101) have mixed types.Specify dtype option on import or set low_memory=False.\n"
     ]
    }
   ],
   "source": [
    "df_val_all = pd.read_csv('s3://' + os.path.join(bucket, input_args_parsed.s3_input_data_folder, ap_data_sector, 'adv_model_validation_data.csv'))"
   ]
  },
  {
   "cell_type": "code",
   "execution_count": 7,
   "id": "8154eb74-6ca0-46ff-9e8f-3f2eb31f00b8",
   "metadata": {
    "tags": []
   },
   "outputs": [],
   "source": [
    "def get_fname_s3(bucket, s3_fpath, ap_data_sector, year, stage):\n",
    "    # get filenames in bucket/folder\n",
    "    s3 = boto3.resource('s3')\n",
    "    my_bucket = s3.Bucket(bucket)\n",
    "    \n",
    "    fnames = []\n",
    "    for object_summary in my_bucket.objects.filter(Prefix=os.path.join(s3_fpath)):\n",
    "        fname = object_summary.key.split('/')[-1]\n",
    "        if 'mdl_preprocessor' in fname:\n",
    "            fnames.append(fname)\n",
    "    \n",
    "    # get file for this year, sector, stage\n",
    "    fname_date, fname_ts = 0, 0\n",
    "    mdl_fname, preproc_fname = '', ''\n",
    "    # get model information\n",
    "    for fname in fnames:\n",
    "        if ap_data_sector in fname and 'stg' + str(stage) in fname and 'year'+ str(year) in fname:\n",
    "            f_split = fname.split('-')\n",
    "            if int(f_split[-2]) >= fname_date and int(f_split[-1][:-4]) >= fname_ts: # [:-4] removes .pkl\n",
    "                fname_date = int(f_split[-2])\n",
    "                fname_ts = int(f_split[-1][:-4])\n",
    "                mdl_fname = fname\n",
    "                \n",
    "    # use model information to get param information\n",
    "    if mdl_fname == '':\n",
    "        meta_fname = ''\n",
    "        mdl_preproc_dict = {}\n",
    "        meta_info = {}\n",
    "    else:\n",
    "        meta_fname = 'mdl_meta_info-' + '-'.join(mdl_fname.split('-')[1:])\n",
    "        \n",
    "    return mdl_fname, meta_fname\n",
    "\n",
    "def load_model_from_s3(bucket, s3_fpath, mdl_fname, meta_fname):\n",
    "    s3 = boto3.resource('s3')\n",
    "    my_bucket = s3.Bucket(bucket)\n",
    "    # read in model\n",
    "    mdl_preproc_dict = pickle.loads(s3.Bucket(bucket).Object(os.path.join(s3_fpath, mdl_fname)).get()['Body'].read())\n",
    "    meta_info = pickle.loads(s3.Bucket(bucket).Object(os.path.join(s3_fpath, meta_fname)).get()['Body'].read())\n",
    "    \n",
    "    return mdl_preproc_dict, meta_info"
   ]
  },
  {
   "cell_type": "code",
   "execution_count": 8,
   "id": "b637c8f0-f76c-4dc8-bc61-743fede97664",
   "metadata": {
    "tags": []
   },
   "outputs": [],
   "source": [
    "def predict_proba_list(mdl_list, x_te):\n",
    "    y_proba = np.zeros((x_te.shape[0],))\n",
    "    \n",
    "    for i in range(len(mdl_list)):\n",
    "        y_proba = y_proba + mdl_list[i].predict_proba(x_te)[:,1]\n",
    "        \n",
    "    return y_proba/len(mdl_list)"
   ]
  },
  {
   "cell_type": "code",
   "execution_count": 10,
   "id": "0d4856d3-ef13-4e7e-bbb7-8a0d8aa8e92d",
   "metadata": {},
   "outputs": [
    {
     "name": "stderr",
     "output_type": "stream",
     "text": [
      "All-NaN slice encountered\n",
      "Mean of empty slice\n",
      "Mean of empty slice\n",
      "Mean of empty slice\n",
      "Degrees of freedom <= 0 for slice.\n",
      "All-NaN slice encountered\n"
     ]
    }
   ],
   "source": [
    "grouping_cols = ['ap_data_sector','current_stage']\n",
    "df_val_all_grouped = df_val_all.groupby(by=grouping_cols)\n",
    "\n",
    "for index, df_use in df_val_all_grouped:  # build model per unique combination of grouping_cols; stage currently\n",
    "    # load in model and preprocessor\n",
    "    mdl_fname, meta_fname = get_fname_s3(\n",
    "        bucket,\n",
    "        os.path.join('uat/dme/performance/reformatting_performance_pipeline_temp_out/data',ap_data_sector),\n",
    "        ap_data_sector,\n",
    "        year=2023,\n",
    "        stage=int(index[1])\n",
    "    )\n",
    "    \n",
    "    mdl_preproc_dict, meta_info = load_model_from_s3(\n",
    "        bucket,\n",
    "        os.path.join('uat/dme/performance/reformatting_performance_pipeline_temp_out/data',ap_data_sector),\n",
    "        mdl_fname,\n",
    "        meta_fname\n",
    "    )\n",
    "    \n",
    "    df_use_proc = mdl_preproc_dict['preprocessor'].run_preprocessing(df_use)\n",
    "    y_proba = predict_proba_list(mdl_preproc_dict['mdl_list'], df_use_proc[meta_info['mdl_in_cols']]) \n",
    "    \n",
    "    # make sure advancement columns are boolean\n",
    "    df_use_proc['recommendation_score'] = y_proba\n",
    "\n",
    "    # set trait column and yield column based on data sector\n",
    "    trait_prefix = 'result_' # this gets both result_ and result_diff cols\n",
    "    yield_col = 'result_diff_YGSMN'\n",
    "\n",
    "    df_use_proc['random_nums'] = np.random.rand(df_use_proc.shape[0], 1)\n",
    "    adv_metrics, trait_metrics = performance_validation_lib.compute_model_metrics(\n",
    "        df_use_proc,\n",
    "        compute_advancement_metrics=False,\n",
    "        yield_col=yield_col,\n",
    "        trait_prefix=trait_prefix\n",
    "    )"
   ]
  },
  {
   "cell_type": "code",
   "execution_count": 19,
   "id": "113e4b01-1d18-49e9-acdf-ab647e3366ec",
   "metadata": {},
   "outputs": [
    {
     "name": "stdout",
     "output_type": "stream",
     "text": [
      "Validation: ('SOY_BRAZIL_SUMMER', 3.0) (16709, 108) (0.8512861214067591, array([[0.82252474, 0.17747526],\n",
      "       [0.11995249, 0.88004751]]), 0.9254757517469667, 0.3368947488065469)\n"
     ]
    },
    {
     "name": "stderr",
     "output_type": "stream",
     "text": [
      "All-NaN slice encountered\n",
      "Mean of empty slice\n",
      "Mean of empty slice\n",
      "Mean of empty slice\n",
      "Degrees of freedom <= 0 for slice.\n"
     ]
    },
    {
     "name": "stdout",
     "output_type": "stream",
     "text": [
      "Validation: ('SOY_BRAZIL_SUMMER', 4.0) (1699, 108) (0.8845135703363914, array([[0.81590214, 0.18409786],\n",
      "       [0.046875  , 0.953125  ]]), 0.9497993119266055, 0.2863849765258216)\n"
     ]
    },
    {
     "name": "stderr",
     "output_type": "stream",
     "text": [
      "All-NaN slice encountered\n",
      "All-NaN slice encountered\n",
      "Mean of empty slice\n",
      "Mean of empty slice\n",
      "Mean of empty slice\n",
      "Degrees of freedom <= 0 for slice.\n"
     ]
    }
   ],
   "source": [
    "    # save trait metrics, save output.... This is not implemented here because it is unclear where to put the data for the pipeline.\n",
    "    postfix = ap_data_sector + 'year-' + str(int(out_year)) + '-stg' + str(int(index[1])) + '-' + '-'.join(mdl_fname.split('-')[-2:])[:-4]\n",
    "    write_to_s3(trait_metrics, \n",
    "                'trait_metrics-' + postfix + '.csv', \n",
    "                s3_path=os.path.join('uat/dme/performance/reformatting_performance_pipeline_temp_out/data',ap_data_sector), \n",
    "                s3_bucket='us.com.syngenta.ap.nonprod'\n",
    "              )\n",
    "    "
   ]
  },
  {
   "cell_type": "code",
   "execution_count": 11,
   "id": "9b0b1e99-42f0-46e4-bb1c-602811b4a34f",
   "metadata": {},
   "outputs": [],
   "source": [
    "#### end evaluation.py\n",
    "\n",
    "# code below is extra, may be useful elsewhere"
   ]
  }
 ],
 "metadata": {
  "availableInstances": [
   {
    "_defaultOrder": 0,
    "_isFastLaunch": true,
    "category": "General purpose",
    "gpuNum": 0,
    "hideHardwareSpecs": false,
    "memoryGiB": 4,
    "name": "ml.t3.medium",
    "vcpuNum": 2
   },
   {
    "_defaultOrder": 1,
    "_isFastLaunch": false,
    "category": "General purpose",
    "gpuNum": 0,
    "hideHardwareSpecs": false,
    "memoryGiB": 8,
    "name": "ml.t3.large",
    "vcpuNum": 2
   },
   {
    "_defaultOrder": 2,
    "_isFastLaunch": false,
    "category": "General purpose",
    "gpuNum": 0,
    "hideHardwareSpecs": false,
    "memoryGiB": 16,
    "name": "ml.t3.xlarge",
    "vcpuNum": 4
   },
   {
    "_defaultOrder": 3,
    "_isFastLaunch": false,
    "category": "General purpose",
    "gpuNum": 0,
    "hideHardwareSpecs": false,
    "memoryGiB": 32,
    "name": "ml.t3.2xlarge",
    "vcpuNum": 8
   },
   {
    "_defaultOrder": 4,
    "_isFastLaunch": true,
    "category": "General purpose",
    "gpuNum": 0,
    "hideHardwareSpecs": false,
    "memoryGiB": 8,
    "name": "ml.m5.large",
    "vcpuNum": 2
   },
   {
    "_defaultOrder": 5,
    "_isFastLaunch": false,
    "category": "General purpose",
    "gpuNum": 0,
    "hideHardwareSpecs": false,
    "memoryGiB": 16,
    "name": "ml.m5.xlarge",
    "vcpuNum": 4
   },
   {
    "_defaultOrder": 6,
    "_isFastLaunch": false,
    "category": "General purpose",
    "gpuNum": 0,
    "hideHardwareSpecs": false,
    "memoryGiB": 32,
    "name": "ml.m5.2xlarge",
    "vcpuNum": 8
   },
   {
    "_defaultOrder": 7,
    "_isFastLaunch": false,
    "category": "General purpose",
    "gpuNum": 0,
    "hideHardwareSpecs": false,
    "memoryGiB": 64,
    "name": "ml.m5.4xlarge",
    "vcpuNum": 16
   },
   {
    "_defaultOrder": 8,
    "_isFastLaunch": false,
    "category": "General purpose",
    "gpuNum": 0,
    "hideHardwareSpecs": false,
    "memoryGiB": 128,
    "name": "ml.m5.8xlarge",
    "vcpuNum": 32
   },
   {
    "_defaultOrder": 9,
    "_isFastLaunch": false,
    "category": "General purpose",
    "gpuNum": 0,
    "hideHardwareSpecs": false,
    "memoryGiB": 192,
    "name": "ml.m5.12xlarge",
    "vcpuNum": 48
   },
   {
    "_defaultOrder": 10,
    "_isFastLaunch": false,
    "category": "General purpose",
    "gpuNum": 0,
    "hideHardwareSpecs": false,
    "memoryGiB": 256,
    "name": "ml.m5.16xlarge",
    "vcpuNum": 64
   },
   {
    "_defaultOrder": 11,
    "_isFastLaunch": false,
    "category": "General purpose",
    "gpuNum": 0,
    "hideHardwareSpecs": false,
    "memoryGiB": 384,
    "name": "ml.m5.24xlarge",
    "vcpuNum": 96
   },
   {
    "_defaultOrder": 12,
    "_isFastLaunch": false,
    "category": "General purpose",
    "gpuNum": 0,
    "hideHardwareSpecs": false,
    "memoryGiB": 8,
    "name": "ml.m5d.large",
    "vcpuNum": 2
   },
   {
    "_defaultOrder": 13,
    "_isFastLaunch": false,
    "category": "General purpose",
    "gpuNum": 0,
    "hideHardwareSpecs": false,
    "memoryGiB": 16,
    "name": "ml.m5d.xlarge",
    "vcpuNum": 4
   },
   {
    "_defaultOrder": 14,
    "_isFastLaunch": false,
    "category": "General purpose",
    "gpuNum": 0,
    "hideHardwareSpecs": false,
    "memoryGiB": 32,
    "name": "ml.m5d.2xlarge",
    "vcpuNum": 8
   },
   {
    "_defaultOrder": 15,
    "_isFastLaunch": false,
    "category": "General purpose",
    "gpuNum": 0,
    "hideHardwareSpecs": false,
    "memoryGiB": 64,
    "name": "ml.m5d.4xlarge",
    "vcpuNum": 16
   },
   {
    "_defaultOrder": 16,
    "_isFastLaunch": false,
    "category": "General purpose",
    "gpuNum": 0,
    "hideHardwareSpecs": false,
    "memoryGiB": 128,
    "name": "ml.m5d.8xlarge",
    "vcpuNum": 32
   },
   {
    "_defaultOrder": 17,
    "_isFastLaunch": false,
    "category": "General purpose",
    "gpuNum": 0,
    "hideHardwareSpecs": false,
    "memoryGiB": 192,
    "name": "ml.m5d.12xlarge",
    "vcpuNum": 48
   },
   {
    "_defaultOrder": 18,
    "_isFastLaunch": false,
    "category": "General purpose",
    "gpuNum": 0,
    "hideHardwareSpecs": false,
    "memoryGiB": 256,
    "name": "ml.m5d.16xlarge",
    "vcpuNum": 64
   },
   {
    "_defaultOrder": 19,
    "_isFastLaunch": false,
    "category": "General purpose",
    "gpuNum": 0,
    "hideHardwareSpecs": false,
    "memoryGiB": 384,
    "name": "ml.m5d.24xlarge",
    "vcpuNum": 96
   },
   {
    "_defaultOrder": 20,
    "_isFastLaunch": false,
    "category": "General purpose",
    "gpuNum": 0,
    "hideHardwareSpecs": true,
    "memoryGiB": 0,
    "name": "ml.geospatial.interactive",
    "supportedImageNames": [
     "sagemaker-geospatial-v1-0"
    ],
    "vcpuNum": 0
   },
   {
    "_defaultOrder": 21,
    "_isFastLaunch": true,
    "category": "Compute optimized",
    "gpuNum": 0,
    "hideHardwareSpecs": false,
    "memoryGiB": 4,
    "name": "ml.c5.large",
    "vcpuNum": 2
   },
   {
    "_defaultOrder": 22,
    "_isFastLaunch": false,
    "category": "Compute optimized",
    "gpuNum": 0,
    "hideHardwareSpecs": false,
    "memoryGiB": 8,
    "name": "ml.c5.xlarge",
    "vcpuNum": 4
   },
   {
    "_defaultOrder": 23,
    "_isFastLaunch": false,
    "category": "Compute optimized",
    "gpuNum": 0,
    "hideHardwareSpecs": false,
    "memoryGiB": 16,
    "name": "ml.c5.2xlarge",
    "vcpuNum": 8
   },
   {
    "_defaultOrder": 24,
    "_isFastLaunch": false,
    "category": "Compute optimized",
    "gpuNum": 0,
    "hideHardwareSpecs": false,
    "memoryGiB": 32,
    "name": "ml.c5.4xlarge",
    "vcpuNum": 16
   },
   {
    "_defaultOrder": 25,
    "_isFastLaunch": false,
    "category": "Compute optimized",
    "gpuNum": 0,
    "hideHardwareSpecs": false,
    "memoryGiB": 72,
    "name": "ml.c5.9xlarge",
    "vcpuNum": 36
   },
   {
    "_defaultOrder": 26,
    "_isFastLaunch": false,
    "category": "Compute optimized",
    "gpuNum": 0,
    "hideHardwareSpecs": false,
    "memoryGiB": 96,
    "name": "ml.c5.12xlarge",
    "vcpuNum": 48
   },
   {
    "_defaultOrder": 27,
    "_isFastLaunch": false,
    "category": "Compute optimized",
    "gpuNum": 0,
    "hideHardwareSpecs": false,
    "memoryGiB": 144,
    "name": "ml.c5.18xlarge",
    "vcpuNum": 72
   },
   {
    "_defaultOrder": 28,
    "_isFastLaunch": false,
    "category": "Compute optimized",
    "gpuNum": 0,
    "hideHardwareSpecs": false,
    "memoryGiB": 192,
    "name": "ml.c5.24xlarge",
    "vcpuNum": 96
   },
   {
    "_defaultOrder": 29,
    "_isFastLaunch": true,
    "category": "Accelerated computing",
    "gpuNum": 1,
    "hideHardwareSpecs": false,
    "memoryGiB": 16,
    "name": "ml.g4dn.xlarge",
    "vcpuNum": 4
   },
   {
    "_defaultOrder": 30,
    "_isFastLaunch": false,
    "category": "Accelerated computing",
    "gpuNum": 1,
    "hideHardwareSpecs": false,
    "memoryGiB": 32,
    "name": "ml.g4dn.2xlarge",
    "vcpuNum": 8
   },
   {
    "_defaultOrder": 31,
    "_isFastLaunch": false,
    "category": "Accelerated computing",
    "gpuNum": 1,
    "hideHardwareSpecs": false,
    "memoryGiB": 64,
    "name": "ml.g4dn.4xlarge",
    "vcpuNum": 16
   },
   {
    "_defaultOrder": 32,
    "_isFastLaunch": false,
    "category": "Accelerated computing",
    "gpuNum": 1,
    "hideHardwareSpecs": false,
    "memoryGiB": 128,
    "name": "ml.g4dn.8xlarge",
    "vcpuNum": 32
   },
   {
    "_defaultOrder": 33,
    "_isFastLaunch": false,
    "category": "Accelerated computing",
    "gpuNum": 4,
    "hideHardwareSpecs": false,
    "memoryGiB": 192,
    "name": "ml.g4dn.12xlarge",
    "vcpuNum": 48
   },
   {
    "_defaultOrder": 34,
    "_isFastLaunch": false,
    "category": "Accelerated computing",
    "gpuNum": 1,
    "hideHardwareSpecs": false,
    "memoryGiB": 256,
    "name": "ml.g4dn.16xlarge",
    "vcpuNum": 64
   },
   {
    "_defaultOrder": 35,
    "_isFastLaunch": false,
    "category": "Accelerated computing",
    "gpuNum": 1,
    "hideHardwareSpecs": false,
    "memoryGiB": 61,
    "name": "ml.p3.2xlarge",
    "vcpuNum": 8
   },
   {
    "_defaultOrder": 36,
    "_isFastLaunch": false,
    "category": "Accelerated computing",
    "gpuNum": 4,
    "hideHardwareSpecs": false,
    "memoryGiB": 244,
    "name": "ml.p3.8xlarge",
    "vcpuNum": 32
   },
   {
    "_defaultOrder": 37,
    "_isFastLaunch": false,
    "category": "Accelerated computing",
    "gpuNum": 8,
    "hideHardwareSpecs": false,
    "memoryGiB": 488,
    "name": "ml.p3.16xlarge",
    "vcpuNum": 64
   },
   {
    "_defaultOrder": 38,
    "_isFastLaunch": false,
    "category": "Accelerated computing",
    "gpuNum": 8,
    "hideHardwareSpecs": false,
    "memoryGiB": 768,
    "name": "ml.p3dn.24xlarge",
    "vcpuNum": 96
   },
   {
    "_defaultOrder": 39,
    "_isFastLaunch": false,
    "category": "Memory Optimized",
    "gpuNum": 0,
    "hideHardwareSpecs": false,
    "memoryGiB": 16,
    "name": "ml.r5.large",
    "vcpuNum": 2
   },
   {
    "_defaultOrder": 40,
    "_isFastLaunch": false,
    "category": "Memory Optimized",
    "gpuNum": 0,
    "hideHardwareSpecs": false,
    "memoryGiB": 32,
    "name": "ml.r5.xlarge",
    "vcpuNum": 4
   },
   {
    "_defaultOrder": 41,
    "_isFastLaunch": false,
    "category": "Memory Optimized",
    "gpuNum": 0,
    "hideHardwareSpecs": false,
    "memoryGiB": 64,
    "name": "ml.r5.2xlarge",
    "vcpuNum": 8
   },
   {
    "_defaultOrder": 42,
    "_isFastLaunch": false,
    "category": "Memory Optimized",
    "gpuNum": 0,
    "hideHardwareSpecs": false,
    "memoryGiB": 128,
    "name": "ml.r5.4xlarge",
    "vcpuNum": 16
   },
   {
    "_defaultOrder": 43,
    "_isFastLaunch": false,
    "category": "Memory Optimized",
    "gpuNum": 0,
    "hideHardwareSpecs": false,
    "memoryGiB": 256,
    "name": "ml.r5.8xlarge",
    "vcpuNum": 32
   },
   {
    "_defaultOrder": 44,
    "_isFastLaunch": false,
    "category": "Memory Optimized",
    "gpuNum": 0,
    "hideHardwareSpecs": false,
    "memoryGiB": 384,
    "name": "ml.r5.12xlarge",
    "vcpuNum": 48
   },
   {
    "_defaultOrder": 45,
    "_isFastLaunch": false,
    "category": "Memory Optimized",
    "gpuNum": 0,
    "hideHardwareSpecs": false,
    "memoryGiB": 512,
    "name": "ml.r5.16xlarge",
    "vcpuNum": 64
   },
   {
    "_defaultOrder": 46,
    "_isFastLaunch": false,
    "category": "Memory Optimized",
    "gpuNum": 0,
    "hideHardwareSpecs": false,
    "memoryGiB": 768,
    "name": "ml.r5.24xlarge",
    "vcpuNum": 96
   },
   {
    "_defaultOrder": 47,
    "_isFastLaunch": false,
    "category": "Accelerated computing",
    "gpuNum": 1,
    "hideHardwareSpecs": false,
    "memoryGiB": 16,
    "name": "ml.g5.xlarge",
    "vcpuNum": 4
   },
   {
    "_defaultOrder": 48,
    "_isFastLaunch": false,
    "category": "Accelerated computing",
    "gpuNum": 1,
    "hideHardwareSpecs": false,
    "memoryGiB": 32,
    "name": "ml.g5.2xlarge",
    "vcpuNum": 8
   },
   {
    "_defaultOrder": 49,
    "_isFastLaunch": false,
    "category": "Accelerated computing",
    "gpuNum": 1,
    "hideHardwareSpecs": false,
    "memoryGiB": 64,
    "name": "ml.g5.4xlarge",
    "vcpuNum": 16
   },
   {
    "_defaultOrder": 50,
    "_isFastLaunch": false,
    "category": "Accelerated computing",
    "gpuNum": 1,
    "hideHardwareSpecs": false,
    "memoryGiB": 128,
    "name": "ml.g5.8xlarge",
    "vcpuNum": 32
   },
   {
    "_defaultOrder": 51,
    "_isFastLaunch": false,
    "category": "Accelerated computing",
    "gpuNum": 1,
    "hideHardwareSpecs": false,
    "memoryGiB": 256,
    "name": "ml.g5.16xlarge",
    "vcpuNum": 64
   },
   {
    "_defaultOrder": 52,
    "_isFastLaunch": false,
    "category": "Accelerated computing",
    "gpuNum": 4,
    "hideHardwareSpecs": false,
    "memoryGiB": 192,
    "name": "ml.g5.12xlarge",
    "vcpuNum": 48
   },
   {
    "_defaultOrder": 53,
    "_isFastLaunch": false,
    "category": "Accelerated computing",
    "gpuNum": 4,
    "hideHardwareSpecs": false,
    "memoryGiB": 384,
    "name": "ml.g5.24xlarge",
    "vcpuNum": 96
   },
   {
    "_defaultOrder": 54,
    "_isFastLaunch": false,
    "category": "Accelerated computing",
    "gpuNum": 8,
    "hideHardwareSpecs": false,
    "memoryGiB": 768,
    "name": "ml.g5.48xlarge",
    "vcpuNum": 192
   },
   {
    "_defaultOrder": 55,
    "_isFastLaunch": false,
    "category": "Accelerated computing",
    "gpuNum": 8,
    "hideHardwareSpecs": false,
    "memoryGiB": 1152,
    "name": "ml.p4d.24xlarge",
    "vcpuNum": 96
   },
   {
    "_defaultOrder": 56,
    "_isFastLaunch": false,
    "category": "Accelerated computing",
    "gpuNum": 8,
    "hideHardwareSpecs": false,
    "memoryGiB": 1152,
    "name": "ml.p4de.24xlarge",
    "vcpuNum": 96
   }
  ],
  "instance_type": "ml.t3.medium",
  "kernelspec": {
   "display_name": "Python 3 (Data Science)",
   "language": "python",
   "name": "python3__SAGEMAKER_INTERNAL__arn:aws:sagemaker:us-east-1:081325390199:image/datascience-1.0"
  },
  "language_info": {
   "codemirror_mode": {
    "name": "ipython",
    "version": 3
   },
   "file_extension": ".py",
   "mimetype": "text/x-python",
   "name": "python",
   "nbconvert_exporter": "python",
   "pygments_lexer": "ipython3",
   "version": "3.7.10"
  }
 },
 "nbformat": 4,
 "nbformat_minor": 5
}
