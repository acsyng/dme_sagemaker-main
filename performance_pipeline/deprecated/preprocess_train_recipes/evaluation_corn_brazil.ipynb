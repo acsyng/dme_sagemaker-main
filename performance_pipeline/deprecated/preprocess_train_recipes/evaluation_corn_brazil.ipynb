{
 "cells": [
  {
   "cell_type": "code",
   "execution_count": 2,
   "id": "4478c398-9a15-4fa3-a13f-ad51a646371d",
   "metadata": {
    "tags": []
   },
   "outputs": [],
   "source": [
    "#%pip install shap\n",
    "\n",
    "# stages 1, 3 and 4 for Corn Brazil Summer\n",
    "# do we combine stages to make 1 model?"
   ]
  },
  {
   "cell_type": "code",
   "execution_count": 2,
   "id": "2eb86dfb-7f45-4f59-85b3-a504ee21cacd",
   "metadata": {
    "tags": []
   },
   "outputs": [],
   "source": [
    "# import packages\n",
    "import os\n",
    "import sys\n",
    "\n",
    "import pandas as pd, numpy as np\n",
    "import argparse\n",
    "\n",
    "import xgboost\n",
    "\n",
    "# need to add dme_sagemaker to path to load in libraries\n",
    "sys.path.append(\"/root/dme_sagemaker/dme_sagemaker\")\n",
    "\n",
    "from libs.performance_lib import predictive_advancement_lib\n",
    "from libs.performance_lib import performance_helper\n",
    "\n",
    "import matplotlib.pyplot as plt\n",
    "%matplotlib inline\n"
   ]
  },
  {
   "cell_type": "code",
   "execution_count": 3,
   "id": "ce978bcb-47da-4617-becd-8b3973cdfb35",
   "metadata": {
    "tags": []
   },
   "outputs": [],
   "source": [
    "ap_data_sector = 'CORN_BRAZIL_SUMMER'\n",
    "out_year=2023\n",
    "bucket = 'us.com.syngenta.ap.nonprod'"
   ]
  },
  {
   "cell_type": "code",
   "execution_count": 4,
   "id": "e281335d-34f6-4856-8fab-b024fb0dee61",
   "metadata": {
    "tags": []
   },
   "outputs": [],
   "source": [
    "# when testing, we read directly from S3, bucket is provided as a separate input to function, don't include in input args. \n",
    "input_args = [\n",
    "    '--s3_input_data_folder', 'uat/dme/performance/reformatting_performance_pipeline_temp_out/data'\n",
    "]\n",
    "\n",
    "parser = argparse.ArgumentParser(description='app inputs and outputs')\n",
    "parser.add_argument('--s3_input_data_folder', type=str,\n",
    "                    help='s3_input_data_folder', required=True)\n",
    "input_args_parsed = parser.parse_args(input_args)"
   ]
  },
  {
   "cell_type": "code",
   "execution_count": 5,
   "id": "29316eeb-07cf-4fa5-ab57-e5a28a1717f3",
   "metadata": {
    "tags": []
   },
   "outputs": [],
   "source": [
    "df_val_all = pd.read_csv('s3://' + os.path.join(bucket, input_args_parsed.s3_input_data_folder, ap_data_sector, 'adv_model_validation_data.csv'))"
   ]
  },
  {
   "cell_type": "code",
   "execution_count": 6,
   "id": "7b3f54d4-fdfa-4777-8785-902080fc0d1e",
   "metadata": {},
   "outputs": [
    {
     "name": "stdout",
     "output_type": "stream",
     "text": [
      "Validation: ('CORN_BRAZIL_SUMMER', 1.0) (12861, 104) (0.8674347065992241, array([[0.82449205, 0.17550795],\n",
      "       [0.08962264, 0.91037736]]), 0.934547365217923, 0.14704761904761904)\n"
     ]
    },
    {
     "name": "stderr",
     "output_type": "stream",
     "text": [
      "/opt/conda/lib/python3.7/site-packages/numpy/lib/nanfunctions.py:997: RuntimeWarning: All-NaN slice encountered\n",
      "  result = np.apply_along_axis(_nanmedian1d, axis, a, overwrite_input)\n",
      "/root/dme_sagemaker/dme_sagemaker/libs/performance_lib/predictive_advancement_lib.py:763: RuntimeWarning: Mean of empty slice\n",
      "  'value': func(df_use.loc[was_rec == True, trait_cols], axis=0)\n",
      "/root/dme_sagemaker/dme_sagemaker/libs/performance_lib/predictive_advancement_lib.py:786: RuntimeWarning: Mean of empty slice\n",
      "  'value': func(df_use.loc[was_rec == True, trait_cols], axis=0) - np.nanmedian(\n",
      "/opt/conda/lib/python3.7/site-packages/numpy/lib/nanfunctions.py:1671: RuntimeWarning: Degrees of freedom <= 0 for slice.\n",
      "  keepdims=keepdims)\n"
     ]
    },
    {
     "name": "stdout",
     "output_type": "stream",
     "text": [
      "Validation: ('CORN_BRAZIL_SUMMER', 3.0) (2337, 104) (0.7472029556306856, array([[0.8790213 , 0.1209787 ],\n",
      "       [0.38461538, 0.61538462]]), 0.8494719598480359, 0.33542976939203356)\n"
     ]
    },
    {
     "name": "stderr",
     "output_type": "stream",
     "text": [
      "/opt/conda/lib/python3.7/site-packages/numpy/lib/nanfunctions.py:1120: RuntimeWarning: All-NaN slice encountered\n",
      "  overwrite_input=overwrite_input)\n",
      "/opt/conda/lib/python3.7/site-packages/numpy/lib/nanfunctions.py:997: RuntimeWarning: All-NaN slice encountered\n",
      "  result = np.apply_along_axis(_nanmedian1d, axis, a, overwrite_input)\n",
      "/root/dme_sagemaker/dme_sagemaker/libs/performance_lib/predictive_advancement_lib.py:763: RuntimeWarning: Mean of empty slice\n",
      "  'value': func(df_use.loc[was_rec == True, trait_cols], axis=0)\n",
      "/root/dme_sagemaker/dme_sagemaker/libs/performance_lib/predictive_advancement_lib.py:774: RuntimeWarning: Mean of empty slice\n",
      "  'value': func(df_use.loc[was_rec == False, trait_cols], axis=0)\n",
      "/root/dme_sagemaker/dme_sagemaker/libs/performance_lib/predictive_advancement_lib.py:786: RuntimeWarning: Mean of empty slice\n",
      "  'value': func(df_use.loc[was_rec == True, trait_cols], axis=0) - np.nanmedian(\n",
      "/opt/conda/lib/python3.7/site-packages/numpy/lib/nanfunctions.py:1671: RuntimeWarning: Degrees of freedom <= 0 for slice.\n",
      "  keepdims=keepdims)\n"
     ]
    },
    {
     "name": "stdout",
     "output_type": "stream",
     "text": [
      "Validation: ('CORN_BRAZIL_SUMMER', 4.0) (1416, 104) (0.7525933557053825, array([[0.83395383, 0.16604617],\n",
      "       [0.32876712, 0.67123288]]), 0.8360499393098664, 0.28405797101449276)\n"
     ]
    },
    {
     "name": "stderr",
     "output_type": "stream",
     "text": [
      "/opt/conda/lib/python3.7/site-packages/numpy/lib/nanfunctions.py:1120: RuntimeWarning: All-NaN slice encountered\n",
      "  overwrite_input=overwrite_input)\n",
      "/opt/conda/lib/python3.7/site-packages/numpy/lib/nanfunctions.py:997: RuntimeWarning: All-NaN slice encountered\n",
      "  result = np.apply_along_axis(_nanmedian1d, axis, a, overwrite_input)\n",
      "/root/dme_sagemaker/dme_sagemaker/libs/performance_lib/predictive_advancement_lib.py:763: RuntimeWarning: Mean of empty slice\n",
      "  'value': func(df_use.loc[was_rec == True, trait_cols], axis=0)\n",
      "/root/dme_sagemaker/dme_sagemaker/libs/performance_lib/predictive_advancement_lib.py:774: RuntimeWarning: Mean of empty slice\n",
      "  'value': func(df_use.loc[was_rec == False, trait_cols], axis=0)\n",
      "/root/dme_sagemaker/dme_sagemaker/libs/performance_lib/predictive_advancement_lib.py:786: RuntimeWarning: Mean of empty slice\n",
      "  'value': func(df_use.loc[was_rec == True, trait_cols], axis=0) - np.nanmedian(\n",
      "/opt/conda/lib/python3.7/site-packages/numpy/lib/nanfunctions.py:1671: RuntimeWarning: Degrees of freedom <= 0 for slice.\n",
      "  keepdims=keepdims)\n"
     ]
    }
   ],
   "source": [
    "grouping_cols = ['ap_data_sector','current_stage']\n",
    "df_val_all_grouped = df_val_all.groupby(by=grouping_cols)\n",
    "\n",
    "for index, df_use in df_val_all_grouped:  # build model per unique combination of grouping_cols; stage currently\n",
    "    # load in model and preprocessor\n",
    "    mdl_fname, meta_fname = predictive_advancement_lib.get_fname_s3(\n",
    "        bucket,\n",
    "        os.path.join('uat/dme/performance/reformatting_performance_pipeline_temp_out/data',ap_data_sector),\n",
    "        ap_data_sector,\n",
    "        year=out_year,\n",
    "        stage=int(index[1])\n",
    "    )\n",
    "    \n",
    "    mdl_preproc_dict, meta_info = predictive_advancement_lib.load_model_from_s3(\n",
    "        bucket,\n",
    "        os.path.join('uat/dme/performance/reformatting_performance_pipeline_temp_out/data',ap_data_sector),\n",
    "        mdl_fname,\n",
    "        meta_fname\n",
    "    )\n",
    "    \n",
    "    df_use_proc = mdl_preproc_dict['preprocessor'].run_preprocessing(df_use)\n",
    "    \n",
    "    y_proba = predictive_advancement_lib.predict_proba_list(\n",
    "        mdl_preproc_dict['mdl_list'], \n",
    "        df_use_proc[meta_info['mdl_in_cols']]\n",
    "    ) \n",
    "    \n",
    "    acc, conf_mat, roc_auc, f1 = predictive_advancement_lib.get_evaluation_metrics(\n",
    "        y_true=df_use_proc[meta_info['mdl_out_cols']], \n",
    "        y_pred=y_proba>0.5, \n",
    "        y_proba=y_proba\n",
    "    )\n",
    "    \n",
    "    print(\n",
    "        \"Validation:\",\n",
    "        index,\n",
    "        df_use.shape,\n",
    "        (acc, conf_mat, roc_auc, f1)\n",
    "    )\n",
    "\n",
    "    # make sure advancement columns are boolean\n",
    "    df_use_proc['recommendation_score'] = y_proba\n",
    "\n",
    "    if 'was_adv' in df_use_proc.columns:\n",
    "        df_use_proc['was_adv'] = df_use_proc['was_adv'].astype(bool)\n",
    "    if 'was_adv_next' in df_use_proc.columns:\n",
    "        df_use_proc['was_adv_next'] = df_use_proc['was_adv_next'].astype(bool)\n",
    "\n",
    "    # set trait column and yield column based on data sector\n",
    "    trait_prefix = 'result_' # this gets both result_ and result_diff cols\n",
    "    yield_col = 'result_diff_YGSMN'\n",
    "\n",
    "    df_use_proc['random_nums'] = np.random.rand(df_use_proc.shape[0], 1)\n",
    "    adv_metrics, trait_metrics = predictive_advancement_lib.compute_model_metrics(\n",
    "        df_use_proc,\n",
    "        compute_advancement_metrics=True,\n",
    "        yield_col=yield_col,\n",
    "        trait_prefix=trait_prefix\n",
    "    )\n",
    "    \n",
    "    # save advancement and trait metrics\n",
    "    postfix = ap_data_sector + 'year-' + str(int(out_year)) + '-stg' + str(int(index[1])) + '-' + '-'.join(mdl_fname.split('-')[-2:])[:-4]\n",
    "    performance_helper.write_to_s3(adv_metrics, \n",
    "                'advancement_metrics-' + postfix + '.csv', \n",
    "                s3_path=os.path.join('uat/dme/performance/reformatting_performance_pipeline_temp_out/data',ap_data_sector), \n",
    "                bucket='us.com.syngenta.ap.nonprod'\n",
    "              )\n",
    "    performance_helper.write_to_s3(trait_metrics, \n",
    "                'trait_metrics-' + postfix + '.csv', \n",
    "                s3_path=os.path.join('uat/dme/performance/reformatting_performance_pipeline_temp_out/data',ap_data_sector), \n",
    "                bucket='us.com.syngenta.ap.nonprod'\n",
    "              )\n",
    "    "
   ]
  },
  {
   "cell_type": "code",
   "execution_count": 8,
   "id": "9b0b1e99-42f0-46e4-bb1c-602811b4a34f",
   "metadata": {},
   "outputs": [
    {
     "data": {
      "text/plain": [
       "('CORN_BRAZIL_SUMMER', 4.0)"
      ]
     },
     "execution_count": 8,
     "metadata": {},
     "output_type": "execute_result"
    }
   ],
   "source": [
    "#### end evaluation.py\n",
    "\n",
    "# code below is extra, may be useful elsewhere"
   ]
  },
  {
   "cell_type": "code",
   "execution_count": 9,
   "id": "b8911b6e-8a0d-4145-b9dd-422936a686fa",
   "metadata": {
    "tags": []
   },
   "outputs": [],
   "source": [
    "class temp_mdl:\n",
    "    def __init__(self, mdl_list):\n",
    "        self.mdl_list = mdl_list\n",
    "        \n",
    "    def predict_proba_list(self, x_te):\n",
    "        y_proba = np.zeros((x_te.shape[0],))\n",
    "    \n",
    "        for i in range(len(self.mdl_list)):\n",
    "            y_proba = y_proba + self.mdl_list[i].predict_proba(x_te)[:,1]\n",
    "\n",
    "        return y_proba/len(self.mdl_list)\n",
    "\n",
    "#shap code for new class method\n",
    "# get and plot shapley values after training a model\n",
    "do_shap = 0\n",
    "if do_shap == 1:\n",
    "    temp_mdl = temp_mdl(mdl_list=mdl_preproc_dict['mdl_list'])\n",
    "    x = df_use_proc[meta_info['mdl_in_cols']].values.astype(float)\n",
    "    shap_input = shap.utils.sample(x, np.minimum(x.shape[0],1000))\n",
    "    explainer = shap.Explainer(temp_mdl.predict_proba_list, shap_input)\n",
    "    shap_values = explainer(shap_input)\n",
    "    #shap_values = shap_values[:,:,1]\n",
    "\n",
    "    shap.summary_plot(shap_values, feature_names=meta_info['mdl_in_cols'],\\\n",
    "                     plot_type='bar')\n",
    "\n",
    "    shap.summary_plot(shap_values, feature_names=meta_info['mdl_in_cols'],\\\n",
    "                     plot_type='dot')\n",
    "\n",
    "\n",
    "#for idx in range(len(mdl_class.in_cols)):\n",
    "#    notnan_mask = np.isnan(shap_input[:,idx])==False\n",
    "#    if np.sum(notnan_mask) > 10:\n",
    "#        shap.plots.partial_dependence(idx,mdl_class.mdl.predict,shap_input[notnan_mask,:],ice=False,feature_names=mdl_class.in_cols)\n",
    "\n",
    "# some useful shapley/interpolation related code\n",
    "#plt.plot(shap_values[:,0].data, shap_values[:,0].values,'.')\n",
    "#shap.plots.scatter(shap_values[:,5])"
   ]
  }
 ],
 "metadata": {
  "availableInstances": [
   {
    "_defaultOrder": 0,
    "_isFastLaunch": true,
    "category": "General purpose",
    "gpuNum": 0,
    "hideHardwareSpecs": false,
    "memoryGiB": 4,
    "name": "ml.t3.medium",
    "vcpuNum": 2
   },
   {
    "_defaultOrder": 1,
    "_isFastLaunch": false,
    "category": "General purpose",
    "gpuNum": 0,
    "hideHardwareSpecs": false,
    "memoryGiB": 8,
    "name": "ml.t3.large",
    "vcpuNum": 2
   },
   {
    "_defaultOrder": 2,
    "_isFastLaunch": false,
    "category": "General purpose",
    "gpuNum": 0,
    "hideHardwareSpecs": false,
    "memoryGiB": 16,
    "name": "ml.t3.xlarge",
    "vcpuNum": 4
   },
   {
    "_defaultOrder": 3,
    "_isFastLaunch": false,
    "category": "General purpose",
    "gpuNum": 0,
    "hideHardwareSpecs": false,
    "memoryGiB": 32,
    "name": "ml.t3.2xlarge",
    "vcpuNum": 8
   },
   {
    "_defaultOrder": 4,
    "_isFastLaunch": true,
    "category": "General purpose",
    "gpuNum": 0,
    "hideHardwareSpecs": false,
    "memoryGiB": 8,
    "name": "ml.m5.large",
    "vcpuNum": 2
   },
   {
    "_defaultOrder": 5,
    "_isFastLaunch": false,
    "category": "General purpose",
    "gpuNum": 0,
    "hideHardwareSpecs": false,
    "memoryGiB": 16,
    "name": "ml.m5.xlarge",
    "vcpuNum": 4
   },
   {
    "_defaultOrder": 6,
    "_isFastLaunch": false,
    "category": "General purpose",
    "gpuNum": 0,
    "hideHardwareSpecs": false,
    "memoryGiB": 32,
    "name": "ml.m5.2xlarge",
    "vcpuNum": 8
   },
   {
    "_defaultOrder": 7,
    "_isFastLaunch": false,
    "category": "General purpose",
    "gpuNum": 0,
    "hideHardwareSpecs": false,
    "memoryGiB": 64,
    "name": "ml.m5.4xlarge",
    "vcpuNum": 16
   },
   {
    "_defaultOrder": 8,
    "_isFastLaunch": false,
    "category": "General purpose",
    "gpuNum": 0,
    "hideHardwareSpecs": false,
    "memoryGiB": 128,
    "name": "ml.m5.8xlarge",
    "vcpuNum": 32
   },
   {
    "_defaultOrder": 9,
    "_isFastLaunch": false,
    "category": "General purpose",
    "gpuNum": 0,
    "hideHardwareSpecs": false,
    "memoryGiB": 192,
    "name": "ml.m5.12xlarge",
    "vcpuNum": 48
   },
   {
    "_defaultOrder": 10,
    "_isFastLaunch": false,
    "category": "General purpose",
    "gpuNum": 0,
    "hideHardwareSpecs": false,
    "memoryGiB": 256,
    "name": "ml.m5.16xlarge",
    "vcpuNum": 64
   },
   {
    "_defaultOrder": 11,
    "_isFastLaunch": false,
    "category": "General purpose",
    "gpuNum": 0,
    "hideHardwareSpecs": false,
    "memoryGiB": 384,
    "name": "ml.m5.24xlarge",
    "vcpuNum": 96
   },
   {
    "_defaultOrder": 12,
    "_isFastLaunch": false,
    "category": "General purpose",
    "gpuNum": 0,
    "hideHardwareSpecs": false,
    "memoryGiB": 8,
    "name": "ml.m5d.large",
    "vcpuNum": 2
   },
   {
    "_defaultOrder": 13,
    "_isFastLaunch": false,
    "category": "General purpose",
    "gpuNum": 0,
    "hideHardwareSpecs": false,
    "memoryGiB": 16,
    "name": "ml.m5d.xlarge",
    "vcpuNum": 4
   },
   {
    "_defaultOrder": 14,
    "_isFastLaunch": false,
    "category": "General purpose",
    "gpuNum": 0,
    "hideHardwareSpecs": false,
    "memoryGiB": 32,
    "name": "ml.m5d.2xlarge",
    "vcpuNum": 8
   },
   {
    "_defaultOrder": 15,
    "_isFastLaunch": false,
    "category": "General purpose",
    "gpuNum": 0,
    "hideHardwareSpecs": false,
    "memoryGiB": 64,
    "name": "ml.m5d.4xlarge",
    "vcpuNum": 16
   },
   {
    "_defaultOrder": 16,
    "_isFastLaunch": false,
    "category": "General purpose",
    "gpuNum": 0,
    "hideHardwareSpecs": false,
    "memoryGiB": 128,
    "name": "ml.m5d.8xlarge",
    "vcpuNum": 32
   },
   {
    "_defaultOrder": 17,
    "_isFastLaunch": false,
    "category": "General purpose",
    "gpuNum": 0,
    "hideHardwareSpecs": false,
    "memoryGiB": 192,
    "name": "ml.m5d.12xlarge",
    "vcpuNum": 48
   },
   {
    "_defaultOrder": 18,
    "_isFastLaunch": false,
    "category": "General purpose",
    "gpuNum": 0,
    "hideHardwareSpecs": false,
    "memoryGiB": 256,
    "name": "ml.m5d.16xlarge",
    "vcpuNum": 64
   },
   {
    "_defaultOrder": 19,
    "_isFastLaunch": false,
    "category": "General purpose",
    "gpuNum": 0,
    "hideHardwareSpecs": false,
    "memoryGiB": 384,
    "name": "ml.m5d.24xlarge",
    "vcpuNum": 96
   },
   {
    "_defaultOrder": 20,
    "_isFastLaunch": false,
    "category": "General purpose",
    "gpuNum": 0,
    "hideHardwareSpecs": true,
    "memoryGiB": 0,
    "name": "ml.geospatial.interactive",
    "supportedImageNames": [
     "sagemaker-geospatial-v1-0"
    ],
    "vcpuNum": 0
   },
   {
    "_defaultOrder": 21,
    "_isFastLaunch": true,
    "category": "Compute optimized",
    "gpuNum": 0,
    "hideHardwareSpecs": false,
    "memoryGiB": 4,
    "name": "ml.c5.large",
    "vcpuNum": 2
   },
   {
    "_defaultOrder": 22,
    "_isFastLaunch": false,
    "category": "Compute optimized",
    "gpuNum": 0,
    "hideHardwareSpecs": false,
    "memoryGiB": 8,
    "name": "ml.c5.xlarge",
    "vcpuNum": 4
   },
   {
    "_defaultOrder": 23,
    "_isFastLaunch": false,
    "category": "Compute optimized",
    "gpuNum": 0,
    "hideHardwareSpecs": false,
    "memoryGiB": 16,
    "name": "ml.c5.2xlarge",
    "vcpuNum": 8
   },
   {
    "_defaultOrder": 24,
    "_isFastLaunch": false,
    "category": "Compute optimized",
    "gpuNum": 0,
    "hideHardwareSpecs": false,
    "memoryGiB": 32,
    "name": "ml.c5.4xlarge",
    "vcpuNum": 16
   },
   {
    "_defaultOrder": 25,
    "_isFastLaunch": false,
    "category": "Compute optimized",
    "gpuNum": 0,
    "hideHardwareSpecs": false,
    "memoryGiB": 72,
    "name": "ml.c5.9xlarge",
    "vcpuNum": 36
   },
   {
    "_defaultOrder": 26,
    "_isFastLaunch": false,
    "category": "Compute optimized",
    "gpuNum": 0,
    "hideHardwareSpecs": false,
    "memoryGiB": 96,
    "name": "ml.c5.12xlarge",
    "vcpuNum": 48
   },
   {
    "_defaultOrder": 27,
    "_isFastLaunch": false,
    "category": "Compute optimized",
    "gpuNum": 0,
    "hideHardwareSpecs": false,
    "memoryGiB": 144,
    "name": "ml.c5.18xlarge",
    "vcpuNum": 72
   },
   {
    "_defaultOrder": 28,
    "_isFastLaunch": false,
    "category": "Compute optimized",
    "gpuNum": 0,
    "hideHardwareSpecs": false,
    "memoryGiB": 192,
    "name": "ml.c5.24xlarge",
    "vcpuNum": 96
   },
   {
    "_defaultOrder": 29,
    "_isFastLaunch": true,
    "category": "Accelerated computing",
    "gpuNum": 1,
    "hideHardwareSpecs": false,
    "memoryGiB": 16,
    "name": "ml.g4dn.xlarge",
    "vcpuNum": 4
   },
   {
    "_defaultOrder": 30,
    "_isFastLaunch": false,
    "category": "Accelerated computing",
    "gpuNum": 1,
    "hideHardwareSpecs": false,
    "memoryGiB": 32,
    "name": "ml.g4dn.2xlarge",
    "vcpuNum": 8
   },
   {
    "_defaultOrder": 31,
    "_isFastLaunch": false,
    "category": "Accelerated computing",
    "gpuNum": 1,
    "hideHardwareSpecs": false,
    "memoryGiB": 64,
    "name": "ml.g4dn.4xlarge",
    "vcpuNum": 16
   },
   {
    "_defaultOrder": 32,
    "_isFastLaunch": false,
    "category": "Accelerated computing",
    "gpuNum": 1,
    "hideHardwareSpecs": false,
    "memoryGiB": 128,
    "name": "ml.g4dn.8xlarge",
    "vcpuNum": 32
   },
   {
    "_defaultOrder": 33,
    "_isFastLaunch": false,
    "category": "Accelerated computing",
    "gpuNum": 4,
    "hideHardwareSpecs": false,
    "memoryGiB": 192,
    "name": "ml.g4dn.12xlarge",
    "vcpuNum": 48
   },
   {
    "_defaultOrder": 34,
    "_isFastLaunch": false,
    "category": "Accelerated computing",
    "gpuNum": 1,
    "hideHardwareSpecs": false,
    "memoryGiB": 256,
    "name": "ml.g4dn.16xlarge",
    "vcpuNum": 64
   },
   {
    "_defaultOrder": 35,
    "_isFastLaunch": false,
    "category": "Accelerated computing",
    "gpuNum": 1,
    "hideHardwareSpecs": false,
    "memoryGiB": 61,
    "name": "ml.p3.2xlarge",
    "vcpuNum": 8
   },
   {
    "_defaultOrder": 36,
    "_isFastLaunch": false,
    "category": "Accelerated computing",
    "gpuNum": 4,
    "hideHardwareSpecs": false,
    "memoryGiB": 244,
    "name": "ml.p3.8xlarge",
    "vcpuNum": 32
   },
   {
    "_defaultOrder": 37,
    "_isFastLaunch": false,
    "category": "Accelerated computing",
    "gpuNum": 8,
    "hideHardwareSpecs": false,
    "memoryGiB": 488,
    "name": "ml.p3.16xlarge",
    "vcpuNum": 64
   },
   {
    "_defaultOrder": 38,
    "_isFastLaunch": false,
    "category": "Accelerated computing",
    "gpuNum": 8,
    "hideHardwareSpecs": false,
    "memoryGiB": 768,
    "name": "ml.p3dn.24xlarge",
    "vcpuNum": 96
   },
   {
    "_defaultOrder": 39,
    "_isFastLaunch": false,
    "category": "Memory Optimized",
    "gpuNum": 0,
    "hideHardwareSpecs": false,
    "memoryGiB": 16,
    "name": "ml.r5.large",
    "vcpuNum": 2
   },
   {
    "_defaultOrder": 40,
    "_isFastLaunch": false,
    "category": "Memory Optimized",
    "gpuNum": 0,
    "hideHardwareSpecs": false,
    "memoryGiB": 32,
    "name": "ml.r5.xlarge",
    "vcpuNum": 4
   },
   {
    "_defaultOrder": 41,
    "_isFastLaunch": false,
    "category": "Memory Optimized",
    "gpuNum": 0,
    "hideHardwareSpecs": false,
    "memoryGiB": 64,
    "name": "ml.r5.2xlarge",
    "vcpuNum": 8
   },
   {
    "_defaultOrder": 42,
    "_isFastLaunch": false,
    "category": "Memory Optimized",
    "gpuNum": 0,
    "hideHardwareSpecs": false,
    "memoryGiB": 128,
    "name": "ml.r5.4xlarge",
    "vcpuNum": 16
   },
   {
    "_defaultOrder": 43,
    "_isFastLaunch": false,
    "category": "Memory Optimized",
    "gpuNum": 0,
    "hideHardwareSpecs": false,
    "memoryGiB": 256,
    "name": "ml.r5.8xlarge",
    "vcpuNum": 32
   },
   {
    "_defaultOrder": 44,
    "_isFastLaunch": false,
    "category": "Memory Optimized",
    "gpuNum": 0,
    "hideHardwareSpecs": false,
    "memoryGiB": 384,
    "name": "ml.r5.12xlarge",
    "vcpuNum": 48
   },
   {
    "_defaultOrder": 45,
    "_isFastLaunch": false,
    "category": "Memory Optimized",
    "gpuNum": 0,
    "hideHardwareSpecs": false,
    "memoryGiB": 512,
    "name": "ml.r5.16xlarge",
    "vcpuNum": 64
   },
   {
    "_defaultOrder": 46,
    "_isFastLaunch": false,
    "category": "Memory Optimized",
    "gpuNum": 0,
    "hideHardwareSpecs": false,
    "memoryGiB": 768,
    "name": "ml.r5.24xlarge",
    "vcpuNum": 96
   },
   {
    "_defaultOrder": 47,
    "_isFastLaunch": false,
    "category": "Accelerated computing",
    "gpuNum": 1,
    "hideHardwareSpecs": false,
    "memoryGiB": 16,
    "name": "ml.g5.xlarge",
    "vcpuNum": 4
   },
   {
    "_defaultOrder": 48,
    "_isFastLaunch": false,
    "category": "Accelerated computing",
    "gpuNum": 1,
    "hideHardwareSpecs": false,
    "memoryGiB": 32,
    "name": "ml.g5.2xlarge",
    "vcpuNum": 8
   },
   {
    "_defaultOrder": 49,
    "_isFastLaunch": false,
    "category": "Accelerated computing",
    "gpuNum": 1,
    "hideHardwareSpecs": false,
    "memoryGiB": 64,
    "name": "ml.g5.4xlarge",
    "vcpuNum": 16
   },
   {
    "_defaultOrder": 50,
    "_isFastLaunch": false,
    "category": "Accelerated computing",
    "gpuNum": 1,
    "hideHardwareSpecs": false,
    "memoryGiB": 128,
    "name": "ml.g5.8xlarge",
    "vcpuNum": 32
   },
   {
    "_defaultOrder": 51,
    "_isFastLaunch": false,
    "category": "Accelerated computing",
    "gpuNum": 1,
    "hideHardwareSpecs": false,
    "memoryGiB": 256,
    "name": "ml.g5.16xlarge",
    "vcpuNum": 64
   },
   {
    "_defaultOrder": 52,
    "_isFastLaunch": false,
    "category": "Accelerated computing",
    "gpuNum": 4,
    "hideHardwareSpecs": false,
    "memoryGiB": 192,
    "name": "ml.g5.12xlarge",
    "vcpuNum": 48
   },
   {
    "_defaultOrder": 53,
    "_isFastLaunch": false,
    "category": "Accelerated computing",
    "gpuNum": 4,
    "hideHardwareSpecs": false,
    "memoryGiB": 384,
    "name": "ml.g5.24xlarge",
    "vcpuNum": 96
   },
   {
    "_defaultOrder": 54,
    "_isFastLaunch": false,
    "category": "Accelerated computing",
    "gpuNum": 8,
    "hideHardwareSpecs": false,
    "memoryGiB": 768,
    "name": "ml.g5.48xlarge",
    "vcpuNum": 192
   },
   {
    "_defaultOrder": 55,
    "_isFastLaunch": false,
    "category": "Accelerated computing",
    "gpuNum": 8,
    "hideHardwareSpecs": false,
    "memoryGiB": 1152,
    "name": "ml.p4d.24xlarge",
    "vcpuNum": 96
   },
   {
    "_defaultOrder": 56,
    "_isFastLaunch": false,
    "category": "Accelerated computing",
    "gpuNum": 8,
    "hideHardwareSpecs": false,
    "memoryGiB": 1152,
    "name": "ml.p4de.24xlarge",
    "vcpuNum": 96
   }
  ],
  "instance_type": "ml.t3.medium",
  "kernelspec": {
   "display_name": "Python 3 (Data Science)",
   "language": "python",
   "name": "python3__SAGEMAKER_INTERNAL__arn:aws:sagemaker:us-east-1:081325390199:image/datascience-1.0"
  },
  "language_info": {
   "codemirror_mode": {
    "name": "ipython",
    "version": 3
   },
   "file_extension": ".py",
   "mimetype": "text/x-python",
   "name": "python",
   "nbconvert_exporter": "python",
   "pygments_lexer": "ipython3",
   "version": "3.7.10"
  }
 },
 "nbformat": 4,
 "nbformat_minor": 5
}
