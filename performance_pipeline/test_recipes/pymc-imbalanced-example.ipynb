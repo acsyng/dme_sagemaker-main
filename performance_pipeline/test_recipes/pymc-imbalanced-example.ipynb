{
 "cells": [
  {
   "cell_type": "code",
   "execution_count": 3,
   "id": "19ce3177-2e1a-4e91-96b1-5ca3aae2626d",
   "metadata": {
    "tags": []
   },
   "outputs": [
    {
     "name": "stdout",
     "output_type": "stream",
     "text": [
      "5.8.0\n",
      "Collecting git+https://github.com/pymc-devs/pymc-bart.git@main\n",
      "  Cloning https://github.com/pymc-devs/pymc-bart.git (to revision main) to /tmp/pip-req-build-eax8accf\n",
      "  Running command git clone --filter=blob:none --quiet https://github.com/pymc-devs/pymc-bart.git /tmp/pip-req-build-eax8accf\n",
      "  Resolved https://github.com/pymc-devs/pymc-bart.git to commit 709d3c4d08d5e17740db25e52b66c6e0846879c3\n",
      "  Installing build dependencies ... \u001b[?25ldone\n",
      "\u001b[?25h  Getting requirements to build wheel ... \u001b[?25ldone\n",
      "\u001b[?25h  Preparing metadata (pyproject.toml) ... \u001b[?25ldone\n",
      "\u001b[?25hBuilding wheels for collected packages: pymc-bart\n",
      "  Building wheel for pymc-bart (pyproject.toml) ... \u001b[?25ldone\n",
      "\u001b[?25h  Created wheel for pymc-bart: filename=pymc_bart-0.5.1-py3-none-any.whl size=32982 sha256=8d36a01be5c47531a19e6607c0305a6158dcd2b4890ad695a7c0fedbffd1e98e\n",
      "  Stored in directory: /tmp/pip-ephem-wheel-cache-t11r0mwc/wheels/dd/bb/fa/be5eab50aea9b866e2b73d658b13b91fe445e12c4a1a18fe7a\n",
      "Successfully built pymc-bart\n",
      "Installing collected packages: pymc-bart\n",
      "  Attempting uninstall: pymc-bart\n",
      "    Found existing installation: pymc-bart 0.5.1\n",
      "    Uninstalling pymc-bart-0.5.1:\n",
      "      Successfully uninstalled pymc-bart-0.5.1\n",
      "Successfully installed pymc-bart-0.5.1\n",
      "\u001b[33mWARNING: Running pip as the 'root' user can result in broken permissions and conflicting behaviour with the system package manager. It is recommended to use a virtual environment instead: https://pip.pypa.io/warnings/venv\u001b[0m\u001b[33m\n",
      "\u001b[0m\n",
      "\u001b[1m[\u001b[0m\u001b[34;49mnotice\u001b[0m\u001b[1;39;49m]\u001b[0m\u001b[39;49m A new release of pip is available: \u001b[0m\u001b[31;49m23.1.2\u001b[0m\u001b[39;49m -> \u001b[0m\u001b[32;49m23.2.1\u001b[0m\n",
      "\u001b[1m[\u001b[0m\u001b[34;49mnotice\u001b[0m\u001b[1;39;49m]\u001b[0m\u001b[39;49m To update, run: \u001b[0m\u001b[32;49mpip install --upgrade pip\u001b[0m\n",
      "Note: you may need to restart the kernel to use updated packages.\n",
      "0.5.1\n"
     ]
    }
   ],
   "source": [
    "try:\n",
    "    import pymc as pm\n",
    "except:\n",
    "    %pip install pymc==5.8.0    \n",
    "    import pymc as pm\n",
    "    \n",
    "print(pm.__version__)\n",
    "\n",
    "%pip install --force-reinstall --no-deps git+https://github.com/pymc-devs/pymc-bart.git@main\n",
    "#try:\n",
    "import pymc_bart as pmb\n",
    "#except:\n",
    "#    %pip install pymc-bart\n",
    "#    import pymc_bart as pmb\n",
    "    \n",
    "\n",
    "print(pmb.__version__)\n",
    "\n",
    "%matplotlib inline\n",
    "import matplotlib.pyplot as plt\n",
    "import numpy as np\n",
    "import pandas as pd\n",
    "\n",
    "from sklearn.model_selection import train_test_split\n",
    "from sklearn.metrics import roc_auc_score\n",
    "from sklearn.metrics import confusion_matrix\n",
    "\n",
    "import os\n",
    "import pickle"
   ]
  },
  {
   "cell_type": "code",
   "execution_count": 4,
   "id": "424f01da-608e-41c0-bc09-991815b3814e",
   "metadata": {
    "tags": []
   },
   "outputs": [],
   "source": [
    "# configure training/testing environment\n",
    "tree_fname = 'BART_simple_forest.pkl' # filename\n",
    "data_fname = 'BART_simple_data.pkl'\n",
    "\n",
    "generate_and_save_data = 0 # otherwise load data\n",
    "train_model = 1\n",
    "save_model = 1 # otherwise load model\n",
    "pred_data = 1\n",
    "\n",
    "# useful functions\n",
    "def get_predictions_from_trees(forests, x_te):\n",
    "    # sample from each forest in forests\n",
    "    # forests is a list of a list.\n",
    "    # the outer list contains each forest\n",
    "    # each forest contains trees. Average predictions from each tree in a forest, output each forest prediction\n",
    "    # output is x_te.shape[0] x N_forests\n",
    "    \n",
    "    pred_out = np.zeros((x_te.shape[0], len(forests)))\n",
    "    for i_forest in range(len(forests)):\n",
    "        trees = forests[i_forest]\n",
    "        temp_pred = 0\n",
    "        for tree in trees:\n",
    "            temp_pred += tree.predict(x_te)\n",
    "        pred_out[:,i_forest] = temp_pred\n",
    "    return pred_out\n",
    "\n",
    "def invlogit(x):\n",
    "    return 1/(1+np.exp(-x))\n",
    "\n",
    "def sample_posterior(forests, x_te):\n",
    "    forest_pred = get_predictions_from_trees(forests,x_te)\n",
    "    return invlogit(forest_pred)"
   ]
  },
  {
   "cell_type": "code",
   "execution_count": 33,
   "id": "29909ef1-8bd2-43ff-89a2-59e2ae000916",
   "metadata": {
    "tags": []
   },
   "outputs": [
    {
     "name": "stderr",
     "output_type": "stream",
     "text": [
      "Only 10 samples in chain.\n",
      "Sequential sampling (1 chains in 1 job)\n",
      "PGBART: [mu]\n"
     ]
    },
    {
     "data": {
      "text/html": [
       "\n",
       "<style>\n",
       "    /* Turns off some styling */\n",
       "    progress {\n",
       "        /* gets rid of default border in Firefox and Opera. */\n",
       "        border: none;\n",
       "        /* Needs to be in here for Safari polyfill so background images work as expected. */\n",
       "        background-size: auto;\n",
       "    }\n",
       "    progress:not([value]), progress:not([value])::-webkit-progress-bar {\n",
       "        background: repeating-linear-gradient(45deg, #7e7e7e, #7e7e7e 10px, #5c5c5c 10px, #5c5c5c 20px);\n",
       "    }\n",
       "    .progress-bar-interrupted, .progress-bar-interrupted::-webkit-progress-bar {\n",
       "        background: #F44336;\n",
       "    }\n",
       "</style>\n"
      ],
      "text/plain": [
       "<IPython.core.display.HTML object>"
      ]
     },
     "metadata": {},
     "output_type": "display_data"
    },
    {
     "data": {
      "text/html": [
       "\n",
       "    <div>\n",
       "      <progress value='12' class='' max='12' style='width:300px; height:20px; vertical-align: middle;'></progress>\n",
       "      100.00% [12/12 01:27&lt;00:00 Sampling chain 0, 0 divergences]\n",
       "    </div>\n",
       "    "
      ],
      "text/plain": [
       "<IPython.core.display.HTML object>"
      ]
     },
     "metadata": {},
     "output_type": "display_data"
    },
    {
     "name": "stderr",
     "output_type": "stream",
     "text": [
      "Sampling 1 chain for 2 tune and 10 draw iterations (2 + 10 draws total) took 88 seconds.\n",
      "The number of samples is too small to check convergence reliably.\n",
      "/tmp/ipykernel_23118/2814940427.py:64: UserWarning: The effect of Potentials on other parameters is ignored during posterior predictive sampling. This is likely to lead to invalid or biased predictive samples.\n",
      "  posterior_train = pm.sample_posterior_predictive(trace=idata_train,\n",
      "Sampling: []\n"
     ]
    },
    {
     "data": {
      "text/html": [
       "\n",
       "<style>\n",
       "    /* Turns off some styling */\n",
       "    progress {\n",
       "        /* gets rid of default border in Firefox and Opera. */\n",
       "        border: none;\n",
       "        /* Needs to be in here for Safari polyfill so background images work as expected. */\n",
       "        background-size: auto;\n",
       "    }\n",
       "    progress:not([value]), progress:not([value])::-webkit-progress-bar {\n",
       "        background: repeating-linear-gradient(45deg, #7e7e7e, #7e7e7e 10px, #5c5c5c 10px, #5c5c5c 20px);\n",
       "    }\n",
       "    .progress-bar-interrupted, .progress-bar-interrupted::-webkit-progress-bar {\n",
       "        background: #F44336;\n",
       "    }\n",
       "</style>\n"
      ],
      "text/plain": [
       "<IPython.core.display.HTML object>"
      ]
     },
     "metadata": {},
     "output_type": "display_data"
    },
    {
     "data": {
      "text/html": [
       "\n",
       "    <div>\n",
       "      <progress value='10' class='' max='10' style='width:300px; height:20px; vertical-align: middle;'></progress>\n",
       "      100.00% [10/10 00:00&lt;00:00]\n",
       "    </div>\n",
       "    "
      ],
      "text/plain": [
       "<IPython.core.display.HTML object>"
      ]
     },
     "metadata": {},
     "output_type": "display_data"
    },
    {
     "data": {
      "image/png": "[encoded data removed]",
      "text/plain": [
       "<Figure size 640x480 with 1 Axes>"
      ]
     },
     "metadata": {},
     "output_type": "display_data"
    }
   ],
   "source": [
    "if generate_and_save_data:\n",
    "    n1 = 10550 # n in each class\n",
    "    n2 = 150\n",
    "    n_dim = 10\n",
    "\n",
    "    mean1 = 1\n",
    "    std1 = 1\n",
    "    mean2 = 2\n",
    "    std2 = 1\n",
    "\n",
    "    x1 = np.random.randn(n1,n_dim)*std1 + mean1\n",
    "    y1 = np.zeros((n1,))\n",
    "    x2 = np.random.randn(n2,n_dim)*std2 + mean2\n",
    "    y2 = np.ones((n2,))\n",
    "\n",
    "    x_in = np.concatenate((x1,x2),axis=0)\n",
    "    y_in = np.concatenate((y1,y2),axis=0)\n",
    "\n",
    "    x_tr, x_te, y_tr, y_te = train_test_split(x_in, y_in, test_size=0.33)\n",
    "\n",
    "    plt.figure()\n",
    "    plt.hist(x1[:,0],bins=20,histtype='step',density=True);\n",
    "    plt.hist(x2[:,0],bins=20,histtype='step',density=True);\n",
    "\n",
    "    with open(data_fname,'wb') as f:\n",
    "        pickle.dump({'x_tr':x_tr,'y_tr':y_tr,'x_te':x_te,'y_te':y_te},f)\n",
    "    \n",
    "else:\n",
    "    with open(data_fname,'rb') as f:\n",
    "        data = pickle.load(f)\n",
    "        \n",
    "    x_tr = data['x_tr']\n",
    "    y_tr = data['y_tr']\n",
    "    x_te = data['x_te']\n",
    "    y_te = data['y_te']\n",
    "    \n",
    "# set scale weight based on y_tr\n",
    "weights  = np.ones((x_tr.shape[0],))   \n",
    "scale_pos_weight = np.sum(y_tr==0)/np.sum(y_tr==1)\n",
    "weights[y_tr==1] = scale_pos_weight\n",
    "\n",
    "# set split prior\n",
    "#split_prior = np.ones(x_tr.shape[1])\n",
    "split_prior = np.zeros(x_tr.shape[1])\n",
    "split_prior[0]=1\n",
    "split_prior[1]=1\n",
    "\n",
    "# define and train model\n",
    "if train_model:\n",
    "    with pm.Model() as bart_model:\n",
    "        X = pm.MutableData(\"X\", x_tr, dims=(\"obs\",\"feature\"))\n",
    "        Y = y_tr\n",
    "                \n",
    "        mu = pmb.BART(\"mu\", X=X, Y=Y, m=10, dims=\"obs\", shape=X.shape[0], split_prior=split_prior)#np.random.rand(x_tr.shape[1]))\n",
    "        \n",
    "        p = pm.Deterministic('p', pm.math.invlogit(mu), dims=\"obs\")\n",
    "        \n",
    "        pm.Potential('weights', \n",
    "             weights * pm.Bernoulli(\"y\", p=p, observed=Y, dims=\"obs\",shape=p.shape[0]))\n",
    "        #y = pm.Bernoulli(\"y\", p=p, observed=Y, dims=\"obs\",shape=p.shape[0])#shape=p.shape)\n",
    "\n",
    "        idata_train = pm.sample(tune=2,draws=10,chains=1)\n",
    "        \n",
    "        posterior_train = pm.sample_posterior_predictive(trace=idata_train,\n",
    "                                                              var_names=[\"p\"])\n",
    "    \n",
    "    prior_train = posterior_train.posterior_predictive.p.mean(axis=1).mean(axis=0).T\n",
    "\n",
    "    plt.figure()\n",
    "    plt.hist(prior_train[y_tr==0],histtype='step',bins=20,density=True);\n",
    "    plt.hist(prior_train[y_tr==1],histtype='step',bins=20,density=True);"
   ]
  },
  {
   "cell_type": "code",
   "execution_count": 34,
   "id": "22e64755-b55b-4699-8db1-ec00cc2df313",
   "metadata": {
    "tags": []
   },
   "outputs": [
    {
     "name": "stdout",
     "output_type": "stream",
     "text": [
      "[[1813 1668]\n",
      " [  16   34]]\n"
     ]
    },
    {
     "data": {
      "image/png": "[encoded data removed]",
      "text/plain": [
       "<Figure size 640x480 with 1 Axes>"
      ]
     },
     "metadata": {},
     "output_type": "display_data"
    }
   ],
   "source": [
    "forests = []\n",
    "for i in range(len(pmb.BART.all_trees)):\n",
    "    trees = []\n",
    "    for j in range(len(pmb.BART.all_trees[i])):\n",
    "        for k in range(pmb.BART.all_trees[i][j].shape[0]):\n",
    "            trees.append(pmb.BART.all_trees[i][j][k])\n",
    "\n",
    "    forests.append(trees)\n",
    "\n",
    "if pred_data:\n",
    "    x_in = x_te\n",
    "    y_in = y_te\n",
    "    \n",
    "    pred_per_forest = sample_posterior(forests,x_in)\n",
    "    pred_mean = np.mean(pred_per_forest,axis=1)\n",
    "\n",
    "    plt.hist(pred_mean[y_in==0],histtype='step',bins=20,density=True);\n",
    "    plt.hist(pred_mean[y_in==1],histtype='step',bins=20,density=True);\n",
    "    print(confusion_matrix(y_true=y_te, y_pred=pred_mean>np.percentile(pred_mean,50)))"
   ]
  },
  {
   "cell_type": "code",
   "execution_count": 35,
   "id": "3a5e1ea1-7891-4079-9e1a-e6dacda77f58",
   "metadata": {
    "tags": []
   },
   "outputs": [
    {
     "name": "stdout",
     "output_type": "stream",
     "text": [
      "{0: 147, 1: 189, 2: 0, 3: 0, 4: 0, 5: 0, 6: 0, 7: 0, 8: 0, 9: 0}\n"
     ]
    }
   ],
   "source": [
    "split_var_count = {}\n",
    "for i in range(x_tr.shape[1]):\n",
    "    split_var_count[i] = 0\n",
    "    \n",
    "for i in range(len(forests)):\n",
    "    for j in range(len(forests[i])):\n",
    "        for split_var in forests[i][j].get_split_variables():\n",
    "            split_var_count[split_var] = split_var_count[split_var] + 1\n",
    "\n",
    "print(split_var_count)"
   ]
  },
  {
   "cell_type": "code",
   "execution_count": null,
   "id": "04ef5166-e7fc-439b-8194-f5c492b39cba",
   "metadata": {
    "tags": []
   },
   "outputs": [],
   "source": [
    "if save_model:\n",
    "    # extract trees in a nice structure....\n",
    "    forests = []\n",
    "\n",
    "    for i in range(len(pmb.BART.all_trees)):\n",
    "        trees = []\n",
    "        for j in range(len(pmb.BART.all_trees[i])):\n",
    "            for k in range(pmb.BART.all_trees[i][j].shape[0]):\n",
    "                trees.append(pmb.BART.all_trees[i][j][k])\n",
    "\n",
    "        forests.append(trees)\n",
    "    \n",
    "    with open(tree_fname, 'wb') as f:\n",
    "        pickle.dump({'forests':forests},f)\n",
    "else:\n",
    "    with open(tree_fname,'rb') as f:\n",
    "        forest_data = pickle.load(f)\n",
    "    forests = forest_data['forests']"
   ]
  },
  {
   "cell_type": "code",
   "execution_count": null,
   "id": "3b69039e-9452-4770-93e1-94e0ee758231",
   "metadata": {
    "tags": []
   },
   "outputs": [],
   "source": [
    "if pred_data:\n",
    "    x_in = x_te\n",
    "    y_in = y_te\n",
    "    \n",
    "    pred_per_forest = sample_posterior(forests,x_in)\n",
    "    pred_mean = np.mean(pred_per_forest,axis=1)\n",
    "\n",
    "    plt.hist(pred_mean[y_in==0],histtype='step',bins=20,density=True);\n",
    "    plt.hist(pred_mean[y_in==1],histtype='step',bins=20,density=True);\n",
    "    print(confusion_matrix(y_true=y_te, y_pred=pred_mean>np.percentile(pred_mean,50)))"
   ]
  },
  {
   "cell_type": "code",
   "execution_count": null,
   "id": "b238f475-1dc9-4634-939b-15f27b6c0612",
   "metadata": {},
   "outputs": [],
   "source": [
    "    "
   ]
  }
 ],
 "metadata": {
  "availableInstances": [
   {
    "_defaultOrder": 0,
    "_isFastLaunch": true,
    "category": "General purpose",
    "gpuNum": 0,
    "hideHardwareSpecs": false,
    "memoryGiB": 4,
    "name": "ml.t3.medium",
    "vcpuNum": 2
   },
   {
    "_defaultOrder": 1,
    "_isFastLaunch": false,
    "category": "General purpose",
    "gpuNum": 0,
    "hideHardwareSpecs": false,
    "memoryGiB": 8,
    "name": "ml.t3.large",
    "vcpuNum": 2
   },
   {
    "_defaultOrder": 2,
    "_isFastLaunch": false,
    "category": "General purpose",
    "gpuNum": 0,
    "hideHardwareSpecs": false,
    "memoryGiB": 16,
    "name": "ml.t3.xlarge",
    "vcpuNum": 4
   },
   {
    "_defaultOrder": 3,
    "_isFastLaunch": false,
    "category": "General purpose",
    "gpuNum": 0,
    "hideHardwareSpecs": false,
    "memoryGiB": 32,
    "name": "ml.t3.2xlarge",
    "vcpuNum": 8
   },
   {
    "_defaultOrder": 4,
    "_isFastLaunch": true,
    "category": "General purpose",
    "gpuNum": 0,
    "hideHardwareSpecs": false,
    "memoryGiB": 8,
    "name": "ml.m5.large",
    "vcpuNum": 2
   },
   {
    "_defaultOrder": 5,
    "_isFastLaunch": false,
    "category": "General purpose",
    "gpuNum": 0,
    "hideHardwareSpecs": false,
    "memoryGiB": 16,
    "name": "ml.m5.xlarge",
    "vcpuNum": 4
   },
   {
    "_defaultOrder": 6,
    "_isFastLaunch": false,
    "category": "General purpose",
    "gpuNum": 0,
    "hideHardwareSpecs": false,
    "memoryGiB": 32,
    "name": "ml.m5.2xlarge",
    "vcpuNum": 8
   },
   {
    "_defaultOrder": 7,
    "_isFastLaunch": false,
    "category": "General purpose",
    "gpuNum": 0,
    "hideHardwareSpecs": false,
    "memoryGiB": 64,
    "name": "ml.m5.4xlarge",
    "vcpuNum": 16
   },
   {
    "_defaultOrder": 8,
    "_isFastLaunch": false,
    "category": "General purpose",
    "gpuNum": 0,
    "hideHardwareSpecs": false,
    "memoryGiB": 128,
    "name": "ml.m5.8xlarge",
    "vcpuNum": 32
   },
   {
    "_defaultOrder": 9,
    "_isFastLaunch": false,
    "category": "General purpose",
    "gpuNum": 0,
    "hideHardwareSpecs": false,
    "memoryGiB": 192,
    "name": "ml.m5.12xlarge",
    "vcpuNum": 48
   },
   {
    "_defaultOrder": 10,
    "_isFastLaunch": false,
    "category": "General purpose",
    "gpuNum": 0,
    "hideHardwareSpecs": false,
    "memoryGiB": 256,
    "name": "ml.m5.16xlarge",
    "vcpuNum": 64
   },
   {
    "_defaultOrder": 11,
    "_isFastLaunch": false,
    "category": "General purpose",
    "gpuNum": 0,
    "hideHardwareSpecs": false,
    "memoryGiB": 384,
    "name": "ml.m5.24xlarge",
    "vcpuNum": 96
   },
   {
    "_defaultOrder": 12,
    "_isFastLaunch": false,
    "category": "General purpose",
    "gpuNum": 0,
    "hideHardwareSpecs": false,
    "memoryGiB": 8,
    "name": "ml.m5d.large",
    "vcpuNum": 2
   },
   {
    "_defaultOrder": 13,
    "_isFastLaunch": false,
    "category": "General purpose",
    "gpuNum": 0,
    "hideHardwareSpecs": false,
    "memoryGiB": 16,
    "name": "ml.m5d.xlarge",
    "vcpuNum": 4
   },
   {
    "_defaultOrder": 14,
    "_isFastLaunch": false,
    "category": "General purpose",
    "gpuNum": 0,
    "hideHardwareSpecs": false,
    "memoryGiB": 32,
    "name": "ml.m5d.2xlarge",
    "vcpuNum": 8
   },
   {
    "_defaultOrder": 15,
    "_isFastLaunch": false,
    "category": "General purpose",
    "gpuNum": 0,
    "hideHardwareSpecs": false,
    "memoryGiB": 64,
    "name": "ml.m5d.4xlarge",
    "vcpuNum": 16
   },
   {
    "_defaultOrder": 16,
    "_isFastLaunch": false,
    "category": "General purpose",
    "gpuNum": 0,
    "hideHardwareSpecs": false,
    "memoryGiB": 128,
    "name": "ml.m5d.8xlarge",
    "vcpuNum": 32
   },
   {
    "_defaultOrder": 17,
    "_isFastLaunch": false,
    "category": "General purpose",
    "gpuNum": 0,
    "hideHardwareSpecs": false,
    "memoryGiB": 192,
    "name": "ml.m5d.12xlarge",
    "vcpuNum": 48
   },
   {
    "_defaultOrder": 18,
    "_isFastLaunch": false,
    "category": "General purpose",
    "gpuNum": 0,
    "hideHardwareSpecs": false,
    "memoryGiB": 256,
    "name": "ml.m5d.16xlarge",
    "vcpuNum": 64
   },
   {
    "_defaultOrder": 19,
    "_isFastLaunch": false,
    "category": "General purpose",
    "gpuNum": 0,
    "hideHardwareSpecs": false,
    "memoryGiB": 384,
    "name": "ml.m5d.24xlarge",
    "vcpuNum": 96
   },
   {
    "_defaultOrder": 20,
    "_isFastLaunch": false,
    "category": "General purpose",
    "gpuNum": 0,
    "hideHardwareSpecs": true,
    "memoryGiB": 0,
    "name": "ml.geospatial.interactive",
    "supportedImageNames": [
     "sagemaker-geospatial-v1-0"
    ],
    "vcpuNum": 0
   },
   {
    "_defaultOrder": 21,
    "_isFastLaunch": true,
    "category": "Compute optimized",
    "gpuNum": 0,
    "hideHardwareSpecs": false,
    "memoryGiB": 4,
    "name": "ml.c5.large",
    "vcpuNum": 2
   },
   {
    "_defaultOrder": 22,
    "_isFastLaunch": false,
    "category": "Compute optimized",
    "gpuNum": 0,
    "hideHardwareSpecs": false,
    "memoryGiB": 8,
    "name": "ml.c5.xlarge",
    "vcpuNum": 4
   },
   {
    "_defaultOrder": 23,
    "_isFastLaunch": false,
    "category": "Compute optimized",
    "gpuNum": 0,
    "hideHardwareSpecs": false,
    "memoryGiB": 16,
    "name": "ml.c5.2xlarge",
    "vcpuNum": 8
   },
   {
    "_defaultOrder": 24,
    "_isFastLaunch": false,
    "category": "Compute optimized",
    "gpuNum": 0,
    "hideHardwareSpecs": false,
    "memoryGiB": 32,
    "name": "ml.c5.4xlarge",
    "vcpuNum": 16
   },
   {
    "_defaultOrder": 25,
    "_isFastLaunch": false,
    "category": "Compute optimized",
    "gpuNum": 0,
    "hideHardwareSpecs": false,
    "memoryGiB": 72,
    "name": "ml.c5.9xlarge",
    "vcpuNum": 36
   },
   {
    "_defaultOrder": 26,
    "_isFastLaunch": false,
    "category": "Compute optimized",
    "gpuNum": 0,
    "hideHardwareSpecs": false,
    "memoryGiB": 96,
    "name": "ml.c5.12xlarge",
    "vcpuNum": 48
   },
   {
    "_defaultOrder": 27,
    "_isFastLaunch": false,
    "category": "Compute optimized",
    "gpuNum": 0,
    "hideHardwareSpecs": false,
    "memoryGiB": 144,
    "name": "ml.c5.18xlarge",
    "vcpuNum": 72
   },
   {
    "_defaultOrder": 28,
    "_isFastLaunch": false,
    "category": "Compute optimized",
    "gpuNum": 0,
    "hideHardwareSpecs": false,
    "memoryGiB": 192,
    "name": "ml.c5.24xlarge",
    "vcpuNum": 96
   },
   {
    "_defaultOrder": 29,
    "_isFastLaunch": true,
    "category": "Accelerated computing",
    "gpuNum": 1,
    "hideHardwareSpecs": false,
    "memoryGiB": 16,
    "name": "ml.g4dn.xlarge",
    "vcpuNum": 4
   },
   {
    "_defaultOrder": 30,
    "_isFastLaunch": false,
    "category": "Accelerated computing",
    "gpuNum": 1,
    "hideHardwareSpecs": false,
    "memoryGiB": 32,
    "name": "ml.g4dn.2xlarge",
    "vcpuNum": 8
   },
   {
    "_defaultOrder": 31,
    "_isFastLaunch": false,
    "category": "Accelerated computing",
    "gpuNum": 1,
    "hideHardwareSpecs": false,
    "memoryGiB": 64,
    "name": "ml.g4dn.4xlarge",
    "vcpuNum": 16
   },
   {
    "_defaultOrder": 32,
    "_isFastLaunch": false,
    "category": "Accelerated computing",
    "gpuNum": 1,
    "hideHardwareSpecs": false,
    "memoryGiB": 128,
    "name": "ml.g4dn.8xlarge",
    "vcpuNum": 32
   },
   {
    "_defaultOrder": 33,
    "_isFastLaunch": false,
    "category": "Accelerated computing",
    "gpuNum": 4,
    "hideHardwareSpecs": false,
    "memoryGiB": 192,
    "name": "ml.g4dn.12xlarge",
    "vcpuNum": 48
   },
   {
    "_defaultOrder": 34,
    "_isFastLaunch": false,
    "category": "Accelerated computing",
    "gpuNum": 1,
    "hideHardwareSpecs": false,
    "memoryGiB": 256,
    "name": "ml.g4dn.16xlarge",
    "vcpuNum": 64
   },
   {
    "_defaultOrder": 35,
    "_isFastLaunch": false,
    "category": "Accelerated computing",
    "gpuNum": 1,
    "hideHardwareSpecs": false,
    "memoryGiB": 61,
    "name": "ml.p3.2xlarge",
    "vcpuNum": 8
   },
   {
    "_defaultOrder": 36,
    "_isFastLaunch": false,
    "category": "Accelerated computing",
    "gpuNum": 4,
    "hideHardwareSpecs": false,
    "memoryGiB": 244,
    "name": "ml.p3.8xlarge",
    "vcpuNum": 32
   },
   {
    "_defaultOrder": 37,
    "_isFastLaunch": false,
    "category": "Accelerated computing",
    "gpuNum": 8,
    "hideHardwareSpecs": false,
    "memoryGiB": 488,
    "name": "ml.p3.16xlarge",
    "vcpuNum": 64
   },
   {
    "_defaultOrder": 38,
    "_isFastLaunch": false,
    "category": "Accelerated computing",
    "gpuNum": 8,
    "hideHardwareSpecs": false,
    "memoryGiB": 768,
    "name": "ml.p3dn.24xlarge",
    "vcpuNum": 96
   },
   {
    "_defaultOrder": 39,
    "_isFastLaunch": false,
    "category": "Memory Optimized",
    "gpuNum": 0,
    "hideHardwareSpecs": false,
    "memoryGiB": 16,
    "name": "ml.r5.large",
    "vcpuNum": 2
   },
   {
    "_defaultOrder": 40,
    "_isFastLaunch": false,
    "category": "Memory Optimized",
    "gpuNum": 0,
    "hideHardwareSpecs": false,
    "memoryGiB": 32,
    "name": "ml.r5.xlarge",
    "vcpuNum": 4
   },
   {
    "_defaultOrder": 41,
    "_isFastLaunch": false,
    "category": "Memory Optimized",
    "gpuNum": 0,
    "hideHardwareSpecs": false,
    "memoryGiB": 64,
    "name": "ml.r5.2xlarge",
    "vcpuNum": 8
   },
   {
    "_defaultOrder": 42,
    "_isFastLaunch": false,
    "category": "Memory Optimized",
    "gpuNum": 0,
    "hideHardwareSpecs": false,
    "memoryGiB": 128,
    "name": "ml.r5.4xlarge",
    "vcpuNum": 16
   },
   {
    "_defaultOrder": 43,
    "_isFastLaunch": false,
    "category": "Memory Optimized",
    "gpuNum": 0,
    "hideHardwareSpecs": false,
    "memoryGiB": 256,
    "name": "ml.r5.8xlarge",
    "vcpuNum": 32
   },
   {
    "_defaultOrder": 44,
    "_isFastLaunch": false,
    "category": "Memory Optimized",
    "gpuNum": 0,
    "hideHardwareSpecs": false,
    "memoryGiB": 384,
    "name": "ml.r5.12xlarge",
    "vcpuNum": 48
   },
   {
    "_defaultOrder": 45,
    "_isFastLaunch": false,
    "category": "Memory Optimized",
    "gpuNum": 0,
    "hideHardwareSpecs": false,
    "memoryGiB": 512,
    "name": "ml.r5.16xlarge",
    "vcpuNum": 64
   },
   {
    "_defaultOrder": 46,
    "_isFastLaunch": false,
    "category": "Memory Optimized",
    "gpuNum": 0,
    "hideHardwareSpecs": false,
    "memoryGiB": 768,
    "name": "ml.r5.24xlarge",
    "vcpuNum": 96
   },
   {
    "_defaultOrder": 47,
    "_isFastLaunch": false,
    "category": "Accelerated computing",
    "gpuNum": 1,
    "hideHardwareSpecs": false,
    "memoryGiB": 16,
    "name": "ml.g5.xlarge",
    "vcpuNum": 4
   },
   {
    "_defaultOrder": 48,
    "_isFastLaunch": false,
    "category": "Accelerated computing",
    "gpuNum": 1,
    "hideHardwareSpecs": false,
    "memoryGiB": 32,
    "name": "ml.g5.2xlarge",
    "vcpuNum": 8
   },
   {
    "_defaultOrder": 49,
    "_isFastLaunch": false,
    "category": "Accelerated computing",
    "gpuNum": 1,
    "hideHardwareSpecs": false,
    "memoryGiB": 64,
    "name": "ml.g5.4xlarge",
    "vcpuNum": 16
   },
   {
    "_defaultOrder": 50,
    "_isFastLaunch": false,
    "category": "Accelerated computing",
    "gpuNum": 1,
    "hideHardwareSpecs": false,
    "memoryGiB": 128,
    "name": "ml.g5.8xlarge",
    "vcpuNum": 32
   },
   {
    "_defaultOrder": 51,
    "_isFastLaunch": false,
    "category": "Accelerated computing",
    "gpuNum": 1,
    "hideHardwareSpecs": false,
    "memoryGiB": 256,
    "name": "ml.g5.16xlarge",
    "vcpuNum": 64
   },
   {
    "_defaultOrder": 52,
    "_isFastLaunch": false,
    "category": "Accelerated computing",
    "gpuNum": 4,
    "hideHardwareSpecs": false,
    "memoryGiB": 192,
    "name": "ml.g5.12xlarge",
    "vcpuNum": 48
   },
   {
    "_defaultOrder": 53,
    "_isFastLaunch": false,
    "category": "Accelerated computing",
    "gpuNum": 4,
    "hideHardwareSpecs": false,
    "memoryGiB": 384,
    "name": "ml.g5.24xlarge",
    "vcpuNum": 96
   },
   {
    "_defaultOrder": 54,
    "_isFastLaunch": false,
    "category": "Accelerated computing",
    "gpuNum": 8,
    "hideHardwareSpecs": false,
    "memoryGiB": 768,
    "name": "ml.g5.48xlarge",
    "vcpuNum": 192
   },
   {
    "_defaultOrder": 55,
    "_isFastLaunch": false,
    "category": "Accelerated computing",
    "gpuNum": 8,
    "hideHardwareSpecs": false,
    "memoryGiB": 1152,
    "name": "ml.p4d.24xlarge",
    "vcpuNum": 96
   },
   {
    "_defaultOrder": 56,
    "_isFastLaunch": false,
    "category": "Accelerated computing",
    "gpuNum": 8,
    "hideHardwareSpecs": false,
    "memoryGiB": 1152,
    "name": "ml.p4de.24xlarge",
    "vcpuNum": 96
   }
  ],
  "instance_type": "ml.t3.medium",
  "kernelspec": {
   "display_name": "Python 3 (Data Science 3.0)",
   "language": "python",
   "name": "python3__SAGEMAKER_INTERNAL__arn:aws:sagemaker:us-east-1:081325390199:image/sagemaker-data-science-310-v1"
  },
  "language_info": {
   "codemirror_mode": {
    "name": "ipython",
    "version": 3
   },
   "file_extension": ".py",
   "mimetype": "text/x-python",
   "name": "python",
   "nbconvert_exporter": "python",
   "pygments_lexer": "ipython3",
   "version": "3.10.6"
  }
 },
 "nbformat": 4,
 "nbformat_minor": 5
}
