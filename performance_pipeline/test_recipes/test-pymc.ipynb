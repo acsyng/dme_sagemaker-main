{
 "cells": [
  {
   "cell_type": "code",
   "execution_count": null,
   "id": "866bd858-c033-405c-86cf-add08ded6431",
   "metadata": {
    "tags": []
   },
   "outputs": [],
   "source": [
    "try:\n",
    "    import pymc as pm\n",
    "except:\n",
    "    %pip install pymc==5.8.0    \n",
    "    import pymc as pm\n",
    "    \n",
    "print(pm.__version__)\n",
    "\n",
    "try:\n",
    "    import pymc_bart as pmb\n",
    "except:\n",
    "    %pip install pymc-bart\n",
    "    import pymc_bart as pmb\n",
    "    \n",
    "try:\n",
    "    import cloudpickle\n",
    "except:\n",
    "    %pip install cloudpickle\n",
    "    import cloudpickle\n",
    "    \n",
    "try:\n",
    "    import pymc_experimental\n",
    "except:\n",
    "    %pip install pymc-experimental==0.0.11\n",
    "    import pymc_experimental\n",
    "    \n",
    "print(cloudpickle.__version__)\n",
    "\n",
    "%matplotlib inline\n",
    "import arviz as az\n",
    "import matplotlib.pyplot as plt\n",
    "import numpy as np\n",
    "import pandas as pd\n",
    "\n",
    "from sklearn.model_selection import train_test_split\n",
    "from sklearn.metrics import roc_auc_score\n",
    "\n",
    "import boto3\n",
    "from sagemaker import get_execution_role\n",
    "import os\n",
    "import pickle\n",
    "import xgboost\n",
    "\n",
    "from sklearn.metrics import confusion_matrix\n",
    "\n",
    "import sys\n",
    "from sagemaker.session import Session\n",
    "\n",
    "# need to add dme_sagemaker to path to load in libraries\n",
    "sys.path.append(\"/root/dme_sagemaker/dme_sagemaker\")"
   ]
  },
  {
   "cell_type": "code",
   "execution_count": null,
   "id": "0630550b-d699-4ee8-a012-6a3444be2893",
   "metadata": {
    "tags": []
   },
   "outputs": [],
   "source": [
    "# read inputs\n",
    "# code below is to get data from s3 bucket...?\n",
    "role = get_execution_role() # not necessary\n",
    "region = boto3.Session().region_name # not necessary\n",
    "bucket='us.com.syngenta.ap.nonprod' # Replace with your s3 bucket name\n",
    "\n",
    "df_all_melt = pd.DataFrame()\n",
    "for yr in ['2020','2021','2022']:\n",
    "    fpath = 'uat/dme/performance/compute_pred_adv_data_collected/data/SOY_NA_SUMMER/SingleExp/{}'.format(yr) # fpath within bucket\n",
    "    fname = 'pred_adv_data_collected.csv' # filename\n",
    "    data_location = 's3://{}/{}/{}'.format(bucket,fpath,fname)\n",
    "    df_temp = pd.read_csv(data_location)\n",
    "    df_all_melt = pd.concat((df_all_melt,df_temp),axis=0)"
   ]
  },
  {
   "cell_type": "code",
   "execution_count": null,
   "id": "092d9a6e-5a5a-4bf2-8d42-0a763edd9d28",
   "metadata": {
    "tags": []
   },
   "outputs": [],
   "source": [
    "# pivot table, get appropriate stage\n",
    "# set index columns previously used to melt data\n",
    "melt_cols = ['ap_data_sector','analysis_year','entry_identifier',\\\n",
    "             'material_type','decision_group_rm','technology','trait','var']\n",
    "\n",
    "#if DKU_DST_ap_data_sector == 'SOY_NA_SUMMER':\n",
    "    #melt_cols.remove('source_id')\n",
    "\n",
    "melt_no_stack_cols = melt_cols.copy()\n",
    "melt_no_stack_cols.remove('trait')\n",
    "melt_no_stack_cols.remove('var')\n",
    "\n",
    "# set some inputs and clean up some columns\n",
    "if DKU_DST_ap_data_sector == 'CORN_NA_SUMMER' or DKU_DST_ap_data_sector == 'SOY_NA_SUMMER':\n",
    "    yield_trait = 'YGSMN'\n",
    "elif DKU_DST_ap_data_sector == 'CORN_EAME_SUMMER':\n",
    "    yield_trait = 'YSDMN'\n",
    "\n",
    "df_all_melt['technology'] = df_all_melt['technology'].fillna(value='conv')\n",
    "\n",
    "# update type of some cols\n",
    "float_cols = ['stage','decision_group_rm']\n",
    "for col in float_cols:\n",
    "    df_all_melt[col] = df_all_melt[col].astype(float)\n",
    "\n",
    "# replace Nan's for some cols\n",
    "df_all_melt['trait'][df_all_melt['trait'].isna()] = ''\n",
    "#df_all_melt['decision_group'][df_all_melt['decision_group'].isna()] = 'na'\n",
    "df_all_melt[melt_no_stack_cols] = df_all_melt[melt_no_stack_cols].fillna(value=-1045)\n",
    "\n",
    "\n",
    "# fix strings to other tpyes\n",
    "for as_str, as_bool in zip(['False','True'],[0, 1]):\n",
    "    df_all_melt['value'][df_all_melt['value'] == as_str] = as_bool\n",
    "\n",
    "# shorten some variable names\n",
    "var_mapper = {'result_numeric_value':'result'}\n",
    "for var in var_mapper:\n",
    "    df_all_melt['var'][df_all_melt['var']==var]=var_mapper[var]"
   ]
  },
  {
   "cell_type": "code",
   "execution_count": null,
   "id": "b64ad838-05be-4dc1-93d6-955d05ab0791",
   "metadata": {
    "tags": []
   },
   "outputs": [],
   "source": [
    "### condense df_all_melt to avoid memory issues when pivoting\n",
    "df_all_melt = df_all_melt[(df_all_melt['var'] == 'result_diff') | (df_all_melt['var']=='current_stage') | (df_all_melt['var'] == 'was_adv')]"
   ]
  },
  {
   "cell_type": "code",
   "execution_count": null,
   "id": "1592bb93-a77e-481c-b4fb-a63c6d2d41ec",
   "metadata": {
    "tags": []
   },
   "outputs": [],
   "source": [
    "# -------------------------------------------------------------------------------- NOTEBOOK-CELL: CODE\n",
    "# pivot dataframe by trait and var (only care about current year's data for now)\n",
    "#df_all_melt['value'] = df_all_melt['value'].astype(float)\n",
    "\n",
    "df_all = df_all_melt.pivot_table(values=['value'],index=melt_no_stack_cols,columns=['var','trait'],\n",
    "                                      aggfunc={'value':'first'}).reset_index()\n",
    "# rename columns and reset index\n",
    "df_all.columns = ['_'.join(filter(None,col_tuple)).replace('value','').replace('alpha_','').strip('_') for col_tuple in df_all.columns]\n",
    "df_all = df_all.rename_axis(None, axis=1)\n",
    "\n",
    "# update datetype for certain columns\n",
    "type_map = {'prediction':float, 'stderr':float, 'result':float,\n",
    "            'result_diff':float,'rm_estimate':float, 'e_rm':float,\n",
    "            'bvaln':float, 'sbssn':float,\n",
    "            'prev_stage':float, 'current_stage':float,'next_stage':float,'third_stage':float,'selection_remark':float,\n",
    "            'was_adv':bool,'was_adv_next':bool}\n",
    "\n",
    "for key in type_map.keys():\n",
    "    cols_to_update = list(df_all.columns[[key in col for col in df_all.columns]])\n",
    "    df_all[cols_to_update] = df_all[cols_to_update].astype(type_map[key])"
   ]
  },
  {
   "cell_type": "code",
   "execution_count": null,
   "id": "1f0b5c3a-98aa-4711-be73-19aaaeaadf1a",
   "metadata": {
    "tags": []
   },
   "outputs": [],
   "source": [
    "# -------------------------------------------------------------------------------- NOTEBOOK-CELL: CODE\n",
    "def process_harvt(row_in):\n",
    "    if isinstance(row_in,str):\n",
    "        return 'drop' in row_in.lower()\n",
    "    else:\n",
    "        return False\n",
    "\n",
    "#### FILTER TO DESIRED DATA for training\n",
    "# filter materials: want stages 1-4, material type is parent for corn\n",
    "# want stages 2-5, material type is entry for soy\n",
    "if DKU_DST_ap_data_sector == \"CORN_NA_SUMMER\":\n",
    "    df_piv = df_all[(df_all['material_type']!='entry') &\n",
    "                       (df_all['current_stage'] <= 4) &\n",
    "                       (df_all['current_stage'] >= 2)]\n",
    "\n",
    "    # drop edge decision groups when training\n",
    "    df_piv = df_piv[(df_piv['decision_group_rm'] > 80) & (df_piv['decision_group_rm'] < 120)]\n",
    "\n",
    "    # drop any materials that had a selection_remark == drop for training\n",
    "    df_piv = df_piv[df_piv['selection_remark'] != 9]\n",
    "\n",
    "elif DKU_DST_ap_data_sector == 'SOY_NA_SUMMER':\n",
    "    #df_all['harvt_drop'] = df_all['harvt'].apply(process_harvt)\n",
    "    df_all['harvt_drop'] = False\n",
    "    df_piv = df_all[(df_all['material_type']=='entry') &\n",
    "                      (df_all['current_stage'] >= 3) &\n",
    "                      (df_all['current_stage'] <= 3) &\n",
    "                       (df_all['harvt_drop']==False)]\n",
    "\n",
    "    #### preprocess text traits for soy\n",
    "    extra_traits = ['decision_group_rm']\n",
    "    numeric_raw_traits = ['PLHTN','IC__N','MRTYN']\n",
    "    numeric_diff_traits = ['EMRGR',\\\n",
    "                     'SBSSN','YGSMN','HLDGR','FL_CR','GLU_R','HVAPR',\\\n",
    "                     'MI__R','PD_CR','RUR_R']\n",
    "    text_traits = ['bp_t','bsr_t','cls_t','cn3_t','dic_t',\\\n",
    "                  'dpm_t','e1_t','e3_t','fels_t','fl_ct','ll55_t',\\\n",
    "                  'met_t','mi__t','pb_ct','rr2_t',\\\n",
    "                  'stmtt','sts_t','hilct' ,'rps_t']\n",
    "\n",
    "    text_suffix = {'bsr_t':'Rbs1','fels_t':'Rcs3'}\n",
    "    text_prefix = {'fels_t':'','bp_t':'','bsr_t':'','cls_t':'','dic_t':'','dpm_t':'',\n",
    "                    'e1_t':'','e3_t':'','fels_t':'','fl_ct':'','ll55_t':'','met_t':'',\n",
    "                    'mi__t':'','pb_ct':'','pd_ct':'','rr2_t':'','stmtt':'','sts_t':''}\n",
    "\n",
    "    clean_text = {'cls_t':'_'}"
   ]
  },
  {
   "cell_type": "code",
   "execution_count": null,
   "id": "741f5750-f678-4324-8aa1-78d9231016cd",
   "metadata": {
    "tags": []
   },
   "outputs": [],
   "source": [
    "# set train and test data\n",
    "\n"
   ]
  },
  {
   "cell_type": "code",
   "execution_count": null,
   "id": "e44f5483-c51c-40fc-a4df-27b7fcdf0855",
   "metadata": {
    "tags": []
   },
   "outputs": [],
   "source": [
    "# train xgb model\n",
    "xgb_params = {'max_depth':5,\n",
    "              'reg_lambda':100,\n",
    "              'subsample':0.2,\n",
    "              'learning_rate':0.005,\n",
    "              'n_estimators':500,\n",
    "             'scale_pos_weight':10,\n",
    "             'gamma':10,\n",
    "             'booster':'gbtree'}\n",
    "\n",
    "xgb_mdl = xgboost.XGBClassifier(**xgb_params)\n",
    "xgb_mdl.fit(x_tr,y_tr)"
   ]
  },
  {
   "cell_type": "code",
   "execution_count": null,
   "id": "6aabcf1b-9f44-4813-9f55-f2dbf5d427cf",
   "metadata": {
    "tags": []
   },
   "outputs": [],
   "source": [
    "# test xgb model\n",
    "y_proba = xgb_mdl.predict_proba(x_te)[:,1]\n",
    "\n",
    "plt.figure()\n",
    "plt.hist(y_proba[y_te==0],bins=100,histtype='step',density=True)\n",
    "plt.hist(y_proba[y_te==1],bins=100,histtype='step',density=True)\n",
    "\n",
    "print(confusion_matrix(y_true=y_te, y_pred=y_proba>np.percentile(y_proba,80)))"
   ]
  },
  {
   "cell_type": "code",
   "execution_count": null,
   "id": "358fefd6-3399-41cf-96c7-484cee4cdb89",
   "metadata": {
    "tags": []
   },
   "outputs": [],
   "source": [
    "# train bart model\n",
    "with pm.Model() as bart_model:\n",
    "    X = pm.MutableData(\"X\", x_tr)\n",
    "    Y = y_tr\n",
    "    mu = pmb.BART(\"mu\", X=X, Y=Y, m=20)\n",
    "    p = pm.Deterministic('p', pm.math.invlogit(mu))\n",
    "    pm.Bernoulli(\"obs\", p=p, observed=Y, shape=mu.shape)#shape=p.shape)\n",
    "    #obs = pm.Categorical(\"obs\", p=theta.T, observed=Y)\n",
    "    idata_train = pm.sample(tune=1,draws=1,chains=1)\n",
    "    posterior_predictive_train = pm.sample_posterior_predictive(trace=idata_train,\n",
    "                                                               var_names=[\"p\",\"obs\"])\n",
    "    \n",
    "# training dataset validation\n",
    "prior_train = posterior_predictive_train.posterior_predictive.p.mean(axis=1).T\n",
    "\n",
    "plt.hist(prior_train[y_tr==0],histtype='step',bins=100,density=True);\n",
    "plt.hist(prior_train[y_tr==1],histtype='step',bins=100,density=True);\n",
    "print(confusion_matrix(y_true=y_tr, y_pred=prior_train>np.percentile(prior_train,80)))"
   ]
  },
  {
   "cell_type": "code",
   "execution_count": null,
   "id": "363d3163-36f5-46a1-b909-912b0de37d8a",
   "metadata": {
    "tags": []
   },
   "outputs": [],
   "source": [
    "# save model, trace, training data\n",
    "with open(\"BART_test_sample2.pkl\", 'wb') as f:\n",
    "    cloudpickle.dump({'model':bart_model, 'trace':idata_train,'x_tr':x_tr,'y_tr':y_tr},f)"
   ]
  },
  {
   "cell_type": "code",
   "execution_count": null,
   "id": "fe7eedf5-a234-4742-a056-bc65dc4404ac",
   "metadata": {},
   "outputs": [],
   "source": [
    "# pickle.load?\n",
    "\n"
   ]
  },
  {
   "cell_type": "code",
   "execution_count": null,
   "id": "27f66c59-0ae1-4024-ac6b-000d8f819b17",
   "metadata": {
    "tags": []
   },
   "outputs": [],
   "source": [
    "# load in model, test on test data\n",
    "\n",
    "#with open(\"BART_test_sample.pkl\",'rb') as buff:\n",
    "with open(\"BART_test_sample.pkl\",'rb') as buff:\n",
    "    data = cloudpickle.load(buff)\n",
    "    \n",
    "with data['model']:\n",
    "    pm.set_data({\"X\":x_te})\n",
    "    posterior_predictive_test = pm.sample_posterior_predictive(trace=data['trace'],\n",
    "                                                              var_names=[\"p\",\"obs\"])"
   ]
  },
  {
   "cell_type": "code",
   "execution_count": null,
   "id": "005f27c9-afad-4fc1-a275-20f4523f3a00",
   "metadata": {
    "tags": []
   },
   "outputs": [],
   "source": [
    "# test validation\n",
    "prior_test = posterior_predictive_test.posterior_predictive.p.mean(axis=1).T\n",
    "\n",
    "plt.hist(prior_test[y_te==0],histtype='step',bins=100,density=True);\n",
    "plt.hist(prior_test[y_te==1],histtype='step',bins=100,density=True);\n",
    "print(confusion_matrix(y_true=y_te, y_pred=prior_test>np.percentile(prior_test,80)))"
   ]
  },
  {
   "cell_type": "code",
   "execution_count": null,
   "id": "68ba1579-3871-40c8-9865-c9117b79717f",
   "metadata": {},
   "outputs": [],
   "source": [
    "# things to do: \n",
    "# plot P against YGSMN, HLDGR, etc. to make sure output makes some sense\n",
    "# variable importance plots\n",
    "# Validate credibility interval\n",
    "# test how # of tune-in affects output (read last N p-values, look at confusion matrices)"
   ]
  },
  {
   "cell_type": "code",
   "execution_count": null,
   "id": "a1bd384f-3e34-4907-bf35-2faa601332af",
   "metadata": {},
   "outputs": [],
   "source": []
  },
  {
   "cell_type": "code",
   "execution_count": null,
   "id": "c1b50fc8-f62a-4e28-be9b-0281eeaa23cb",
   "metadata": {},
   "outputs": [],
   "source": [
    "# code below is a simple test of BART"
   ]
  },
  {
   "cell_type": "code",
   "execution_count": null,
   "id": "51cd5a19-70a1-48b2-ac38-4447b1cf58cd",
   "metadata": {
    "tags": []
   },
   "outputs": [],
   "source": [
    "fname = 'BART_test_sample2.pkl' # filename\n",
    "\n",
    "n1 = 1050 # n in each class\n",
    "n2 = 150\n",
    "n_dim = 10\n",
    "\n",
    "mean1 = 1\n",
    "std1 = 1\n",
    "mean2 = 2\n",
    "std2 = 1\n",
    "\n",
    "x1 = np.random.randn(n1,n_dim)*std1 + mean1\n",
    "y1 = np.zeros((n1,))\n",
    "x2 = np.random.randn(n2,n_dim)*std2 + mean2\n",
    "y2 = np.ones((n2,))\n",
    "\n",
    "x_in = np.concatenate((x1,x2),axis=0)\n",
    "y_in = np.concatenate((y1,y2),axis=0)\n",
    "\n",
    "x_tr, x_te, y_tr, y_te = train_test_split(x_in, y_in, test_size=0.33)\n",
    "\n",
    "plt.figure()\n",
    "plt.hist(x1[:,0],bins=20,histtype='step',density=True);\n",
    "plt.hist(x2[:,0],bins=20,histtype='step',density=True);"
   ]
  },
  {
   "cell_type": "code",
   "execution_count": null,
   "id": "61e8fb60-9d61-4abc-bbcf-1047adc72d66",
   "metadata": {
    "tags": []
   },
   "outputs": [],
   "source": [
    "# define and train model\n",
    "with pm.Model() as bart_model:\n",
    "    X = pm.MutableData(\"X\", x_tr, dims=(\"obs\",\"feature\"))\n",
    "    Y = y_tr\n",
    "    mu = pmb.BART(\"mu\", X=X, Y=Y, m=10, dims=\"obs\", shape=X.shape[0])\n",
    "    p = pm.Deterministic('p', pm.math.invlogit(mu), dims=\"obs\")\n",
    "    pm.Bernoulli(\"y\", p=p, observed=Y, dims=\"obs\",shape=p.shape[0])#shape=p.shape)\n",
    "    idata_train = pm.sample(tune=2,draws=10,chains=1)"
   ]
  },
  {
   "cell_type": "code",
   "execution_count": null,
   "id": "c53ce393-4328-4e9f-a894-4a79f8af04c7",
   "metadata": {
    "tags": []
   },
   "outputs": [],
   "source": [
    "tree = pmb.BART.all_trees[0][0][0]\n",
    "tree.predict(x_te)"
   ]
  },
  {
   "cell_type": "code",
   "execution_count": null,
   "id": "d44b7bd8-01a5-429e-aeea-1f1c7618ab75",
   "metadata": {
    "tags": []
   },
   "outputs": [],
   "source": [
    "with open(\"tree_test.pkl\", 'wb') as f:\n",
    "    pickle.dump({'tree':tree},f)"
   ]
  },
  {
   "cell_type": "code",
   "execution_count": null,
   "id": "973b6bf1-5822-4ada-9dd8-0037ae4ae72f",
   "metadata": {},
   "outputs": [],
   "source": [
    "with open(\"tree_test.pkl\", 'rb') as f:\n",
    "    data = pickle.load(f)"
   ]
  },
  {
   "cell_type": "code",
   "execution_count": null,
   "id": "c044ee4d-07f2-4c66-b4f6-e81118703cc6",
   "metadata": {},
   "outputs": [],
   "source": [
    "data['tree'].predict(x_te)"
   ]
  },
  {
   "cell_type": "code",
   "execution_count": null,
   "id": "3f13f78e-1584-4244-a164-9a3d2e93ddc3",
   "metadata": {
    "tags": []
   },
   "outputs": [],
   "source": [
    "tree_out = pmb.utils._sample_posterior(pmb.BART.all_trees, x_te, rng=np.random.default_rng())\n",
    "tree_out.shape"
   ]
  },
  {
   "cell_type": "code",
   "execution_count": null,
   "id": "d512cb05-92f6-4c30-860e-2aeef0eb8415",
   "metadata": {
    "tags": []
   },
   "outputs": [],
   "source": [
    "trees = pmb.BART.all_trees\n",
    "with open(\"BART_trees.pkl\", 'wb') as f:\n",
    "    pickle.dump({'all_trees':trees},f)"
   ]
  },
  {
   "cell_type": "code",
   "execution_count": null,
   "id": "ff7bd77c-15b1-4541-aa95-c5ff729d3d11",
   "metadata": {
    "tags": []
   },
   "outputs": [],
   "source": [
    "with open(\"BART_trees.pkl\", 'rb') as f:\n",
    "    data = pickle.load(f)\n",
    "    \n",
    "tree_out = pmb.utils._sample_posterior(data['all_trees'], x_te, rng=np.random.default_rng())"
   ]
  },
  {
   "cell_type": "code",
   "execution_count": null,
   "id": "707b426a-39af-42e6-b240-d18cbae76ad0",
   "metadata": {
    "tags": []
   },
   "outputs": [],
   "source": [
    "with new_model:\n",
    "    pm.set_data({\"X\":x_te})\n",
    "    posterior_predictive_test = pm.sample_posterior_predictive(trace=idata_train,\n",
    "                                                              var_names=[\"p\"])\n",
    "    \n",
    "prior_test = posterior_predictive_test.posterior_predictive.p.mean(axis=1).T\n",
    "\n",
    "plt.figure()\n",
    "plt.hist(prior_test[y_te==0],histtype='step',bins=20,density=True);\n",
    "plt.hist(prior_test[y_te==1],histtype='step',bins=20,density=True);"
   ]
  },
  {
   "cell_type": "code",
   "execution_count": null,
   "id": "79dbe32a-b4be-4189-8443-b6b79beccbbf",
   "metadata": {
    "tags": []
   },
   "outputs": [],
   "source": [
    "with pm.Model() as bart_model:\n",
    "    X = pm.MutableData(\"X\", x_tr, dims=(\"obs\",\"feature\"))\n",
    "    Y = y_tr\n",
    "    mu = pmb.BART(\"mu\", X=X, Y=Y, m=10, dims=\"obs\", shape=X.shape[0])\n",
    "    p = pm.Deterministic('p', pm.math.invlogit(mu), dims=\"obs\")\n",
    "    pm.Bernoulli(\"y\", p=p, observed=Y, dims=\"obs\",shape=p.shape[0])#shape=p.shape)\n",
    "    idata_train = pm.sample(tune=2,draws=10,chains=1)\n",
    "\n",
    "pickled_mdl = pickle.dumps({'model':bart_model,'trace':idata_train,'x_te':x_te})"
   ]
  },
  {
   "cell_type": "code",
   "execution_count": null,
   "id": "185203bf-92cf-4eec-b7eb-7cb1bd8a7aec",
   "metadata": {
    "tags": []
   },
   "outputs": [],
   "source": [
    "# save model\n",
    "pickled_mdl = cloudpickle.dumps({'model':bart_model,'trace':idata_train,'x_te':x_te})\n",
    "\n",
    "with open(\"BART_model.pkl\",'wb') as f:\n",
    "    pickle.dump(pickled_mdl, f)"
   ]
  },
  {
   "cell_type": "code",
   "execution_count": null,
   "id": "1df89b74-1bc3-4c0f-b26c-ac83b1fc7ba6",
   "metadata": {
    "tags": []
   },
   "outputs": [],
   "source": [
    "with open(\"BART_model.pkl\",'rb') as f:\n",
    "    loaded_pickled = pickle.load(f)  \n",
    "data = cloudpickle.loads(loaded_pickled)\n",
    "    \n",
    "with data['model']:\n",
    "    pm.set_data({\"X\":data['x_te']})\n",
    "    posterior_predictive_test = pm.sample_posterior_predictive(trace=data['trace'],\n",
    "                                                              var_names=[\"p\",\"y\"])\n",
    "    \n",
    "prior_test = posterior_predictive_test.posterior_predictive.p.mean(axis=1).T\n",
    "\n",
    "plt.figure()\n",
    "plt.hist(prior_test[y_te==0],histtype='step',bins=20,density=True);\n",
    "plt.hist(prior_test[y_te==1],histtype='step',bins=20,density=True);\n",
    "    "
   ]
  },
  {
   "cell_type": "code",
   "execution_count": null,
   "id": "be234b41-72e2-4d0d-8cf5-a6828dee6347",
   "metadata": {},
   "outputs": [],
   "source": []
  },
  {
   "cell_type": "code",
   "execution_count": null,
   "id": "2fb3abef-a259-4c5e-920c-64fb75fa3906",
   "metadata": {},
   "outputs": [],
   "source": []
  },
  {
   "cell_type": "code",
   "execution_count": null,
   "id": "948d3d62-9e31-43e6-977a-5282dbeb5b10",
   "metadata": {},
   "outputs": [],
   "source": []
  },
  {
   "cell_type": "code",
   "execution_count": null,
   "id": "da1dca53-52d4-4651-9a84-5b42db189deb",
   "metadata": {},
   "outputs": [],
   "source": [
    "fname = 'BART_test_sample2.pkl' # filename\n",
    "s3_fpath = 'uat/dme/performance/compute_model_preprocessor'\n",
    "# upload to s3\n",
    "bucket='us.com.syngenta.ap.nonprod' \n",
    "\n",
    "n1 = 1050 # n in each class\n",
    "n2 = 150\n",
    "n_dim = 10\n",
    "\n",
    "mean1 = 1\n",
    "std1 = 1\n",
    "mean2 = 2\n",
    "std2 = 1\n",
    "\n",
    "x1 = np.random.randn(n1,n_dim)*std1 + mean1\n",
    "y1 = np.zeros((n1,))\n",
    "x2 = np.random.randn(n2,n_dim)*std2 + mean2\n",
    "y2 = np.ones((n2,))\n",
    "\n",
    "x_in = np.concatenate((x1,x2),axis=0)\n",
    "y_in = np.concatenate((y1,y2),axis=0)\n",
    "\n",
    "x_tr, x_te, y_tr, y_te = train_test_split(x_in, y_in, test_size=0.33)\n",
    "\n",
    "plt.figure()\n",
    "plt.hist(x1[:,0],bins=20,histtype='step',density=True);\n",
    "plt.hist(x2[:,0],bins=20,histtype='step',density=True);\n",
    "\n",
    "# define and train model\n",
    "with pm.Model() as bart_model:\n",
    "    X = pm.MutableData(\"X\", x_tr)\n",
    "    Y = y_tr\n",
    "    mu = pmb.BART(\"mu\", X=X, Y=Y, m=10, shape=X.shape[0])\n",
    "    p = pm.Deterministic('p', pm.math.invlogit(mu))\n",
    "    pm.Bernoulli(\"obs\", p=p, observed=Y, shape=X.shape[0])#shape=p.shape)\n",
    "    idata_train = pm.sample(tune=10,draws=50,chains=1)\n",
    "    \n",
    "with pm.Model() as bart_model2:\n",
    "    X = pm.MutableData(\"X\", x_tr)\n",
    "    Y = y_tr\n",
    "    mu = pmb.BART(\"mu\", X=X, Y=Y, m=2, shape=X.shape[0])\n",
    "    p = pm.Deterministic('p', pm.math.invlogit(mu))\n",
    "    pm.Bernoulli(\"obs\", p=p, observed=Y, shape=X.shape[0])#shape=p.shape)\n",
    "    idata_garbage = pm.sample(tune=0,draws=1,chains=1)"
   ]
  },
  {
   "cell_type": "code",
   "execution_count": null,
   "id": "fa043195-d7a0-4969-a08f-72db59c24ebe",
   "metadata": {},
   "outputs": [],
   "source": [
    "with bart_model:\n",
    "    pm.set_data({\"X\":x_te})\n",
    "    posterior_predictive_test = pm.sample_posterior_predictive(trace=idata_train,\n",
    "                                                              var_names=[\"p\",\"obs\"])\n",
    "    \n",
    "prior_test = posterior_predictive_test.posterior_predictive.p.mean(axis=1).T\n",
    "\n",
    "plt.figure()\n",
    "plt.hist(prior_test[y_te==0],histtype='step',bins=20,density=True);\n",
    "plt.hist(prior_test[y_te==1],histtype='step',bins=20,density=True);"
   ]
  },
  {
   "cell_type": "code",
   "execution_count": null,
   "id": "ec1bc32f-7aed-4369-b2e0-7ec0ae80b0f7",
   "metadata": {},
   "outputs": [],
   "source": []
  },
  {
   "cell_type": "code",
   "execution_count": null,
   "id": "30f4b2a9-bafd-4973-9d42-a118ed5ee992",
   "metadata": {},
   "outputs": [],
   "source": []
  },
  {
   "cell_type": "code",
   "execution_count": null,
   "id": "00177800-37f2-49db-ab32-9dd3ce8cd250",
   "metadata": {},
   "outputs": [],
   "source": []
  },
  {
   "cell_type": "code",
   "execution_count": null,
   "id": "8940a308-a835-40a6-a00d-ea89d59887b4",
   "metadata": {},
   "outputs": [],
   "source": []
  },
  {
   "cell_type": "code",
   "execution_count": null,
   "id": "a3e4de39-9ef7-4e1a-8e4d-fc95d62e5ffd",
   "metadata": {
    "tags": []
   },
   "outputs": [],
   "source": [
    "from typing import Dict, List, Optional, Tuple, Union\n",
    "\n",
    "import arviz as az\n",
    "import matplotlib.pyplot as plt\n",
    "import numpy as np\n",
    "import pandas as pd\n",
    "import pymc as pm\n",
    "import xarray as xr\n",
    "\n",
    "from numpy.random import RandomState\n",
    "\n",
    "from pymc_experimental.model_builder import ModelBuilder\n",
    "\n",
    "\n",
    "%config InlineBackend.figure_format = 'retina'\n",
    "RANDOM_SEED = 8927\n",
    "\n",
    "rng = np.random.default_rng(RANDOM_SEED)\n",
    "az.style.use(\"arviz-darkgrid\")"
   ]
  },
  {
   "cell_type": "code",
   "execution_count": null,
   "id": "c7b90b6c-c7ae-4333-a8bc-a89fdec1832e",
   "metadata": {
    "tags": []
   },
   "outputs": [],
   "source": [
    "# Generate data\n",
    "n1 = 1050 # n in each class\n",
    "n2 = 150\n",
    "n_dim = 10\n",
    "\n",
    "mean1 = 1\n",
    "std1 = 1\n",
    "mean2 = 2\n",
    "std2 = 1\n",
    "\n",
    "x1 = np.random.randn(n1,n_dim)*std1 + mean1\n",
    "y1 = np.zeros((n1,))\n",
    "x2 = np.random.randn(n2,n_dim)*std2 + mean2\n",
    "y2 = np.ones((n2,))\n",
    "\n",
    "x_in = np.concatenate((x1,x2),axis=0)\n",
    "y_in = np.concatenate((y1,y2),axis=0)\n",
    "\n",
    "x_tr, x_te, y_tr, y_te = train_test_split(x_in, y_in, test_size=0.33)"
   ]
  },
  {
   "cell_type": "code",
   "execution_count": null,
   "id": "b531a599-843f-46dc-9ff8-0183c787de6e",
   "metadata": {},
   "outputs": [],
   "source": []
  },
  {
   "cell_type": "code",
   "execution_count": null,
   "id": "d80ccab4-0adb-4d46-95cc-b2d2f9de7346",
   "metadata": {},
   "outputs": [],
   "source": []
  },
  {
   "cell_type": "code",
   "execution_count": null,
   "id": "04855371-d145-4c9c-8a6a-5ebc5f228110",
   "metadata": {},
   "outputs": [],
   "source": []
  },
  {
   "cell_type": "code",
   "execution_count": null,
   "id": "ce535aa1-f429-4c9c-ad25-2e64355f3276",
   "metadata": {},
   "outputs": [],
   "source": []
  },
  {
   "cell_type": "code",
   "execution_count": null,
   "id": "386ccd80-7a4c-4dcb-9d67-400f52a3d87a",
   "metadata": {},
   "outputs": [],
   "source": []
  },
  {
   "cell_type": "code",
   "execution_count": null,
   "id": "7d6291c3-fc8c-491a-8314-07cd3453cc9c",
   "metadata": {},
   "outputs": [],
   "source": []
  },
  {
   "cell_type": "code",
   "execution_count": null,
   "id": "64c382cb-a7b3-495a-8d38-7c3a7d604e86",
   "metadata": {},
   "outputs": [],
   "source": []
  },
  {
   "cell_type": "code",
   "execution_count": null,
   "id": "70c6bb1a-1a54-410d-8842-db9913e87da1",
   "metadata": {
    "tags": []
   },
   "outputs": [],
   "source": [
    "class BARTModel(ModelBuilder):\n",
    "    # Give the model a name\n",
    "    _model_type = \"BartModel\"\n",
    "\n",
    "    # And a version\n",
    "    version = \"0.1.1\"\n",
    "\n",
    "    def build_model(self, X: pd.DataFrame, y: Union[pd.Series, np.ndarray], **kwargs):\n",
    "        \"\"\"\n",
    "        build_model creates the PyMC model\n",
    "\n",
    "        Parameters:\n",
    "        model_config: dictionary\n",
    "            it is a dictionary with all the parameters that we need in our model example:  a_loc, a_scale, b_loc\n",
    "        data: Dict[str, Union[np.ndarray, pd.DataFrame, pd.Series]]\n",
    "            Data we want our model fit on.\n",
    "        \"\"\"\n",
    "        # Check the type of X and y and adjust access accordingly\n",
    "        X_values = X.values\n",
    "        y_values = y.values if isinstance(y, pd.Series) else y\n",
    "        self._generate_and_preprocess_model_data(X_values, y_values)\n",
    "\n",
    "        # define and train model\n",
    "        with pm.Model() as bart_model:\n",
    "            X = pm.MutableData(\"X\", x_tr, dims=(\"obs\",\"feature\"))\n",
    "            Y = y_tr\n",
    "            mu = pmb.BART(\"mu\", X=X, Y=Y, m=10, dims=\"obs\", shape=X.shape[0])\n",
    "            p = pm.Deterministic('p', pm.math.invlogit(mu), dims=\"obs\")\n",
    "            pm.Bernoulli(\"y\", p=p, observed=Y, dims=\"obs\",shape=p.shape[0])#shape=p.shape)\n",
    "            idata_train = pm.sample(tune=2,draws=10,chains=1)\n",
    "        \n",
    "        with pm.Model() as self.model:\n",
    "            # Create mutable data containers\n",
    "            x_data = pm.MutableData(\"x_data\", X_values, dims=(\"obs\", \"feature\"))\n",
    "            y_data = y_values\n",
    "            \n",
    "            # BART model and bernoulli output\n",
    "            mu = pmb.BART(\"mu\", X=x_data, Y=y_data, m=10, dims=\"obs\", shape=x_data.shape[0])\n",
    "            p = pm.Deterministic('p', pm.math.invlogit(mu), dims=\"obs\")\n",
    "            obs = pm.Bernoulli(\"y\", p=p, observed=y_data, shape=p.shape[0])#shape=x_data.shape)\n",
    "\n",
    "    def _data_setter(\n",
    "        self, X: Union[pd.DataFrame, np.ndarray], y: Union[pd.Series, np.ndarray] = None\n",
    "    ):\n",
    "        if isinstance(X, pd.DataFrame):\n",
    "            x_values = X.values\n",
    "        else:\n",
    "            # Assuming \"input\" is the first column\n",
    "            x_values = X\n",
    "\n",
    "        with self.model:\n",
    "            pm.set_data({\"x_data\": x_values})\n",
    "            if y is not None:\n",
    "                pm.set_data({\"y_data\": y.values if isinstance(y, pd.Series) else y})\n",
    "\n",
    "    @property\n",
    "    def default_model_config(self) -> Dict:\n",
    "        \"\"\"\n",
    "        default_model_config is a property that returns a dictionary with all the prior values we want to build the model with.\n",
    "        It supports more complex data structures like lists, dictionaries, etc.\n",
    "        It will be passed to the class instance on initialization, in case the user doesn't provide any model_config of their own.\n",
    "        \"\"\"\n",
    "        model_config: Dict = {\n",
    "        }\n",
    "        return model_config\n",
    "\n",
    "    @property\n",
    "    def default_sampler_config(self) -> Dict:\n",
    "        \"\"\"\n",
    "        default_sampler_config is a property that returns a dictionary with all most important sampler parameters.\n",
    "        It will be used in case the user doesn't provide any sampler_config of their own.\n",
    "        \"\"\"\n",
    "        sampler_config: Dict = {\n",
    "            \"draws\": 2,\n",
    "            \"tune\": 1,\n",
    "            \"chains\": 1\n",
    "        }\n",
    "        return sampler_config\n",
    "\n",
    "    @property\n",
    "    def output_var(self):\n",
    "        return \"p\"\n",
    "\n",
    "    @property\n",
    "    def _serializable_model_config(self) -> Dict[str, Union[int, float, Dict]]:\n",
    "        \"\"\"\n",
    "        _serializable_model_config is a property that returns a dictionary with all the model parameters that we want to save.\n",
    "        as some of the data structures are not json serializable, we need to convert them to json serializable objects.\n",
    "        Some models will need them, others can just define them to return the model_config.\n",
    "        \"\"\"\n",
    "        return self.model_config\n",
    "\n",
    "    def _save_input_params(self, idata) -> None:\n",
    "        \"\"\"\n",
    "        Saves any additional model parameters (other than the dataset) to the idata object.\n",
    "\n",
    "        These parameters are stored within `idata.attrs` using keys that correspond to the parameter names.\n",
    "        If you don't need to store any extra parameters, you can leave this method unimplemented.\n",
    "\n",
    "        Example:\n",
    "            For saving customer IDs provided as an 'customer_ids' input to the model:\n",
    "            self.customer_ids = customer_ids.values #this line is done outside of the function, preferably at the initialization of the model object.\n",
    "            idata.attrs[\"customer_ids\"] = json.dumps(self.customer_ids.tolist())  # Convert numpy array to a JSON-serializable list.\n",
    "        \"\"\"\n",
    "        pass\n",
    "\n",
    "        pass\n",
    "\n",
    "    def _generate_and_preprocess_model_data(\n",
    "        self, X: Union[pd.DataFrame, pd.Series], y: Union[pd.Series, np.ndarray]\n",
    "    ) -> None:\n",
    "        \"\"\"\n",
    "        Depending on the model, we might need to preprocess the data before fitting the model.\n",
    "        all required preprocessing and conditional assignments should be defined here.\n",
    "        \"\"\"\n",
    "        self.model_coords = None  # in our case we're not using coords, but if we were, we would define them here, or later on in the function, if extracting them from the data.\n",
    "        # as we don't do any data preprocessing, we just assign the data givenin by the user. Note that it's very basic model,\n",
    "        # and usually we would need to do some preprocessing, or generate the coords from the data.\n",
    "        self.X = X\n",
    "        self.y = y"
   ]
  },
  {
   "cell_type": "code",
   "execution_count": null,
   "id": "b87047e8-8f2e-4e03-871f-8250203643f9",
   "metadata": {
    "tags": []
   },
   "outputs": [],
   "source": [
    "#X = pd.DataFrame(data=x_tr)\n",
    "#y = y_tr\n",
    "X = pd.DataFrame(data=x_tr, columns=[\"input\"+str(i) for i in range(x_tr.shape[1])])\n",
    "y = y_tr.copy()\n",
    "\n",
    "model = BARTModel()\n",
    "idata = model.fit(X, y)"
   ]
  },
  {
   "cell_type": "code",
   "execution_count": null,
   "id": "994d0d6e-2c94-4fe8-afb4-09392ccd68bb",
   "metadata": {
    "tags": []
   },
   "outputs": [],
   "source": [
    "fname = \"BART_model_v0.nc\"\n",
    "model.save(fname)"
   ]
  },
  {
   "cell_type": "code",
   "execution_count": null,
   "id": "9d70ea1b-5e05-439e-a542-e6af52658360",
   "metadata": {
    "tags": []
   },
   "outputs": [],
   "source": [
    "model_2 = BARTModel.load(fname)"
   ]
  },
  {
   "cell_type": "code",
   "execution_count": null,
   "id": "c04b0d3c-4f7f-4efc-ad0b-1afa5e1bdd86",
   "metadata": {
    "tags": []
   },
   "outputs": [],
   "source": [
    "x_pred = x_te\n",
    "prediction_data = pd.DataFrame(data=x_pred, columns=[\"input\"+str(i) for i in range(x_te.shape[1])])\n",
    "type(prediction_data.values)"
   ]
  },
  {
   "cell_type": "code",
   "execution_count": null,
   "id": "e9532cc7-d6d4-48db-9c40-9435829fa6ad",
   "metadata": {
    "tags": []
   },
   "outputs": [],
   "source": [
    "with model_2.model:\n",
    "    pm.set_data({\"x_data\":x_te})\n",
    "    #posterior_predictive_test = pm.sample_posterior_predictive(trace=model_2.idata,\n",
    "    #                                                          var_names=[\"p\"])\n",
    "    prior_predictive_test = pm.sample_prior_predictive(var_names=[\"p\"])"
   ]
  },
  {
   "cell_type": "code",
   "execution_count": null,
   "id": "fc34e53d-3a11-40a0-a6c3-ae531950faf0",
   "metadata": {
    "tags": []
   },
   "outputs": [],
   "source": [
    "prior_test = posterior_predictive_test.posterior_predictive.p.mean(axis=1).values.reshape((-1,1))\n",
    "\n",
    "plt.hist(prior_test[y_tr==0],density=True,bins=20,histtype='step');\n",
    "plt.hist(prior_test[y_tr==1],density=True,bins=20,histtype='step');"
   ]
  },
  {
   "cell_type": "code",
   "execution_count": null,
   "id": "5183b5fe-bbd9-4c15-83c5-bf60b09af676",
   "metadata": {},
   "outputs": [],
   "source": []
  },
  {
   "cell_type": "code",
   "execution_count": null,
   "id": "f5eb1981-3f6b-404a-8c2f-df39e45c0343",
   "metadata": {
    "tags": []
   },
   "outputs": [],
   "source": [
    "pred_mean = model_2.predict(prediction_data)\n",
    "# samples\n",
    "pred_samples = model_2.predict_posterior(prediction_data)"
   ]
  },
  {
   "cell_type": "code",
   "execution_count": null,
   "id": "892a8db3-1520-4a81-914f-91bd83c4b3a3",
   "metadata": {
    "tags": []
   },
   "outputs": [],
   "source": [
    "plt.hist(pred_mean[y_te==0],density=True,bins=20,histtype='step');\n",
    "plt.hist(pred_mean[y_te==1],density=True,bins=20,histtype='step');"
   ]
  },
  {
   "cell_type": "code",
   "execution_count": null,
   "id": "0664db13-4de6-4437-adb4-662564fcb967",
   "metadata": {
    "tags": []
   },
   "outputs": [],
   "source": [
    "plt.plot(x_te[:,1], np.std(pred_samples,axis=1),'.')"
   ]
  }
 ],
 "metadata": {
  "availableInstances": [
   {
    "_defaultOrder": 0,
    "_isFastLaunch": true,
    "category": "General purpose",
    "gpuNum": 0,
    "hideHardwareSpecs": false,
    "memoryGiB": 4,
    "name": "ml.t3.medium",
    "vcpuNum": 2
   },
   {
    "_defaultOrder": 1,
    "_isFastLaunch": false,
    "category": "General purpose",
    "gpuNum": 0,
    "hideHardwareSpecs": false,
    "memoryGiB": 8,
    "name": "ml.t3.large",
    "vcpuNum": 2
   },
   {
    "_defaultOrder": 2,
    "_isFastLaunch": false,
    "category": "General purpose",
    "gpuNum": 0,
    "hideHardwareSpecs": false,
    "memoryGiB": 16,
    "name": "ml.t3.xlarge",
    "vcpuNum": 4
   },
   {
    "_defaultOrder": 3,
    "_isFastLaunch": false,
    "category": "General purpose",
    "gpuNum": 0,
    "hideHardwareSpecs": false,
    "memoryGiB": 32,
    "name": "ml.t3.2xlarge",
    "vcpuNum": 8
   },
   {
    "_defaultOrder": 4,
    "_isFastLaunch": true,
    "category": "General purpose",
    "gpuNum": 0,
    "hideHardwareSpecs": false,
    "memoryGiB": 8,
    "name": "ml.m5.large",
    "vcpuNum": 2
   },
   {
    "_defaultOrder": 5,
    "_isFastLaunch": false,
    "category": "General purpose",
    "gpuNum": 0,
    "hideHardwareSpecs": false,
    "memoryGiB": 16,
    "name": "ml.m5.xlarge",
    "vcpuNum": 4
   },
   {
    "_defaultOrder": 6,
    "_isFastLaunch": false,
    "category": "General purpose",
    "gpuNum": 0,
    "hideHardwareSpecs": false,
    "memoryGiB": 32,
    "name": "ml.m5.2xlarge",
    "vcpuNum": 8
   },
   {
    "_defaultOrder": 7,
    "_isFastLaunch": false,
    "category": "General purpose",
    "gpuNum": 0,
    "hideHardwareSpecs": false,
    "memoryGiB": 64,
    "name": "ml.m5.4xlarge",
    "vcpuNum": 16
   },
   {
    "_defaultOrder": 8,
    "_isFastLaunch": false,
    "category": "General purpose",
    "gpuNum": 0,
    "hideHardwareSpecs": false,
    "memoryGiB": 128,
    "name": "ml.m5.8xlarge",
    "vcpuNum": 32
   },
   {
    "_defaultOrder": 9,
    "_isFastLaunch": false,
    "category": "General purpose",
    "gpuNum": 0,
    "hideHardwareSpecs": false,
    "memoryGiB": 192,
    "name": "ml.m5.12xlarge",
    "vcpuNum": 48
   },
   {
    "_defaultOrder": 10,
    "_isFastLaunch": false,
    "category": "General purpose",
    "gpuNum": 0,
    "hideHardwareSpecs": false,
    "memoryGiB": 256,
    "name": "ml.m5.16xlarge",
    "vcpuNum": 64
   },
   {
    "_defaultOrder": 11,
    "_isFastLaunch": false,
    "category": "General purpose",
    "gpuNum": 0,
    "hideHardwareSpecs": false,
    "memoryGiB": 384,
    "name": "ml.m5.24xlarge",
    "vcpuNum": 96
   },
   {
    "_defaultOrder": 12,
    "_isFastLaunch": false,
    "category": "General purpose",
    "gpuNum": 0,
    "hideHardwareSpecs": false,
    "memoryGiB": 8,
    "name": "ml.m5d.large",
    "vcpuNum": 2
   },
   {
    "_defaultOrder": 13,
    "_isFastLaunch": false,
    "category": "General purpose",
    "gpuNum": 0,
    "hideHardwareSpecs": false,
    "memoryGiB": 16,
    "name": "ml.m5d.xlarge",
    "vcpuNum": 4
   },
   {
    "_defaultOrder": 14,
    "_isFastLaunch": false,
    "category": "General purpose",
    "gpuNum": 0,
    "hideHardwareSpecs": false,
    "memoryGiB": 32,
    "name": "ml.m5d.2xlarge",
    "vcpuNum": 8
   },
   {
    "_defaultOrder": 15,
    "_isFastLaunch": false,
    "category": "General purpose",
    "gpuNum": 0,
    "hideHardwareSpecs": false,
    "memoryGiB": 64,
    "name": "ml.m5d.4xlarge",
    "vcpuNum": 16
   },
   {
    "_defaultOrder": 16,
    "_isFastLaunch": false,
    "category": "General purpose",
    "gpuNum": 0,
    "hideHardwareSpecs": false,
    "memoryGiB": 128,
    "name": "ml.m5d.8xlarge",
    "vcpuNum": 32
   },
   {
    "_defaultOrder": 17,
    "_isFastLaunch": false,
    "category": "General purpose",
    "gpuNum": 0,
    "hideHardwareSpecs": false,
    "memoryGiB": 192,
    "name": "ml.m5d.12xlarge",
    "vcpuNum": 48
   },
   {
    "_defaultOrder": 18,
    "_isFastLaunch": false,
    "category": "General purpose",
    "gpuNum": 0,
    "hideHardwareSpecs": false,
    "memoryGiB": 256,
    "name": "ml.m5d.16xlarge",
    "vcpuNum": 64
   },
   {
    "_defaultOrder": 19,
    "_isFastLaunch": false,
    "category": "General purpose",
    "gpuNum": 0,
    "hideHardwareSpecs": false,
    "memoryGiB": 384,
    "name": "ml.m5d.24xlarge",
    "vcpuNum": 96
   },
   {
    "_defaultOrder": 20,
    "_isFastLaunch": false,
    "category": "General purpose",
    "gpuNum": 0,
    "hideHardwareSpecs": true,
    "memoryGiB": 0,
    "name": "ml.geospatial.interactive",
    "supportedImageNames": [
     "sagemaker-geospatial-v1-0"
    ],
    "vcpuNum": 0
   },
   {
    "_defaultOrder": 21,
    "_isFastLaunch": true,
    "category": "Compute optimized",
    "gpuNum": 0,
    "hideHardwareSpecs": false,
    "memoryGiB": 4,
    "name": "ml.c5.large",
    "vcpuNum": 2
   },
   {
    "_defaultOrder": 22,
    "_isFastLaunch": false,
    "category": "Compute optimized",
    "gpuNum": 0,
    "hideHardwareSpecs": false,
    "memoryGiB": 8,
    "name": "ml.c5.xlarge",
    "vcpuNum": 4
   },
   {
    "_defaultOrder": 23,
    "_isFastLaunch": false,
    "category": "Compute optimized",
    "gpuNum": 0,
    "hideHardwareSpecs": false,
    "memoryGiB": 16,
    "name": "ml.c5.2xlarge",
    "vcpuNum": 8
   },
   {
    "_defaultOrder": 24,
    "_isFastLaunch": false,
    "category": "Compute optimized",
    "gpuNum": 0,
    "hideHardwareSpecs": false,
    "memoryGiB": 32,
    "name": "ml.c5.4xlarge",
    "vcpuNum": 16
   },
   {
    "_defaultOrder": 25,
    "_isFastLaunch": false,
    "category": "Compute optimized",
    "gpuNum": 0,
    "hideHardwareSpecs": false,
    "memoryGiB": 72,
    "name": "ml.c5.9xlarge",
    "vcpuNum": 36
   },
   {
    "_defaultOrder": 26,
    "_isFastLaunch": false,
    "category": "Compute optimized",
    "gpuNum": 0,
    "hideHardwareSpecs": false,
    "memoryGiB": 96,
    "name": "ml.c5.12xlarge",
    "vcpuNum": 48
   },
   {
    "_defaultOrder": 27,
    "_isFastLaunch": false,
    "category": "Compute optimized",
    "gpuNum": 0,
    "hideHardwareSpecs": false,
    "memoryGiB": 144,
    "name": "ml.c5.18xlarge",
    "vcpuNum": 72
   },
   {
    "_defaultOrder": 28,
    "_isFastLaunch": false,
    "category": "Compute optimized",
    "gpuNum": 0,
    "hideHardwareSpecs": false,
    "memoryGiB": 192,
    "name": "ml.c5.24xlarge",
    "vcpuNum": 96
   },
   {
    "_defaultOrder": 29,
    "_isFastLaunch": true,
    "category": "Accelerated computing",
    "gpuNum": 1,
    "hideHardwareSpecs": false,
    "memoryGiB": 16,
    "name": "ml.g4dn.xlarge",
    "vcpuNum": 4
   },
   {
    "_defaultOrder": 30,
    "_isFastLaunch": false,
    "category": "Accelerated computing",
    "gpuNum": 1,
    "hideHardwareSpecs": false,
    "memoryGiB": 32,
    "name": "ml.g4dn.2xlarge",
    "vcpuNum": 8
   },
   {
    "_defaultOrder": 31,
    "_isFastLaunch": false,
    "category": "Accelerated computing",
    "gpuNum": 1,
    "hideHardwareSpecs": false,
    "memoryGiB": 64,
    "name": "ml.g4dn.4xlarge",
    "vcpuNum": 16
   },
   {
    "_defaultOrder": 32,
    "_isFastLaunch": false,
    "category": "Accelerated computing",
    "gpuNum": 1,
    "hideHardwareSpecs": false,
    "memoryGiB": 128,
    "name": "ml.g4dn.8xlarge",
    "vcpuNum": 32
   },
   {
    "_defaultOrder": 33,
    "_isFastLaunch": false,
    "category": "Accelerated computing",
    "gpuNum": 4,
    "hideHardwareSpecs": false,
    "memoryGiB": 192,
    "name": "ml.g4dn.12xlarge",
    "vcpuNum": 48
   },
   {
    "_defaultOrder": 34,
    "_isFastLaunch": false,
    "category": "Accelerated computing",
    "gpuNum": 1,
    "hideHardwareSpecs": false,
    "memoryGiB": 256,
    "name": "ml.g4dn.16xlarge",
    "vcpuNum": 64
   },
   {
    "_defaultOrder": 35,
    "_isFastLaunch": false,
    "category": "Accelerated computing",
    "gpuNum": 1,
    "hideHardwareSpecs": false,
    "memoryGiB": 61,
    "name": "ml.p3.2xlarge",
    "vcpuNum": 8
   },
   {
    "_defaultOrder": 36,
    "_isFastLaunch": false,
    "category": "Accelerated computing",
    "gpuNum": 4,
    "hideHardwareSpecs": false,
    "memoryGiB": 244,
    "name": "ml.p3.8xlarge",
    "vcpuNum": 32
   },
   {
    "_defaultOrder": 37,
    "_isFastLaunch": false,
    "category": "Accelerated computing",
    "gpuNum": 8,
    "hideHardwareSpecs": false,
    "memoryGiB": 488,
    "name": "ml.p3.16xlarge",
    "vcpuNum": 64
   },
   {
    "_defaultOrder": 38,
    "_isFastLaunch": false,
    "category": "Accelerated computing",
    "gpuNum": 8,
    "hideHardwareSpecs": false,
    "memoryGiB": 768,
    "name": "ml.p3dn.24xlarge",
    "vcpuNum": 96
   },
   {
    "_defaultOrder": 39,
    "_isFastLaunch": false,
    "category": "Memory Optimized",
    "gpuNum": 0,
    "hideHardwareSpecs": false,
    "memoryGiB": 16,
    "name": "ml.r5.large",
    "vcpuNum": 2
   },
   {
    "_defaultOrder": 40,
    "_isFastLaunch": false,
    "category": "Memory Optimized",
    "gpuNum": 0,
    "hideHardwareSpecs": false,
    "memoryGiB": 32,
    "name": "ml.r5.xlarge",
    "vcpuNum": 4
   },
   {
    "_defaultOrder": 41,
    "_isFastLaunch": false,
    "category": "Memory Optimized",
    "gpuNum": 0,
    "hideHardwareSpecs": false,
    "memoryGiB": 64,
    "name": "ml.r5.2xlarge",
    "vcpuNum": 8
   },
   {
    "_defaultOrder": 42,
    "_isFastLaunch": false,
    "category": "Memory Optimized",
    "gpuNum": 0,
    "hideHardwareSpecs": false,
    "memoryGiB": 128,
    "name": "ml.r5.4xlarge",
    "vcpuNum": 16
   },
   {
    "_defaultOrder": 43,
    "_isFastLaunch": false,
    "category": "Memory Optimized",
    "gpuNum": 0,
    "hideHardwareSpecs": false,
    "memoryGiB": 256,
    "name": "ml.r5.8xlarge",
    "vcpuNum": 32
   },
   {
    "_defaultOrder": 44,
    "_isFastLaunch": false,
    "category": "Memory Optimized",
    "gpuNum": 0,
    "hideHardwareSpecs": false,
    "memoryGiB": 384,
    "name": "ml.r5.12xlarge",
    "vcpuNum": 48
   },
   {
    "_defaultOrder": 45,
    "_isFastLaunch": false,
    "category": "Memory Optimized",
    "gpuNum": 0,
    "hideHardwareSpecs": false,
    "memoryGiB": 512,
    "name": "ml.r5.16xlarge",
    "vcpuNum": 64
   },
   {
    "_defaultOrder": 46,
    "_isFastLaunch": false,
    "category": "Memory Optimized",
    "gpuNum": 0,
    "hideHardwareSpecs": false,
    "memoryGiB": 768,
    "name": "ml.r5.24xlarge",
    "vcpuNum": 96
   },
   {
    "_defaultOrder": 47,
    "_isFastLaunch": false,
    "category": "Accelerated computing",
    "gpuNum": 1,
    "hideHardwareSpecs": false,
    "memoryGiB": 16,
    "name": "ml.g5.xlarge",
    "vcpuNum": 4
   },
   {
    "_defaultOrder": 48,
    "_isFastLaunch": false,
    "category": "Accelerated computing",
    "gpuNum": 1,
    "hideHardwareSpecs": false,
    "memoryGiB": 32,
    "name": "ml.g5.2xlarge",
    "vcpuNum": 8
   },
   {
    "_defaultOrder": 49,
    "_isFastLaunch": false,
    "category": "Accelerated computing",
    "gpuNum": 1,
    "hideHardwareSpecs": false,
    "memoryGiB": 64,
    "name": "ml.g5.4xlarge",
    "vcpuNum": 16
   },
   {
    "_defaultOrder": 50,
    "_isFastLaunch": false,
    "category": "Accelerated computing",
    "gpuNum": 1,
    "hideHardwareSpecs": false,
    "memoryGiB": 128,
    "name": "ml.g5.8xlarge",
    "vcpuNum": 32
   },
   {
    "_defaultOrder": 51,
    "_isFastLaunch": false,
    "category": "Accelerated computing",
    "gpuNum": 1,
    "hideHardwareSpecs": false,
    "memoryGiB": 256,
    "name": "ml.g5.16xlarge",
    "vcpuNum": 64
   },
   {
    "_defaultOrder": 52,
    "_isFastLaunch": false,
    "category": "Accelerated computing",
    "gpuNum": 4,
    "hideHardwareSpecs": false,
    "memoryGiB": 192,
    "name": "ml.g5.12xlarge",
    "vcpuNum": 48
   },
   {
    "_defaultOrder": 53,
    "_isFastLaunch": false,
    "category": "Accelerated computing",
    "gpuNum": 4,
    "hideHardwareSpecs": false,
    "memoryGiB": 384,
    "name": "ml.g5.24xlarge",
    "vcpuNum": 96
   },
   {
    "_defaultOrder": 54,
    "_isFastLaunch": false,
    "category": "Accelerated computing",
    "gpuNum": 8,
    "hideHardwareSpecs": false,
    "memoryGiB": 768,
    "name": "ml.g5.48xlarge",
    "vcpuNum": 192
   },
   {
    "_defaultOrder": 55,
    "_isFastLaunch": false,
    "category": "Accelerated computing",
    "gpuNum": 8,
    "hideHardwareSpecs": false,
    "memoryGiB": 1152,
    "name": "ml.p4d.24xlarge",
    "vcpuNum": 96
   },
   {
    "_defaultOrder": 56,
    "_isFastLaunch": false,
    "category": "Accelerated computing",
    "gpuNum": 8,
    "hideHardwareSpecs": false,
    "memoryGiB": 1152,
    "name": "ml.p4de.24xlarge",
    "vcpuNum": 96
   }
  ],
  "instance_type": "ml.t3.medium",
  "kernelspec": {
   "display_name": "Python 3 (Data Science 3.0)",
   "language": "python",
   "name": "python3__SAGEMAKER_INTERNAL__arn:aws:sagemaker:us-east-1:081325390199:image/sagemaker-data-science-310-v1"
  },
  "language_info": {
   "codemirror_mode": {
    "name": "ipython",
    "version": 3
   },
   "file_extension": ".py",
   "mimetype": "text/x-python",
   "name": "python",
   "nbconvert_exporter": "python",
   "pygments_lexer": "ipython3",
   "version": "3.10.6"
  }
 },
 "nbformat": 4,
 "nbformat_minor": 5
}
