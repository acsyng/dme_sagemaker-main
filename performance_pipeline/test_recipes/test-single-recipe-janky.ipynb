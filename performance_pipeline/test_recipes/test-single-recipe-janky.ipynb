{
 "cells": [
  {
   "cell_type": "code",
   "execution_count": 1,
   "id": "d5a18a27-db3f-443d-8e3e-0cb50f52bd31",
   "metadata": {
    "tags": []
   },
   "outputs": [
    {
     "name": "stdout",
     "output_type": "stream",
     "text": [
      "Requirement already satisfied: psycopg2-binary in /opt/conda/lib/python3.7/site-packages (2.9.6)\n",
      "\u001b[33mWARNING: Running pip as the 'root' user can result in broken permissions and conflicting behaviour with the system package manager. It is recommended to use a virtual environment instead: https://pip.pypa.io/warnings/venv\u001b[0m\u001b[33m\n",
      "\u001b[0m\n",
      "\u001b[1m[\u001b[0m\u001b[34;49mnotice\u001b[0m\u001b[1;39;49m]\u001b[0m\u001b[39;49m A new release of pip is available: \u001b[0m\u001b[31;49m23.1.2\u001b[0m\u001b[39;49m -> \u001b[0m\u001b[32;49m23.2.1\u001b[0m\n",
      "\u001b[1m[\u001b[0m\u001b[34;49mnotice\u001b[0m\u001b[1;39;49m]\u001b[0m\u001b[39;49m To update, run: \u001b[0m\u001b[32;49mpip install --upgrade pip\u001b[0m\n",
      "Note: you may need to restart the kernel to use updated packages.\n"
     ]
    }
   ],
   "source": [
    "# necessary for DenodoConnection\n",
    "%pip install psycopg2-binary"
   ]
  },
  {
   "cell_type": "code",
   "execution_count": 12,
   "id": "069b4310-95fb-408a-b3b3-ca1f50f54dab",
   "metadata": {
    "tags": []
   },
   "outputs": [],
   "source": [
    "# import packages\n",
    "import os\n",
    "import sys\n",
    "import pandas as pd\n",
    "import numpy as np\n",
    "import time\n",
    "\n",
    "# for sql recipes\n",
    "from libs.denodo.denodo_connection import DenodoConnection\n",
    "from string import Template\n",
    "\n",
    "# need to add dme_sagemaker to path to load in libraries\n",
    "sys.path.append(\"/root/dme_sagemaker/dme_sagemaker\")\n",
    "sys.path\n",
    "\n",
    "import performance_pipeline.compute_bebid_advancement_decisions.src.processing as to_test"
   ]
  },
  {
   "cell_type": "code",
   "execution_count": 4,
   "id": "23a709ff-2b82-4ecf-8c8b-b549c9dcd446",
   "metadata": {
    "tags": []
   },
   "outputs": [
    {
     "name": "stderr",
     "output_type": "stream",
     "text": [
      "/root/dme_sagemaker/dme_sagemaker/performance_pipeline/compute_bebid_advancement_decisions/src/processing.py:74: SettingWithCopyWarning: \n",
      "A value is trying to be set on a copy of a slice from a DataFrame\n",
      "\n",
      "See the caveats in the documentation: https://pandas.pydata.org/pandas-docs/stable/user_guide/indexing.html#returning-a-view-versus-a-copy\n",
      "  df_stack_piv[curr_stage_col][(adj_mask) & (future_mask)] = 13\n",
      "/root/dme_sagemaker/dme_sagemaker/performance_pipeline/compute_bebid_advancement_decisions/src/processing.py:76: SettingWithCopyWarning: \n",
      "A value is trying to be set on a copy of a slice from a DataFrame\n",
      "\n",
      "See the caveats in the documentation: https://pandas.pydata.org/pandas-docs/stable/user_guide/indexing.html#returning-a-view-versus-a-copy\n",
      "  (adj_mask) & (future_mask == False)]\n"
     ]
    }
   ],
   "source": [
    "args = ['--s3_output_bebid_advancement_decisions', '']\n",
    "df_out = to_test.main_test(args, DKU_DST_ap_data_sector='CORN_NA_SUMMER')"
   ]
  },
  {
   "cell_type": "code",
   "execution_count": 6,
   "id": "bf8fb09a-a9ca-43c9-82db-45cd2f022f80",
   "metadata": {
    "tags": []
   },
   "outputs": [],
   "source": [
    "template = '''WITH \"rv_trait_config_backpop\" as (\n",
    "        SELECT ${DKU_DST_analysis_year} as \"analysis_year\", \"ap_data_sector_id\",\"ap_data_sector_name\",\"trait\",\"trait_guid\",\"description\",\n",
    "                    \"ap_analysis\",\"distribution_type\",\"viz_column\",\"direction\",\"conv_operator\",\"conv_factor\",\"spirit_uom\",\"viz_uom\",\"yield_trait\",\n",
    "                    \"level\",\"aae_use\",\"dme_metric\",\"dme_chkfl\",\"dme_reg_x\",\"dme_reg_y\",\"dme_rm_est\",\"dme_weighted_trait\",\"is_gse_analysis_require\",\"gse_trait_type\"\n",
    "                FROM  \"managed\".\"rv_ap_sector_trait_config\"\n",
    "                WHERE \"analysis_year\"=MAX(2019, ${DKU_DST_analysis_year})\n",
    "        \n",
    "    )\n",
    "    \n",
    "    SELECT DISTINCT \n",
    "        \"rv_ap_all_pvs\".\"ap_data_sector\" AS \"ap_data_sector\",\n",
    "        \"rv_ap_all_pvs\".\"analysis_type\" AS \"analysis_type\",\n",
    "        \"rv_ap_sector_trait_config\".\"analysis_year\" AS \"analysis_year\",\n",
    "        \"rv_ap_all_pvs\".\"source_id\" AS \"source_id\",\n",
    "        LOWER(\"rv_ap_all_pvs\".\"market_seg\") AS \"market_seg\",\n",
    "        \"rv_ap_all_pvs\".\"pipeline_runid\" AS \"pipeline_runid\",\n",
    "        \"rv_ap_all_pvs\".\"trait\" AS \"trait\",\n",
    "        \"rv_ap_all_pvs\".\"model\" AS \"model\",\n",
    "        CASE \n",
    "            WHEN \"rv_ap_all_pvs\".\"source_year\"=2022 THEN \"rv_ap_all_pvs\".\"entry_identifier\"\n",
    "            ELSE COALESCE(\"rv_corn_material_tester\".\"be_bid\", \"rv_ap_all_pvs\".\"entry_identifier\")\n",
    "        END as \"entry_identifier\",\n",
    "        \n",
    "        --\"rv_ap_all_pvs\".\"entry_identifier\" AS \"entry_identifier\",\n",
    "        CASE \n",
    "            WHEN \"rv_ap_all_pvs\".\"material_type\" LIKE '%ale'\n",
    "            THEN LOWER(\"rv_ap_all_pvs\".\"material_type\")\n",
    "            ELSE 'entry'\n",
    "            END AS \"material_type\",\n",
    "        \"rv_ap_all_pvs\".\"count\" AS \"count\",\n",
    "        \"rv_ap_all_pvs\".\"loc\" AS \"loc\",\n",
    "        \"rv_ap_all_pvs\".\"prediction\" AS \"prediction\",\n",
    "        \"rv_ap_all_pvs\".\"stderr\" AS \"stderr\",\n",
    "        \"rv_ap_sector_trait_config\".\"metric\" AS \"metric\",\n",
    "        \"rv_ap_sector_trait_config\".\"dme_chkfl\" AS \"dme_chkfl\",\n",
    "        \"rv_ap_sector_trait_config\".\"dme_reg_x\" AS \"dme_reg_x\",\n",
    "        \"rv_ap_sector_trait_config\".\"dme_reg_y\" AS \"dme_reg_y\",\n",
    "        \"rv_ap_sector_trait_config\".\"dme_rm_est\" AS \"dme_rm_est\"\n",
    "      FROM (\n",
    "        SELECT \"rv_ap_all_pvs\".*\n",
    "          FROM \"advancement\".\"rv_ap_all_pvs\" \"rv_ap_all_pvs\"\n",
    "          WHERE (((LOWER(\"analysis_type\") = 'multiyear') AND (LOWER(\"loc\") != 'all')) \n",
    "                 OR ((LOWER(\"loc\") = 'all') AND (LOWER(\"analysis_type\") != 'multiyear')))\n",
    "              AND \"ap_data_sector\" = '${DKU_DST_ap_data_sector}'\n",
    "              AND CAST(\"source_year\" AS integer) =  ${DKU_DST_analysis_year} \n",
    "              AND \"analysis_type\" = '${DKU_DST_analysis_type}'\n",
    "        ) \"rv_ap_all_pvs\"\n",
    "      INNER JOIN (\n",
    "        SELECT DISTINCT\n",
    "            CAST(\"analysis_year\" AS integer) AS \"analysis_year\",\n",
    "            \"ap_data_sector_id\" AS \"ap_data_sector_id\",\n",
    "            \"ap_data_sector_name\" AS \"ap_data_sector_name\",\n",
    "            \"trait\" AS \"trait\",\n",
    "            \"yield_trait\" AS \"yield_trait\",\n",
    "            \"level\" AS \"level\",\n",
    "            \"dme_metric\" AS \"dme_metric\",\n",
    "            \"dme_chkfl\" AS \"dme_chkfl\",\n",
    "            \"dme_reg_x\" AS \"dme_reg_x\",\n",
    "            \"dme_reg_y\" AS \"dme_reg_y\",\n",
    "            NULL AS \"dme_qualifier\",\n",
    "            \"dme_rm_est\" AS \"dme_rm_est\",\n",
    "            \"dme_weighted_trait\" AS \"dme_weighted_trait\",\n",
    "            CASE \n",
    "                WHEN \"dme_metric\" = 'performance'\n",
    "                  THEN 'performance'\n",
    "                WHEN \"dme_metric\" IN ('agronomic', 'disease', 'risk') \n",
    "                  THEN 'risk'\n",
    "                WHEN \"dme_metric\" = 'qualifier'\n",
    "                  THEN 'qualifier'\n",
    "                ELSE 'other'\n",
    "          END AS \"metric\"\n",
    "          FROM \"rv_trait_config_backpop\"\n",
    "          WHERE \"ap_data_sector_name\" = '${DKU_DST_ap_data_sector}'\n",
    "              AND CAST(\"analysis_year\" AS integer) =  ${DKU_DST_analysis_year}\n",
    "              AND (\"dme_metric\" != 'na' OR \"dme_reg_x\" = true OR \"dme_reg_y\" = true OR \"dme_rm_est\" != 0 OR \"dme_weighted_trait\" != 0)\n",
    "        ) \"rv_ap_sector_trait_config\"\n",
    "        ON (LOWER(\"rv_ap_all_pvs\".\"ap_data_sector\") = LOWER(\"rv_ap_sector_trait_config\".\"ap_data_sector_name\"))\n",
    "          AND (LOWER(\"rv_ap_all_pvs\".\"trait\") = LOWER(\"rv_ap_sector_trait_config\".\"trait\"))\n",
    "          AND (CAST(\"rv_ap_all_pvs\".\"source_year\" AS integer) = \"rv_ap_sector_trait_config\".\"analysis_year\")\n",
    "      LEFT JOIN (\n",
    "          SELECT DISTINCT\n",
    "              \"abbr_code\" as \"abbr_code\",\n",
    "              \"be_bid\" as \"be_bid\"\n",
    "          FROM \"advancement\".\"rv_corn_material_tester\"\n",
    "      \n",
    "      ) \"rv_corn_material_tester\"\n",
    "          ON \"rv_corn_material_tester\".\"abbr_code\"=\"rv_ap_all_pvs\".\"entry_identifier\"\n",
    "  '''"
   ]
  },
  {
   "cell_type": "code",
   "execution_count": 10,
   "id": "c5575c32-c544-43e4-9340-bbf367ed6e5e",
   "metadata": {
    "tags": []
   },
   "outputs": [],
   "source": [
    "# sql recipe...\n",
    "mapping = {\n",
    "                'DKU_DST_ap_data_sector': 'CORN_NA_SUMMER',\n",
    "                'DKU_DST_analysis_year': '2022',\n",
    "                'DKU_DST_analysis_type': 'GenoPred',\n",
    "                'source_ids': '',\n",
    "                'breakout_level': ''\n",
    "            }\n",
    "\n",
    "t = Template(template)\n",
    "sql = t.substitute(**mapping)\n",
    "\n",
    "start = time.time()\n",
    "with DenodoConnection() as dc:\n",
    "    df = dc.get_data(sql)\n",
    "\n",
    "end = time.time()\n",
    "print(\"Elapsed time:\", end - start)"
   ]
  }
 ],
 "metadata": {
  "availableInstances": [
   {
    "_defaultOrder": 0,
    "_isFastLaunch": true,
    "category": "General purpose",
    "gpuNum": 0,
    "hideHardwareSpecs": false,
    "memoryGiB": 4,
    "name": "ml.t3.medium",
    "vcpuNum": 2
   },
   {
    "_defaultOrder": 1,
    "_isFastLaunch": false,
    "category": "General purpose",
    "gpuNum": 0,
    "hideHardwareSpecs": false,
    "memoryGiB": 8,
    "name": "ml.t3.large",
    "vcpuNum": 2
   },
   {
    "_defaultOrder": 2,
    "_isFastLaunch": false,
    "category": "General purpose",
    "gpuNum": 0,
    "hideHardwareSpecs": false,
    "memoryGiB": 16,
    "name": "ml.t3.xlarge",
    "vcpuNum": 4
   },
   {
    "_defaultOrder": 3,
    "_isFastLaunch": false,
    "category": "General purpose",
    "gpuNum": 0,
    "hideHardwareSpecs": false,
    "memoryGiB": 32,
    "name": "ml.t3.2xlarge",
    "vcpuNum": 8
   },
   {
    "_defaultOrder": 4,
    "_isFastLaunch": true,
    "category": "General purpose",
    "gpuNum": 0,
    "hideHardwareSpecs": false,
    "memoryGiB": 8,
    "name": "ml.m5.large",
    "vcpuNum": 2
   },
   {
    "_defaultOrder": 5,
    "_isFastLaunch": false,
    "category": "General purpose",
    "gpuNum": 0,
    "hideHardwareSpecs": false,
    "memoryGiB": 16,
    "name": "ml.m5.xlarge",
    "vcpuNum": 4
   },
   {
    "_defaultOrder": 6,
    "_isFastLaunch": false,
    "category": "General purpose",
    "gpuNum": 0,
    "hideHardwareSpecs": false,
    "memoryGiB": 32,
    "name": "ml.m5.2xlarge",
    "vcpuNum": 8
   },
   {
    "_defaultOrder": 7,
    "_isFastLaunch": false,
    "category": "General purpose",
    "gpuNum": 0,
    "hideHardwareSpecs": false,
    "memoryGiB": 64,
    "name": "ml.m5.4xlarge",
    "vcpuNum": 16
   },
   {
    "_defaultOrder": 8,
    "_isFastLaunch": false,
    "category": "General purpose",
    "gpuNum": 0,
    "hideHardwareSpecs": false,
    "memoryGiB": 128,
    "name": "ml.m5.8xlarge",
    "vcpuNum": 32
   },
   {
    "_defaultOrder": 9,
    "_isFastLaunch": false,
    "category": "General purpose",
    "gpuNum": 0,
    "hideHardwareSpecs": false,
    "memoryGiB": 192,
    "name": "ml.m5.12xlarge",
    "vcpuNum": 48
   },
   {
    "_defaultOrder": 10,
    "_isFastLaunch": false,
    "category": "General purpose",
    "gpuNum": 0,
    "hideHardwareSpecs": false,
    "memoryGiB": 256,
    "name": "ml.m5.16xlarge",
    "vcpuNum": 64
   },
   {
    "_defaultOrder": 11,
    "_isFastLaunch": false,
    "category": "General purpose",
    "gpuNum": 0,
    "hideHardwareSpecs": false,
    "memoryGiB": 384,
    "name": "ml.m5.24xlarge",
    "vcpuNum": 96
   },
   {
    "_defaultOrder": 12,
    "_isFastLaunch": false,
    "category": "General purpose",
    "gpuNum": 0,
    "hideHardwareSpecs": false,
    "memoryGiB": 8,
    "name": "ml.m5d.large",
    "vcpuNum": 2
   },
   {
    "_defaultOrder": 13,
    "_isFastLaunch": false,
    "category": "General purpose",
    "gpuNum": 0,
    "hideHardwareSpecs": false,
    "memoryGiB": 16,
    "name": "ml.m5d.xlarge",
    "vcpuNum": 4
   },
   {
    "_defaultOrder": 14,
    "_isFastLaunch": false,
    "category": "General purpose",
    "gpuNum": 0,
    "hideHardwareSpecs": false,
    "memoryGiB": 32,
    "name": "ml.m5d.2xlarge",
    "vcpuNum": 8
   },
   {
    "_defaultOrder": 15,
    "_isFastLaunch": false,
    "category": "General purpose",
    "gpuNum": 0,
    "hideHardwareSpecs": false,
    "memoryGiB": 64,
    "name": "ml.m5d.4xlarge",
    "vcpuNum": 16
   },
   {
    "_defaultOrder": 16,
    "_isFastLaunch": false,
    "category": "General purpose",
    "gpuNum": 0,
    "hideHardwareSpecs": false,
    "memoryGiB": 128,
    "name": "ml.m5d.8xlarge",
    "vcpuNum": 32
   },
   {
    "_defaultOrder": 17,
    "_isFastLaunch": false,
    "category": "General purpose",
    "gpuNum": 0,
    "hideHardwareSpecs": false,
    "memoryGiB": 192,
    "name": "ml.m5d.12xlarge",
    "vcpuNum": 48
   },
   {
    "_defaultOrder": 18,
    "_isFastLaunch": false,
    "category": "General purpose",
    "gpuNum": 0,
    "hideHardwareSpecs": false,
    "memoryGiB": 256,
    "name": "ml.m5d.16xlarge",
    "vcpuNum": 64
   },
   {
    "_defaultOrder": 19,
    "_isFastLaunch": false,
    "category": "General purpose",
    "gpuNum": 0,
    "hideHardwareSpecs": false,
    "memoryGiB": 384,
    "name": "ml.m5d.24xlarge",
    "vcpuNum": 96
   },
   {
    "_defaultOrder": 20,
    "_isFastLaunch": false,
    "category": "General purpose",
    "gpuNum": 0,
    "hideHardwareSpecs": true,
    "memoryGiB": 0,
    "name": "ml.geospatial.interactive",
    "supportedImageNames": [
     "sagemaker-geospatial-v1-0"
    ],
    "vcpuNum": 0
   },
   {
    "_defaultOrder": 21,
    "_isFastLaunch": true,
    "category": "Compute optimized",
    "gpuNum": 0,
    "hideHardwareSpecs": false,
    "memoryGiB": 4,
    "name": "ml.c5.large",
    "vcpuNum": 2
   },
   {
    "_defaultOrder": 22,
    "_isFastLaunch": false,
    "category": "Compute optimized",
    "gpuNum": 0,
    "hideHardwareSpecs": false,
    "memoryGiB": 8,
    "name": "ml.c5.xlarge",
    "vcpuNum": 4
   },
   {
    "_defaultOrder": 23,
    "_isFastLaunch": false,
    "category": "Compute optimized",
    "gpuNum": 0,
    "hideHardwareSpecs": false,
    "memoryGiB": 16,
    "name": "ml.c5.2xlarge",
    "vcpuNum": 8
   },
   {
    "_defaultOrder": 24,
    "_isFastLaunch": false,
    "category": "Compute optimized",
    "gpuNum": 0,
    "hideHardwareSpecs": false,
    "memoryGiB": 32,
    "name": "ml.c5.4xlarge",
    "vcpuNum": 16
   },
   {
    "_defaultOrder": 25,
    "_isFastLaunch": false,
    "category": "Compute optimized",
    "gpuNum": 0,
    "hideHardwareSpecs": false,
    "memoryGiB": 72,
    "name": "ml.c5.9xlarge",
    "vcpuNum": 36
   },
   {
    "_defaultOrder": 26,
    "_isFastLaunch": false,
    "category": "Compute optimized",
    "gpuNum": 0,
    "hideHardwareSpecs": false,
    "memoryGiB": 96,
    "name": "ml.c5.12xlarge",
    "vcpuNum": 48
   },
   {
    "_defaultOrder": 27,
    "_isFastLaunch": false,
    "category": "Compute optimized",
    "gpuNum": 0,
    "hideHardwareSpecs": false,
    "memoryGiB": 144,
    "name": "ml.c5.18xlarge",
    "vcpuNum": 72
   },
   {
    "_defaultOrder": 28,
    "_isFastLaunch": false,
    "category": "Compute optimized",
    "gpuNum": 0,
    "hideHardwareSpecs": false,
    "memoryGiB": 192,
    "name": "ml.c5.24xlarge",
    "vcpuNum": 96
   },
   {
    "_defaultOrder": 29,
    "_isFastLaunch": true,
    "category": "Accelerated computing",
    "gpuNum": 1,
    "hideHardwareSpecs": false,
    "memoryGiB": 16,
    "name": "ml.g4dn.xlarge",
    "vcpuNum": 4
   },
   {
    "_defaultOrder": 30,
    "_isFastLaunch": false,
    "category": "Accelerated computing",
    "gpuNum": 1,
    "hideHardwareSpecs": false,
    "memoryGiB": 32,
    "name": "ml.g4dn.2xlarge",
    "vcpuNum": 8
   },
   {
    "_defaultOrder": 31,
    "_isFastLaunch": false,
    "category": "Accelerated computing",
    "gpuNum": 1,
    "hideHardwareSpecs": false,
    "memoryGiB": 64,
    "name": "ml.g4dn.4xlarge",
    "vcpuNum": 16
   },
   {
    "_defaultOrder": 32,
    "_isFastLaunch": false,
    "category": "Accelerated computing",
    "gpuNum": 1,
    "hideHardwareSpecs": false,
    "memoryGiB": 128,
    "name": "ml.g4dn.8xlarge",
    "vcpuNum": 32
   },
   {
    "_defaultOrder": 33,
    "_isFastLaunch": false,
    "category": "Accelerated computing",
    "gpuNum": 4,
    "hideHardwareSpecs": false,
    "memoryGiB": 192,
    "name": "ml.g4dn.12xlarge",
    "vcpuNum": 48
   },
   {
    "_defaultOrder": 34,
    "_isFastLaunch": false,
    "category": "Accelerated computing",
    "gpuNum": 1,
    "hideHardwareSpecs": false,
    "memoryGiB": 256,
    "name": "ml.g4dn.16xlarge",
    "vcpuNum": 64
   },
   {
    "_defaultOrder": 35,
    "_isFastLaunch": false,
    "category": "Accelerated computing",
    "gpuNum": 1,
    "hideHardwareSpecs": false,
    "memoryGiB": 61,
    "name": "ml.p3.2xlarge",
    "vcpuNum": 8
   },
   {
    "_defaultOrder": 36,
    "_isFastLaunch": false,
    "category": "Accelerated computing",
    "gpuNum": 4,
    "hideHardwareSpecs": false,
    "memoryGiB": 244,
    "name": "ml.p3.8xlarge",
    "vcpuNum": 32
   },
   {
    "_defaultOrder": 37,
    "_isFastLaunch": false,
    "category": "Accelerated computing",
    "gpuNum": 8,
    "hideHardwareSpecs": false,
    "memoryGiB": 488,
    "name": "ml.p3.16xlarge",
    "vcpuNum": 64
   },
   {
    "_defaultOrder": 38,
    "_isFastLaunch": false,
    "category": "Accelerated computing",
    "gpuNum": 8,
    "hideHardwareSpecs": false,
    "memoryGiB": 768,
    "name": "ml.p3dn.24xlarge",
    "vcpuNum": 96
   },
   {
    "_defaultOrder": 39,
    "_isFastLaunch": false,
    "category": "Memory Optimized",
    "gpuNum": 0,
    "hideHardwareSpecs": false,
    "memoryGiB": 16,
    "name": "ml.r5.large",
    "vcpuNum": 2
   },
   {
    "_defaultOrder": 40,
    "_isFastLaunch": false,
    "category": "Memory Optimized",
    "gpuNum": 0,
    "hideHardwareSpecs": false,
    "memoryGiB": 32,
    "name": "ml.r5.xlarge",
    "vcpuNum": 4
   },
   {
    "_defaultOrder": 41,
    "_isFastLaunch": false,
    "category": "Memory Optimized",
    "gpuNum": 0,
    "hideHardwareSpecs": false,
    "memoryGiB": 64,
    "name": "ml.r5.2xlarge",
    "vcpuNum": 8
   },
   {
    "_defaultOrder": 42,
    "_isFastLaunch": false,
    "category": "Memory Optimized",
    "gpuNum": 0,
    "hideHardwareSpecs": false,
    "memoryGiB": 128,
    "name": "ml.r5.4xlarge",
    "vcpuNum": 16
   },
   {
    "_defaultOrder": 43,
    "_isFastLaunch": false,
    "category": "Memory Optimized",
    "gpuNum": 0,
    "hideHardwareSpecs": false,
    "memoryGiB": 256,
    "name": "ml.r5.8xlarge",
    "vcpuNum": 32
   },
   {
    "_defaultOrder": 44,
    "_isFastLaunch": false,
    "category": "Memory Optimized",
    "gpuNum": 0,
    "hideHardwareSpecs": false,
    "memoryGiB": 384,
    "name": "ml.r5.12xlarge",
    "vcpuNum": 48
   },
   {
    "_defaultOrder": 45,
    "_isFastLaunch": false,
    "category": "Memory Optimized",
    "gpuNum": 0,
    "hideHardwareSpecs": false,
    "memoryGiB": 512,
    "name": "ml.r5.16xlarge",
    "vcpuNum": 64
   },
   {
    "_defaultOrder": 46,
    "_isFastLaunch": false,
    "category": "Memory Optimized",
    "gpuNum": 0,
    "hideHardwareSpecs": false,
    "memoryGiB": 768,
    "name": "ml.r5.24xlarge",
    "vcpuNum": 96
   },
   {
    "_defaultOrder": 47,
    "_isFastLaunch": false,
    "category": "Accelerated computing",
    "gpuNum": 1,
    "hideHardwareSpecs": false,
    "memoryGiB": 16,
    "name": "ml.g5.xlarge",
    "vcpuNum": 4
   },
   {
    "_defaultOrder": 48,
    "_isFastLaunch": false,
    "category": "Accelerated computing",
    "gpuNum": 1,
    "hideHardwareSpecs": false,
    "memoryGiB": 32,
    "name": "ml.g5.2xlarge",
    "vcpuNum": 8
   },
   {
    "_defaultOrder": 49,
    "_isFastLaunch": false,
    "category": "Accelerated computing",
    "gpuNum": 1,
    "hideHardwareSpecs": false,
    "memoryGiB": 64,
    "name": "ml.g5.4xlarge",
    "vcpuNum": 16
   },
   {
    "_defaultOrder": 50,
    "_isFastLaunch": false,
    "category": "Accelerated computing",
    "gpuNum": 1,
    "hideHardwareSpecs": false,
    "memoryGiB": 128,
    "name": "ml.g5.8xlarge",
    "vcpuNum": 32
   },
   {
    "_defaultOrder": 51,
    "_isFastLaunch": false,
    "category": "Accelerated computing",
    "gpuNum": 1,
    "hideHardwareSpecs": false,
    "memoryGiB": 256,
    "name": "ml.g5.16xlarge",
    "vcpuNum": 64
   },
   {
    "_defaultOrder": 52,
    "_isFastLaunch": false,
    "category": "Accelerated computing",
    "gpuNum": 4,
    "hideHardwareSpecs": false,
    "memoryGiB": 192,
    "name": "ml.g5.12xlarge",
    "vcpuNum": 48
   },
   {
    "_defaultOrder": 53,
    "_isFastLaunch": false,
    "category": "Accelerated computing",
    "gpuNum": 4,
    "hideHardwareSpecs": false,
    "memoryGiB": 384,
    "name": "ml.g5.24xlarge",
    "vcpuNum": 96
   },
   {
    "_defaultOrder": 54,
    "_isFastLaunch": false,
    "category": "Accelerated computing",
    "gpuNum": 8,
    "hideHardwareSpecs": false,
    "memoryGiB": 768,
    "name": "ml.g5.48xlarge",
    "vcpuNum": 192
   },
   {
    "_defaultOrder": 55,
    "_isFastLaunch": false,
    "category": "Accelerated computing",
    "gpuNum": 8,
    "hideHardwareSpecs": false,
    "memoryGiB": 1152,
    "name": "ml.p4d.24xlarge",
    "vcpuNum": 96
   },
   {
    "_defaultOrder": 56,
    "_isFastLaunch": false,
    "category": "Accelerated computing",
    "gpuNum": 8,
    "hideHardwareSpecs": false,
    "memoryGiB": 1152,
    "name": "ml.p4de.24xlarge",
    "vcpuNum": 96
   }
  ],
  "kernelspec": {
   "display_name": "Python 3 (Data Science)",
   "language": "python",
   "name": "python3__SAGEMAKER_INTERNAL__arn:aws:sagemaker:us-east-1:081325390199:image/datascience-1.0"
  },
  "language_info": {
   "codemirror_mode": {
    "name": "ipython",
    "version": 3
   },
   "file_extension": ".py",
   "mimetype": "text/x-python",
   "name": "python",
   "nbconvert_exporter": "python",
   "pygments_lexer": "ipython3",
   "version": "3.7.10"
  }
 },
 "nbformat": 4,
 "nbformat_minor": 5
}
