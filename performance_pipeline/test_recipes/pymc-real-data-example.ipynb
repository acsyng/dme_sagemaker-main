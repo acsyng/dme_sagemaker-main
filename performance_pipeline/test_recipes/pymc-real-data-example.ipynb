{
 "cells": [
  {
   "cell_type": "code",
   "execution_count": 2,
   "id": "19ce3177-2e1a-4e91-96b1-5ca3aae2626d",
   "metadata": {
    "tags": []
   },
   "outputs": [
    {
     "name": "stderr",
     "output_type": "stream",
     "text": [
      "WARNING (pytensor.configdefaults): g++ not detected!  PyTensor will be unable to compile C-implementations and will default to Python. Performance may be severely degraded. To remove this warning, set PyTensor flags cxx to an empty string.\n",
      "WARNING (pytensor.tensor.blas): Using NumPy C-API based implementation for BLAS functions.\n"
     ]
    },
    {
     "name": "stdout",
     "output_type": "stream",
     "text": [
      "5.8.0\n",
      "Collecting git+https://github.com/pymc-devs/pymc-bart.git@main\n",
      "  Cloning https://github.com/pymc-devs/pymc-bart.git (to revision main) to /tmp/pip-req-build-jiyqu3lr\n",
      "  Running command git clone --filter=blob:none --quiet https://github.com/pymc-devs/pymc-bart.git /tmp/pip-req-build-jiyqu3lr\n",
      "  Resolved https://github.com/pymc-devs/pymc-bart.git to commit 709d3c4d08d5e17740db25e52b66c6e0846879c3\n",
      "  Installing build dependencies ... \u001b[?25ldone\n",
      "\u001b[?25h  Getting requirements to build wheel ... \u001b[?25ldone\n",
      "\u001b[?25h  Preparing metadata (pyproject.toml) ... \u001b[?25ldone\n",
      "\u001b[?25hBuilding wheels for collected packages: pymc-bart\n",
      "  Building wheel for pymc-bart (pyproject.toml) ... \u001b[?25ldone\n",
      "\u001b[?25h  Created wheel for pymc-bart: filename=pymc_bart-0.5.1-py3-none-any.whl size=32982 sha256=c2fad375a9c61995f24889b3a79b93afb47e4323b789564f4b209ab84a3797cc\n",
      "  Stored in directory: /tmp/pip-ephem-wheel-cache-4s5hwh_l/wheels/dd/bb/fa/be5eab50aea9b866e2b73d658b13b91fe445e12c4a1a18fe7a\n",
      "Successfully built pymc-bart\n",
      "Installing collected packages: pymc-bart\n",
      "  Attempting uninstall: pymc-bart\n",
      "    Found existing installation: pymc-bart 0.5.1\n",
      "    Uninstalling pymc-bart-0.5.1:\n",
      "      Successfully uninstalled pymc-bart-0.5.1\n",
      "Successfully installed pymc-bart-0.5.1\n",
      "\u001b[33mWARNING: Running pip as the 'root' user can result in broken permissions and conflicting behaviour with the system package manager. It is recommended to use a virtual environment instead: https://pip.pypa.io/warnings/venv\u001b[0m\u001b[33m\n",
      "\u001b[0m\n",
      "\u001b[1m[\u001b[0m\u001b[34;49mnotice\u001b[0m\u001b[1;39;49m]\u001b[0m\u001b[39;49m A new release of pip is available: \u001b[0m\u001b[31;49m23.1.2\u001b[0m\u001b[39;49m -> \u001b[0m\u001b[32;49m23.2.1\u001b[0m\n",
      "\u001b[1m[\u001b[0m\u001b[34;49mnotice\u001b[0m\u001b[1;39;49m]\u001b[0m\u001b[39;49m To update, run: \u001b[0m\u001b[32;49mpip install --upgrade pip\u001b[0m\n",
      "Note: you may need to restart the kernel to use updated packages.\n",
      "0.5.1\n"
     ]
    }
   ],
   "source": [
    "try:\n",
    "    import pymc as pm\n",
    "except:\n",
    "    %pip install pymc==5.8.0    \n",
    "    import pymc as pm\n",
    "    \n",
    "print(pm.__version__)\n",
    "\n",
    "%pip install --force-reinstall --no-deps git+https://github.com/pymc-devs/pymc-bart.git@main\n",
    "#try:\n",
    "import pymc_bart as pmb\n",
    "#except:\n",
    "#    %pip install pymc-bart\n",
    "#    import pymc_bart as pmb\n",
    "    \n",
    "\n",
    "print(pmb.__version__)\n",
    "\n",
    "%matplotlib inline\n",
    "import matplotlib.pyplot as plt\n",
    "import numpy as np\n",
    "import pandas as pd\n",
    "\n",
    "from sklearn.model_selection import train_test_split\n",
    "from sklearn.metrics import roc_auc_score\n",
    "from sklearn.metrics import confusion_matrix\n",
    "\n",
    "import os\n",
    "import pickle\n",
    "\n",
    "import boto3\n",
    "from sagemaker import get_execution_role\n",
    "import xgboost"
   ]
  },
  {
   "cell_type": "code",
   "execution_count": 3,
   "id": "424f01da-608e-41c0-bc09-991815b3814e",
   "metadata": {
    "tags": []
   },
   "outputs": [],
   "source": [
    "# configure training/testing environment\n",
    "DKU_DST_ap_data_sector = 'SOY_NA_SUMMER'\n",
    "DKU_DST_analysis_type = 'SingleExp'\n",
    "\n",
    "tune = 10\n",
    "draws = 50\n",
    "chains= 1\n",
    "n_trees =  20\n",
    "\n",
    "train_yrs = [2020,2021]\n",
    "test_yr = 2022\n",
    "\n",
    "tree_fname = 'BART_real_data_forest_20trees_50draws_1chains_fewtraits.pkl' # filename\n",
    "data_fname = 'BART_real_test_data_fewtraits.pkl'\n",
    "\n",
    "load_data_from_s3 = 0 # otherwise load saved data\n",
    "train_bart_model = 1\n",
    "save_bart_model = 1 # otherwise load model\n",
    "\n",
    "# useful functions\n",
    "def get_predictions_from_trees(forests, x_te):\n",
    "    # sample from each forest in forests\n",
    "    # forests is a list of a list.\n",
    "    # the outer list contains each forest\n",
    "    # each forest contains trees. Average predictions from each tree in a forest, output each forest prediction\n",
    "    # output is x_te.shape[0] x N_forests\n",
    "    \n",
    "    pred_out = np.zeros((x_te.shape[0], len(forests)))\n",
    "    for i_forest in range(len(forests)):\n",
    "        trees = forests[i_forest]\n",
    "        temp_pred = 0\n",
    "        for tree in trees:\n",
    "            temp_pred += tree.predict(x_te)\n",
    "        pred_out[:,i_forest] = temp_pred\n",
    "    return pred_out\n",
    "\n",
    "def invlogit(x):\n",
    "    return 1/(1+np.exp(-x))\n",
    "\n",
    "def sample_posterior(forests, x_te):\n",
    "    forest_pred = get_predictions_from_trees(forests,x_te)\n",
    "    return invlogit(forest_pred)"
   ]
  },
  {
   "cell_type": "code",
   "execution_count": 4,
   "id": "3a0ad4ad-51fa-48fd-8d5d-f0c5b4e7d852",
   "metadata": {
    "tags": []
   },
   "outputs": [],
   "source": [
    "if load_data_from_s3:\n",
    "    # read inputs\n",
    "    # code below is to get data from s3 bucket...?\n",
    "    role = get_execution_role() # not necessary\n",
    "    region = boto3.Session().region_name # not necessary\n",
    "    bucket='us.com.syngenta.ap.nonprod' # Replace with your s3 bucket name\n",
    "\n",
    "    df_all_melt = pd.DataFrame()\n",
    "    for yr in ['2020','2021','2022']:\n",
    "        fpath = 'uat/dme/performance/compute_pred_adv_data_collected/data/SOY_NA_SUMMER/SingleExp/{}'.format(yr) # fpath within bucket\n",
    "        fname = 'pred_adv_data_collected.csv' # filename\n",
    "        data_location = 's3://{}/{}/{}'.format(bucket,fpath,fname)\n",
    "        df_temp = pd.read_csv(data_location)\n",
    "        df_all_melt = pd.concat((df_all_melt,df_temp),axis=0)\n",
    "\n",
    "    # pivot table, get appropriate stage\n",
    "    # set index columns previously used to melt data\n",
    "    melt_cols = ['ap_data_sector','analysis_year','entry_identifier',\\\n",
    "                 'material_type','decision_group_rm','technology','trait','var']\n",
    "\n",
    "    #if DKU_DST_ap_data_sector == 'SOY_NA_SUMMER':\n",
    "        #melt_cols.remove('source_id')\n",
    "\n",
    "    melt_no_stack_cols = melt_cols.copy()\n",
    "    melt_no_stack_cols.remove('trait')\n",
    "    melt_no_stack_cols.remove('var')\n",
    "\n",
    "    # set some inputs and clean up some columns\n",
    "    if DKU_DST_ap_data_sector == 'CORN_NA_SUMMER' or DKU_DST_ap_data_sector == 'SOY_NA_SUMMER':\n",
    "        yield_trait = 'YGSMN'\n",
    "    elif DKU_DST_ap_data_sector == 'CORN_EAME_SUMMER':\n",
    "        yield_trait = 'YSDMN'\n",
    "\n",
    "    df_all_melt['technology'] = df_all_melt['technology'].fillna(value='conv')\n",
    "\n",
    "    # update type of some cols\n",
    "    float_cols = ['stage','decision_group_rm']\n",
    "    for col in float_cols:\n",
    "        df_all_melt[col] = df_all_melt[col].astype(float)\n",
    "\n",
    "    # replace Nan's for some cols\n",
    "    df_all_melt['trait'][df_all_melt['trait'].isna()] = ''\n",
    "    #df_all_melt['decision_group'][df_all_melt['decision_group'].isna()] = 'na'\n",
    "    df_all_melt[melt_no_stack_cols] = df_all_melt[melt_no_stack_cols].fillna(value=-1045)\n",
    "\n",
    "\n",
    "    # fix strings to other tpyes\n",
    "    for as_str, as_bool in zip(['False','True'],[0, 1]):\n",
    "        df_all_melt['value'][df_all_melt['value'] == as_str] = as_bool\n",
    "\n",
    "    # shorten some variable names\n",
    "    var_mapper = {'result_numeric_value':'result'}\n",
    "    for var in var_mapper:\n",
    "        df_all_melt['var'][df_all_melt['var']==var]=var_mapper[var]\n",
    "    \n",
    "    ### condense df_all_melt to avoid memory issues when pivoting\n",
    "    df_all_melt = df_all_melt[(df_all_melt['var'] == 'result_diff') |\n",
    "                              ((df_all_melt['var'] == 'result') & (df_all_melt['trait'] == 'MRTYN')) | \n",
    "                              ((df_all_melt['var'] == 'result') & (df_all_melt['trait'] == 'PLHTN')) | \n",
    "                              ((df_all_melt['var'] == 'result') & (df_all_melt['trait'] == 'IC__N')) |\n",
    "                              (df_all_melt['var']=='current_stage') | \n",
    "                              (df_all_melt['var'] == 'was_adv')]\n",
    "    \n",
    "    # pivot dataframe by trait and var (only care about current year's data for now)\n",
    "    #df_all_melt['value'] = df_all_melt['value'].astype(float)\n",
    "\n",
    "    df_all = df_all_melt.pivot_table(values=['value'],index=melt_no_stack_cols,columns=['var','trait'],\n",
    "                                          aggfunc={'value':'first'}).reset_index()\n",
    "    # rename columns and reset index\n",
    "    df_all.columns = ['_'.join(filter(None,col_tuple)).replace('value','').replace('alpha_','').strip('_') for col_tuple in df_all.columns]\n",
    "    df_all = df_all.rename_axis(None, axis=1)\n",
    "\n",
    "    # update datetype for certain columns\n",
    "    type_map = {'prediction':float, 'stderr':float, 'result':float,\n",
    "                'result_diff':float,'rm_estimate':float, 'e_rm':float,\n",
    "                'bvaln':float, 'sbssn':float,\n",
    "                'prev_stage':float, 'current_stage':float,'next_stage':float,'third_stage':float,'selection_remark':float,\n",
    "                'was_adv':bool,'was_adv_next':bool}\n",
    "\n",
    "    for key in type_map.keys():\n",
    "        cols_to_update = list(df_all.columns[[key in col for col in df_all.columns]])\n",
    "        df_all[cols_to_update] = df_all[cols_to_update].astype(type_map[key])\n",
    "    \n",
    "    df_use = df_all[(df_all['material_type']=='entry') &\n",
    "                      (df_all['current_stage'] >= 3) &\n",
    "                      (df_all['current_stage'] <= 3)]\n",
    "\n",
    "    #### preprocess text traits for soy\n",
    "    extra_traits = ['decision_group_rm']\n",
    "    numeric_raw_traits = ['PLHTN','IC__N','MRTYN']\n",
    "    numeric_diff_traits = ['EMRGR',\\\n",
    "                     'YGSMN','HLDGR','HVAPR',\\\n",
    "                     ]\n",
    "    text_traits = ['bp_t','bsr_t','cls_t','cn3_t','dic_t',\\\n",
    "                  'dpm_t','e1_t','e3_t','fels_t','fl_ct','ll55_t',\\\n",
    "                  'met_t','mi__t','pb_ct','rr2_t',\\\n",
    "                  'stmtt','sts_t','hilct' ,'rps_t']\n",
    "\n",
    "    text_suffix = {'bsr_t':'Rbs1','fels_t':'Rcs3'}\n",
    "    text_prefix = {'fels_t':'','bp_t':'','bsr_t':'','cls_t':'','dic_t':'','dpm_t':'',\n",
    "                    'e1_t':'','e3_t':'','fels_t':'','fl_ct':'','ll55_t':'','met_t':'',\n",
    "                    'mi__t':'','pb_ct':'','pd_ct':'','rr2_t':'','stmtt':'','sts_t':''}\n",
    "\n",
    "    clean_text = {'cls_t':'_'}\n",
    "    \n",
    "    in_cols = ['result_'+trait for trait in numeric_raw_traits]\n",
    "    in_cols.extend(['result_diff_'+trait for trait in numeric_diff_traits])\n",
    "\n",
    "    train_mask = np.any(df_use['analysis_year'].values.reshape(-1,1) == np.array(train_yrs).reshape(1,-1),axis=1)\n",
    "    df_tr = df_use.iloc[train_mask==True]\n",
    "    df_te = df_use.iloc[train_mask==False]\n",
    "\n",
    "    x_tr = df_tr[in_cols].fillna(value=df_tr[in_cols].mean(axis=0)).values\n",
    "    y_tr = df_tr['was_adv'].values\n",
    "\n",
    "    x_te = df_te[in_cols].fillna(value=df_tr[in_cols].mean(axis=0)).values\n",
    "    y_te = df_te['was_adv'].values\n",
    "    \n",
    "    with open(data_fname,'wb') as f:\n",
    "        pickle.dump({'x_tr':x_tr,'y_tr':y_tr,'x_te':x_te,'y_te':y_te,'in_cols':in_cols},f)\n",
    "else:\n",
    "    with open(data_fname,'rb') as f:\n",
    "        train_test_data = pickle.load(f)\n",
    "        \n",
    "    x_tr = train_test_data['x_tr']\n",
    "    y_tr = train_test_data['y_tr']\n",
    "    x_te = train_test_data['x_te']\n",
    "    y_te = train_test_data['y_te']\n",
    "    in_cols = train_test_data['in_cols']"
   ]
  },
  {
   "cell_type": "code",
   "execution_count": 5,
   "id": "4161da13-ff87-411b-9402-7b99147d2a14",
   "metadata": {
    "tags": []
   },
   "outputs": [],
   "source": [
    "trait_priors = {'PLHTN':1,'IC__N':1.5,'MRTYN':1,'EMRGR':1,'YGSMN':5,'HLDGR':2.5,'HVAPR':1}\n",
    "BART_feature_priors = []\n",
    "for col in in_cols:\n",
    "    if 'diff' in col:\n",
    "        trait = '_'.join(col.split('_')[2:])\n",
    "    else:\n",
    "        trait = '_'.join(col.split('_')[1:])\n",
    "                         \n",
    "    if trait in trait_priors:\n",
    "        BART_feature_priors.append(trait_priors[trait])\n",
    "    else:\n",
    "        BART_feature_priors.append(0)\n",
    "        \n",
    "BART_feature_priors = np.array(BART_feature_priors)"
   ]
  },
  {
   "cell_type": "code",
   "execution_count": 8,
   "id": "dec42e77-0f21-4a98-90fd-851dda31ee3d",
   "metadata": {
    "tags": []
   },
   "outputs": [
    {
     "name": "stdout",
     "output_type": "stream",
     "text": [
      "scale weight: 7.636056237764727\n"
     ]
    },
    {
     "name": "stderr",
     "output_type": "stream",
     "text": [
      "Only 50 samples in chain.\n",
      "Sequential sampling (1 chains in 1 job)\n",
      "PGBART: [mu]\n"
     ]
    },
    {
     "data": {
      "text/html": [
       "\n",
       "<style>\n",
       "    /* Turns off some styling */\n",
       "    progress {\n",
       "        /* gets rid of default border in Firefox and Opera. */\n",
       "        border: none;\n",
       "        /* Needs to be in here for Safari polyfill so background images work as expected. */\n",
       "        background-size: auto;\n",
       "    }\n",
       "    progress:not([value]), progress:not([value])::-webkit-progress-bar {\n",
       "        background: repeating-linear-gradient(45deg, #7e7e7e, #7e7e7e 10px, #5c5c5c 10px, #5c5c5c 20px);\n",
       "    }\n",
       "    .progress-bar-interrupted, .progress-bar-interrupted::-webkit-progress-bar {\n",
       "        background: #F44336;\n",
       "    }\n",
       "</style>\n"
      ],
      "text/plain": [
       "<IPython.core.display.HTML object>"
      ]
     },
     "metadata": {},
     "output_type": "display_data"
    },
    {
     "data": {
      "text/html": [
       "\n",
       "    <div>\n",
       "      <progress value='60' class='' max='60' style='width:300px; height:20px; vertical-align: middle;'></progress>\n",
       "      100.00% [60/60 1:46:08&lt;00:00 Sampling chain 0, 0 divergences]\n",
       "    </div>\n",
       "    "
      ],
      "text/plain": [
       "<IPython.core.display.HTML object>"
      ]
     },
     "metadata": {},
     "output_type": "display_data"
    },
    {
     "name": "stderr",
     "output_type": "stream",
     "text": [
      "Sampling 1 chain for 10 tune and 50 draw iterations (10 + 50 draws total) took 6369 seconds.\n",
      "The number of samples is too small to check convergence reliably.\n",
      "/tmp/ipykernel_23383/673161531.py:22: UserWarning: The effect of Potentials on other parameters is ignored during posterior predictive sampling. This is likely to lead to invalid or biased predictive samples.\n",
      "  posterior_train = pm.sample_posterior_predictive(trace=idata_train,\n",
      "Sampling: []\n"
     ]
    },
    {
     "data": {
      "text/html": [
       "\n",
       "<style>\n",
       "    /* Turns off some styling */\n",
       "    progress {\n",
       "        /* gets rid of default border in Firefox and Opera. */\n",
       "        border: none;\n",
       "        /* Needs to be in here for Safari polyfill so background images work as expected. */\n",
       "        background-size: auto;\n",
       "    }\n",
       "    progress:not([value]), progress:not([value])::-webkit-progress-bar {\n",
       "        background: repeating-linear-gradient(45deg, #7e7e7e, #7e7e7e 10px, #5c5c5c 10px, #5c5c5c 20px);\n",
       "    }\n",
       "    .progress-bar-interrupted, .progress-bar-interrupted::-webkit-progress-bar {\n",
       "        background: #F44336;\n",
       "    }\n",
       "</style>\n"
      ],
      "text/plain": [
       "<IPython.core.display.HTML object>"
      ]
     },
     "metadata": {},
     "output_type": "display_data"
    },
    {
     "data": {
      "text/html": [
       "\n",
       "    <div>\n",
       "      <progress value='50' class='' max='50' style='width:300px; height:20px; vertical-align: middle;'></progress>\n",
       "      100.00% [50/50 00:00&lt;00:00]\n",
       "    </div>\n",
       "    "
      ],
      "text/plain": [
       "<IPython.core.display.HTML object>"
      ]
     },
     "metadata": {},
     "output_type": "display_data"
    },
    {
     "data": {
      "image/png": "[encoded data removed]",
      "text/plain": [
       "<Figure size 640x480 with 1 Axes>"
      ]
     },
     "metadata": {},
     "output_type": "display_data"
    }
   ],
   "source": [
    "# BART: define and train model\n",
    "if train_bart_model:\n",
    "    weights  = np.ones((x_tr.shape[0],))   \n",
    "    scale_pos_weight = np.sum(y_tr==0)/np.sum(y_tr==1)\n",
    "    weights[y_tr==1] = scale_pos_weight\n",
    "    print(\"scale weight:\", scale_pos_weight)\n",
    "    \n",
    "    with pm.Model() as bart_model:\n",
    "        X = pm.MutableData(\"X\", x_tr, dims=(\"obs\",\"feature\"))\n",
    "        Y = y_tr\n",
    "        # the probability that a node at depth d (0,1,2,3...) is non-terminalis given by: alpha * ((1+d)^(-beta))\n",
    "        # alpha=0.95, beta=2 is default. may want to tune hyperparameters?\n",
    "        mu = pmb.BART(\"mu\", X=X, Y=Y, m=n_trees, dims=\"obs\", shape=X.shape[0], split_prior=BART_feature_priors) \n",
    "        p = pm.Deterministic('p', pm.math.invlogit(mu), dims=\"obs\")\n",
    "        #pm.Bernoulli(\"y\", p=p, observed=Y, dims=\"obs\",shape=p.shape[0])#shape=p.shape)\n",
    "        \n",
    "        pm.Potential('weights', \n",
    "             weights * pm.Bernoulli(\"y\", p=p, observed=Y, dims=\"obs\",shape=p.shape[0]))\n",
    "        \n",
    "        idata_train = pm.sample(tune=tune,draws=draws,chains=chains) # currently can't handle multiple chains, maybe fix?\n",
    "        \n",
    "        posterior_train = pm.sample_posterior_predictive(trace=idata_train,\n",
    "                                                              var_names=[\"p\"])\n",
    "    \n",
    "    prior_train = posterior_train.posterior_predictive.p.mean(axis=1).mean(axis=0).T\n",
    "\n",
    "    plt.figure()\n",
    "    plt.hist(prior_train[y_tr==0],histtype='step',bins=20,density=True);\n",
    "    plt.hist(prior_train[y_tr==1],histtype='step',bins=20,density=True);\n",
    "\n",
    "if save_bart_model:\n",
    "    # extract trees in a nice structure....\n",
    "    forests = []\n",
    "\n",
    "    for i in range(len(pmb.BART.all_trees)):\n",
    "        trees = []\n",
    "        for j in range(len(pmb.BART.all_trees[i])):\n",
    "            for k in range(pmb.BART.all_trees[i][j].shape[0]):\n",
    "                trees.append(pmb.BART.all_trees[i][j][k])\n",
    "\n",
    "        forests.append(trees)\n",
    "    \n",
    "    with open(tree_fname, 'wb') as f:\n",
    "        pickle.dump({'forests':forests,'in_cols':in_cols},f)\n",
    "else:\n",
    "    with open(tree_fname,'rb') as f:\n",
    "        forest_data = pickle.load(f)\n",
    "    forests = forest_data['forests']"
   ]
  },
  {
   "cell_type": "code",
   "execution_count": 9,
   "id": "024eb58f-fc1b-484b-b723-04d4c536c2ab",
   "metadata": {
    "tags": []
   },
   "outputs": [
    {
     "name": "stdout",
     "output_type": "stream",
     "text": [
      "[[23924  4163]\n",
      " [  946  2054]]\n"
     ]
    },
    {
     "data": {
      "image/png": "[encoded data removed]",
      "text/plain": [
       "<Figure size 640x480 with 1 Axes>"
      ]
     },
     "metadata": {},
     "output_type": "display_data"
    }
   ],
   "source": [
    "# BART test model\n",
    "x_in = x_te\n",
    "y_in = y_te\n",
    "\n",
    "pred_per_forest = sample_posterior(forests,x_in)\n",
    "pred_mean = np.mean(pred_per_forest,axis=1)\n",
    "\n",
    "plt.figure()\n",
    "plt.hist(pred_mean[y_in==0],histtype='step',bins=20,density=True);\n",
    "plt.hist(pred_mean[y_in==1],histtype='step',bins=20,density=True);\n",
    "print(confusion_matrix(y_true=y_te, y_pred=pred_mean>np.percentile(pred_mean,80)))"
   ]
  },
  {
   "cell_type": "code",
   "execution_count": 12,
   "id": "faa48262-108a-4fde-8018-61510c34ca38",
   "metadata": {
    "tags": []
   },
   "outputs": [
    {
     "name": "stdout",
     "output_type": "stream",
     "text": [
      "result_PLHTN 469\n",
      "result_IC__N 420\n",
      "result_MRTYN 498\n",
      "result_diff_EMRGR 522\n",
      "result_diff_YGSMN 1814\n",
      "result_diff_HLDGR 920\n",
      "result_diff_HVAPR 270\n"
     ]
    }
   ],
   "source": [
    "split_var_count = {}\n",
    "for i in range(x_tr.shape[1]):\n",
    "    split_var_count[i] = 0\n",
    "    \n",
    "for i in range(len(forests)):\n",
    "    for j in range(len(forests[i])):\n",
    "        for split_var in forests[i][j].get_split_variables():\n",
    "            split_var_count[split_var] = split_var_count[split_var] + 1\n",
    "\n",
    "for i in range(x_tr.shape[1]):\n",
    "    print(in_cols[i],split_var_count[i])"
   ]
  },
  {
   "cell_type": "code",
   "execution_count": 11,
   "id": "bdd1bd11-d553-477b-94b2-b50410d2077c",
   "metadata": {
    "tags": []
   },
   "outputs": [
    {
     "name": "stdout",
     "output_type": "stream",
     "text": [
      "[[24087  4000]\n",
      " [  782  2218]]\n"
     ]
    },
    {
     "data": {
      "image/png": "[encoded data removed]",
      "text/plain": [
       "<Figure size 640x480 with 1 Axes>"
      ]
     },
     "metadata": {},
     "output_type": "display_data"
    }
   ],
   "source": [
    "# xgboost (as a control):\n",
    "# train xgb model\n",
    "xgb_params = {'max_depth':5,\n",
    "              'reg_lambda':100,\n",
    "              'subsample':0.2,\n",
    "              'learning_rate':0.005,\n",
    "              'n_estimators':500,\n",
    "             'scale_pos_weight':np.sum(y_tr==0)/np.sum(y_tr==1),\n",
    "             'gamma':10,\n",
    "             'booster':'gbtree'}\n",
    "\n",
    "xgb_mdl = xgboost.XGBClassifier(**xgb_params)\n",
    "xgb_mdl.fit(x_tr,y_tr)\n",
    "\n",
    "# test xgb model\n",
    "y_proba = xgb_mdl.predict_proba(x_te)[:,1]\n",
    "\n",
    "plt.figure()\n",
    "plt.hist(y_proba[y_te==0],bins=20,histtype='step',density=True)\n",
    "plt.hist(y_proba[y_te==1],bins=20,histtype='step',density=True)\n",
    "\n",
    "print(confusion_matrix(y_true=y_te, y_pred=y_proba>np.percentile(y_proba,80)))"
   ]
  },
  {
   "cell_type": "code",
   "execution_count": null,
   "id": "5c5641f9-0e45-48df-a96a-eb292ae13a78",
   "metadata": {
    "tags": []
   },
   "outputs": [],
   "source": [
    "plt.plot(pred_mean, y_proba,'.')"
   ]
  }
 ],
 "metadata": {
  "availableInstances": [
   {
    "_defaultOrder": 0,
    "_isFastLaunch": true,
    "category": "General purpose",
    "gpuNum": 0,
    "hideHardwareSpecs": false,
    "memoryGiB": 4,
    "name": "ml.t3.medium",
    "vcpuNum": 2
   },
   {
    "_defaultOrder": 1,
    "_isFastLaunch": false,
    "category": "General purpose",
    "gpuNum": 0,
    "hideHardwareSpecs": false,
    "memoryGiB": 8,
    "name": "ml.t3.large",
    "vcpuNum": 2
   },
   {
    "_defaultOrder": 2,
    "_isFastLaunch": false,
    "category": "General purpose",
    "gpuNum": 0,
    "hideHardwareSpecs": false,
    "memoryGiB": 16,
    "name": "ml.t3.xlarge",
    "vcpuNum": 4
   },
   {
    "_defaultOrder": 3,
    "_isFastLaunch": false,
    "category": "General purpose",
    "gpuNum": 0,
    "hideHardwareSpecs": false,
    "memoryGiB": 32,
    "name": "ml.t3.2xlarge",
    "vcpuNum": 8
   },
   {
    "_defaultOrder": 4,
    "_isFastLaunch": true,
    "category": "General purpose",
    "gpuNum": 0,
    "hideHardwareSpecs": false,
    "memoryGiB": 8,
    "name": "ml.m5.large",
    "vcpuNum": 2
   },
   {
    "_defaultOrder": 5,
    "_isFastLaunch": false,
    "category": "General purpose",
    "gpuNum": 0,
    "hideHardwareSpecs": false,
    "memoryGiB": 16,
    "name": "ml.m5.xlarge",
    "vcpuNum": 4
   },
   {
    "_defaultOrder": 6,
    "_isFastLaunch": false,
    "category": "General purpose",
    "gpuNum": 0,
    "hideHardwareSpecs": false,
    "memoryGiB": 32,
    "name": "ml.m5.2xlarge",
    "vcpuNum": 8
   },
   {
    "_defaultOrder": 7,
    "_isFastLaunch": false,
    "category": "General purpose",
    "gpuNum": 0,
    "hideHardwareSpecs": false,
    "memoryGiB": 64,
    "name": "ml.m5.4xlarge",
    "vcpuNum": 16
   },
   {
    "_defaultOrder": 8,
    "_isFastLaunch": false,
    "category": "General purpose",
    "gpuNum": 0,
    "hideHardwareSpecs": false,
    "memoryGiB": 128,
    "name": "ml.m5.8xlarge",
    "vcpuNum": 32
   },
   {
    "_defaultOrder": 9,
    "_isFastLaunch": false,
    "category": "General purpose",
    "gpuNum": 0,
    "hideHardwareSpecs": false,
    "memoryGiB": 192,
    "name": "ml.m5.12xlarge",
    "vcpuNum": 48
   },
   {
    "_defaultOrder": 10,
    "_isFastLaunch": false,
    "category": "General purpose",
    "gpuNum": 0,
    "hideHardwareSpecs": false,
    "memoryGiB": 256,
    "name": "ml.m5.16xlarge",
    "vcpuNum": 64
   },
   {
    "_defaultOrder": 11,
    "_isFastLaunch": false,
    "category": "General purpose",
    "gpuNum": 0,
    "hideHardwareSpecs": false,
    "memoryGiB": 384,
    "name": "ml.m5.24xlarge",
    "vcpuNum": 96
   },
   {
    "_defaultOrder": 12,
    "_isFastLaunch": false,
    "category": "General purpose",
    "gpuNum": 0,
    "hideHardwareSpecs": false,
    "memoryGiB": 8,
    "name": "ml.m5d.large",
    "vcpuNum": 2
   },
   {
    "_defaultOrder": 13,
    "_isFastLaunch": false,
    "category": "General purpose",
    "gpuNum": 0,
    "hideHardwareSpecs": false,
    "memoryGiB": 16,
    "name": "ml.m5d.xlarge",
    "vcpuNum": 4
   },
   {
    "_defaultOrder": 14,
    "_isFastLaunch": false,
    "category": "General purpose",
    "gpuNum": 0,
    "hideHardwareSpecs": false,
    "memoryGiB": 32,
    "name": "ml.m5d.2xlarge",
    "vcpuNum": 8
   },
   {
    "_defaultOrder": 15,
    "_isFastLaunch": false,
    "category": "General purpose",
    "gpuNum": 0,
    "hideHardwareSpecs": false,
    "memoryGiB": 64,
    "name": "ml.m5d.4xlarge",
    "vcpuNum": 16
   },
   {
    "_defaultOrder": 16,
    "_isFastLaunch": false,
    "category": "General purpose",
    "gpuNum": 0,
    "hideHardwareSpecs": false,
    "memoryGiB": 128,
    "name": "ml.m5d.8xlarge",
    "vcpuNum": 32
   },
   {
    "_defaultOrder": 17,
    "_isFastLaunch": false,
    "category": "General purpose",
    "gpuNum": 0,
    "hideHardwareSpecs": false,
    "memoryGiB": 192,
    "name": "ml.m5d.12xlarge",
    "vcpuNum": 48
   },
   {
    "_defaultOrder": 18,
    "_isFastLaunch": false,
    "category": "General purpose",
    "gpuNum": 0,
    "hideHardwareSpecs": false,
    "memoryGiB": 256,
    "name": "ml.m5d.16xlarge",
    "vcpuNum": 64
   },
   {
    "_defaultOrder": 19,
    "_isFastLaunch": false,
    "category": "General purpose",
    "gpuNum": 0,
    "hideHardwareSpecs": false,
    "memoryGiB": 384,
    "name": "ml.m5d.24xlarge",
    "vcpuNum": 96
   },
   {
    "_defaultOrder": 20,
    "_isFastLaunch": false,
    "category": "General purpose",
    "gpuNum": 0,
    "hideHardwareSpecs": true,
    "memoryGiB": 0,
    "name": "ml.geospatial.interactive",
    "supportedImageNames": [
     "sagemaker-geospatial-v1-0"
    ],
    "vcpuNum": 0
   },
   {
    "_defaultOrder": 21,
    "_isFastLaunch": true,
    "category": "Compute optimized",
    "gpuNum": 0,
    "hideHardwareSpecs": false,
    "memoryGiB": 4,
    "name": "ml.c5.large",
    "vcpuNum": 2
   },
   {
    "_defaultOrder": 22,
    "_isFastLaunch": false,
    "category": "Compute optimized",
    "gpuNum": 0,
    "hideHardwareSpecs": false,
    "memoryGiB": 8,
    "name": "ml.c5.xlarge",
    "vcpuNum": 4
   },
   {
    "_defaultOrder": 23,
    "_isFastLaunch": false,
    "category": "Compute optimized",
    "gpuNum": 0,
    "hideHardwareSpecs": false,
    "memoryGiB": 16,
    "name": "ml.c5.2xlarge",
    "vcpuNum": 8
   },
   {
    "_defaultOrder": 24,
    "_isFastLaunch": false,
    "category": "Compute optimized",
    "gpuNum": 0,
    "hideHardwareSpecs": false,
    "memoryGiB": 32,
    "name": "ml.c5.4xlarge",
    "vcpuNum": 16
   },
   {
    "_defaultOrder": 25,
    "_isFastLaunch": false,
    "category": "Compute optimized",
    "gpuNum": 0,
    "hideHardwareSpecs": false,
    "memoryGiB": 72,
    "name": "ml.c5.9xlarge",
    "vcpuNum": 36
   },
   {
    "_defaultOrder": 26,
    "_isFastLaunch": false,
    "category": "Compute optimized",
    "gpuNum": 0,
    "hideHardwareSpecs": false,
    "memoryGiB": 96,
    "name": "ml.c5.12xlarge",
    "vcpuNum": 48
   },
   {
    "_defaultOrder": 27,
    "_isFastLaunch": false,
    "category": "Compute optimized",
    "gpuNum": 0,
    "hideHardwareSpecs": false,
    "memoryGiB": 144,
    "name": "ml.c5.18xlarge",
    "vcpuNum": 72
   },
   {
    "_defaultOrder": 28,
    "_isFastLaunch": false,
    "category": "Compute optimized",
    "gpuNum": 0,
    "hideHardwareSpecs": false,
    "memoryGiB": 192,
    "name": "ml.c5.24xlarge",
    "vcpuNum": 96
   },
   {
    "_defaultOrder": 29,
    "_isFastLaunch": true,
    "category": "Accelerated computing",
    "gpuNum": 1,
    "hideHardwareSpecs": false,
    "memoryGiB": 16,
    "name": "ml.g4dn.xlarge",
    "vcpuNum": 4
   },
   {
    "_defaultOrder": 30,
    "_isFastLaunch": false,
    "category": "Accelerated computing",
    "gpuNum": 1,
    "hideHardwareSpecs": false,
    "memoryGiB": 32,
    "name": "ml.g4dn.2xlarge",
    "vcpuNum": 8
   },
   {
    "_defaultOrder": 31,
    "_isFastLaunch": false,
    "category": "Accelerated computing",
    "gpuNum": 1,
    "hideHardwareSpecs": false,
    "memoryGiB": 64,
    "name": "ml.g4dn.4xlarge",
    "vcpuNum": 16
   },
   {
    "_defaultOrder": 32,
    "_isFastLaunch": false,
    "category": "Accelerated computing",
    "gpuNum": 1,
    "hideHardwareSpecs": false,
    "memoryGiB": 128,
    "name": "ml.g4dn.8xlarge",
    "vcpuNum": 32
   },
   {
    "_defaultOrder": 33,
    "_isFastLaunch": false,
    "category": "Accelerated computing",
    "gpuNum": 4,
    "hideHardwareSpecs": false,
    "memoryGiB": 192,
    "name": "ml.g4dn.12xlarge",
    "vcpuNum": 48
   },
   {
    "_defaultOrder": 34,
    "_isFastLaunch": false,
    "category": "Accelerated computing",
    "gpuNum": 1,
    "hideHardwareSpecs": false,
    "memoryGiB": 256,
    "name": "ml.g4dn.16xlarge",
    "vcpuNum": 64
   },
   {
    "_defaultOrder": 35,
    "_isFastLaunch": false,
    "category": "Accelerated computing",
    "gpuNum": 1,
    "hideHardwareSpecs": false,
    "memoryGiB": 61,
    "name": "ml.p3.2xlarge",
    "vcpuNum": 8
   },
   {
    "_defaultOrder": 36,
    "_isFastLaunch": false,
    "category": "Accelerated computing",
    "gpuNum": 4,
    "hideHardwareSpecs": false,
    "memoryGiB": 244,
    "name": "ml.p3.8xlarge",
    "vcpuNum": 32
   },
   {
    "_defaultOrder": 37,
    "_isFastLaunch": false,
    "category": "Accelerated computing",
    "gpuNum": 8,
    "hideHardwareSpecs": false,
    "memoryGiB": 488,
    "name": "ml.p3.16xlarge",
    "vcpuNum": 64
   },
   {
    "_defaultOrder": 38,
    "_isFastLaunch": false,
    "category": "Accelerated computing",
    "gpuNum": 8,
    "hideHardwareSpecs": false,
    "memoryGiB": 768,
    "name": "ml.p3dn.24xlarge",
    "vcpuNum": 96
   },
   {
    "_defaultOrder": 39,
    "_isFastLaunch": false,
    "category": "Memory Optimized",
    "gpuNum": 0,
    "hideHardwareSpecs": false,
    "memoryGiB": 16,
    "name": "ml.r5.large",
    "vcpuNum": 2
   },
   {
    "_defaultOrder": 40,
    "_isFastLaunch": false,
    "category": "Memory Optimized",
    "gpuNum": 0,
    "hideHardwareSpecs": false,
    "memoryGiB": 32,
    "name": "ml.r5.xlarge",
    "vcpuNum": 4
   },
   {
    "_defaultOrder": 41,
    "_isFastLaunch": false,
    "category": "Memory Optimized",
    "gpuNum": 0,
    "hideHardwareSpecs": false,
    "memoryGiB": 64,
    "name": "ml.r5.2xlarge",
    "vcpuNum": 8
   },
   {
    "_defaultOrder": 42,
    "_isFastLaunch": false,
    "category": "Memory Optimized",
    "gpuNum": 0,
    "hideHardwareSpecs": false,
    "memoryGiB": 128,
    "name": "ml.r5.4xlarge",
    "vcpuNum": 16
   },
   {
    "_defaultOrder": 43,
    "_isFastLaunch": false,
    "category": "Memory Optimized",
    "gpuNum": 0,
    "hideHardwareSpecs": false,
    "memoryGiB": 256,
    "name": "ml.r5.8xlarge",
    "vcpuNum": 32
   },
   {
    "_defaultOrder": 44,
    "_isFastLaunch": false,
    "category": "Memory Optimized",
    "gpuNum": 0,
    "hideHardwareSpecs": false,
    "memoryGiB": 384,
    "name": "ml.r5.12xlarge",
    "vcpuNum": 48
   },
   {
    "_defaultOrder": 45,
    "_isFastLaunch": false,
    "category": "Memory Optimized",
    "gpuNum": 0,
    "hideHardwareSpecs": false,
    "memoryGiB": 512,
    "name": "ml.r5.16xlarge",
    "vcpuNum": 64
   },
   {
    "_defaultOrder": 46,
    "_isFastLaunch": false,
    "category": "Memory Optimized",
    "gpuNum": 0,
    "hideHardwareSpecs": false,
    "memoryGiB": 768,
    "name": "ml.r5.24xlarge",
    "vcpuNum": 96
   },
   {
    "_defaultOrder": 47,
    "_isFastLaunch": false,
    "category": "Accelerated computing",
    "gpuNum": 1,
    "hideHardwareSpecs": false,
    "memoryGiB": 16,
    "name": "ml.g5.xlarge",
    "vcpuNum": 4
   },
   {
    "_defaultOrder": 48,
    "_isFastLaunch": false,
    "category": "Accelerated computing",
    "gpuNum": 1,
    "hideHardwareSpecs": false,
    "memoryGiB": 32,
    "name": "ml.g5.2xlarge",
    "vcpuNum": 8
   },
   {
    "_defaultOrder": 49,
    "_isFastLaunch": false,
    "category": "Accelerated computing",
    "gpuNum": 1,
    "hideHardwareSpecs": false,
    "memoryGiB": 64,
    "name": "ml.g5.4xlarge",
    "vcpuNum": 16
   },
   {
    "_defaultOrder": 50,
    "_isFastLaunch": false,
    "category": "Accelerated computing",
    "gpuNum": 1,
    "hideHardwareSpecs": false,
    "memoryGiB": 128,
    "name": "ml.g5.8xlarge",
    "vcpuNum": 32
   },
   {
    "_defaultOrder": 51,
    "_isFastLaunch": false,
    "category": "Accelerated computing",
    "gpuNum": 1,
    "hideHardwareSpecs": false,
    "memoryGiB": 256,
    "name": "ml.g5.16xlarge",
    "vcpuNum": 64
   },
   {
    "_defaultOrder": 52,
    "_isFastLaunch": false,
    "category": "Accelerated computing",
    "gpuNum": 4,
    "hideHardwareSpecs": false,
    "memoryGiB": 192,
    "name": "ml.g5.12xlarge",
    "vcpuNum": 48
   },
   {
    "_defaultOrder": 53,
    "_isFastLaunch": false,
    "category": "Accelerated computing",
    "gpuNum": 4,
    "hideHardwareSpecs": false,
    "memoryGiB": 384,
    "name": "ml.g5.24xlarge",
    "vcpuNum": 96
   },
   {
    "_defaultOrder": 54,
    "_isFastLaunch": false,
    "category": "Accelerated computing",
    "gpuNum": 8,
    "hideHardwareSpecs": false,
    "memoryGiB": 768,
    "name": "ml.g5.48xlarge",
    "vcpuNum": 192
   },
   {
    "_defaultOrder": 55,
    "_isFastLaunch": false,
    "category": "Accelerated computing",
    "gpuNum": 8,
    "hideHardwareSpecs": false,
    "memoryGiB": 1152,
    "name": "ml.p4d.24xlarge",
    "vcpuNum": 96
   },
   {
    "_defaultOrder": 56,
    "_isFastLaunch": false,
    "category": "Accelerated computing",
    "gpuNum": 8,
    "hideHardwareSpecs": false,
    "memoryGiB": 1152,
    "name": "ml.p4de.24xlarge",
    "vcpuNum": 96
   }
  ],
  "instance_type": "ml.t3.medium",
  "kernelspec": {
   "display_name": "Python 3 (Data Science 3.0)",
   "language": "python",
   "name": "python3__SAGEMAKER_INTERNAL__arn:aws:sagemaker:us-east-1:081325390199:image/sagemaker-data-science-310-v1"
  },
  "language_info": {
   "codemirror_mode": {
    "name": "ipython",
    "version": 3
   },
   "file_extension": ".py",
   "mimetype": "text/x-python",
   "name": "python",
   "nbconvert_exporter": "python",
   "pygments_lexer": "ipython3",
   "version": "3.10.6"
  }
 },
 "nbformat": 4,
 "nbformat_minor": 5
}
