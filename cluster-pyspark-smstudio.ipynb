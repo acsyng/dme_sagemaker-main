{
 "cells": [
  {
   "cell_type": "raw",
   "id": "53f5579e-448a-4740-8df2-2ac06c88d35c",
   "metadata": {},
   "source": [
    "Setup local notebook environment. Note you may have to comment/uncomment '%%local' if you haven't/have started the cluster already."
   ]
  },
  {
   "cell_type": "code",
   "execution_count": 3,
   "id": "881bc274-12bc-4a71-ba53-204acbe26c7b",
   "metadata": {
    "tags": []
   },
   "outputs": [],
   "source": [
    "%%local\n",
    "\n",
    "%pip install boto3 botocore psycopg2_binary tenacity watchtower statsmodels symbulate seaborn sagemaker_pyspark sagemaker pyspark\n",
    "%pip install emr-notebooks-magics --upgrade\n",
    "\n",
    "import sys\n",
    "import shutil\n",
    "import os\n",
    "from ipykernel import get_connection_file\n",
    "import boto3\n",
    "import emr_notebooks_magics\n",
    "import pandas as pd\n",
    "from pyspark import SparkContext, SparkConf\n",
    "from pyspark.sql import SparkSession\n",
    "import sagemaker\n",
    "from sagemaker import get_execution_role\n",
    "import sagemaker_pyspark\n",
    "import sparkmagic\n",
    "from libs.denodo.denodo_connection import DenodoConnection\n",
    "from libs.dme_sql_queries import *\n",
    "from libs.dme_pyspark_sql_queries import *\n",
    "from libs.metric_utils import *\n",
    "#from dme_core_pipeline.compute_trial_checks.src.processing import main as compute_trial_checks\n",
    "#from libs.regression_utils import reg_adjust_parallel_rm_pyspark\n",
    "\n",
    "# connection_file = get_connection_file()\n",
    "# notebook_path = os.path.dirname(connection_file)\n",
    "# print(notebook_path)"
   ]
  },
  {
   "cell_type": "raw",
   "id": "ee4ac660-0b59-46e2-bdff-ce81b37bb9c1",
   "metadata": {},
   "source": [
    "Start spark cluster"
   ]
  },
  {
   "cell_type": "code",
   "execution_count": 2,
   "id": "8e928c80-fa77-45d5-bcef-d75f881c2bb9",
   "metadata": {
    "tags": []
   },
   "outputs": [],
   "source": [
    "%load_ext sagemaker_studio_analytics_extension.magics\n",
    "%sm_analytics emr connect --verify-certificate False --cluster-id j-25CXG872XVASP --auth-type None --language python  "
   ]
  },
  {
   "cell_type": "code",
   "execution_count": null,
   "id": "de1f9c33-4e76-495b-a4b1-6313158531ca",
   "metadata": {
    "tags": []
   },
   "outputs": [],
   "source": [
    "# %reload_ext sagemaker_studio_analytics_extension.magics\n",
    "# %reload_ext sparkmagic.magics"
   ]
  },
  {
   "cell_type": "code",
   "execution_count": null,
   "id": "0e78587b-2044-4fb0-9fa2-7399e4113963",
   "metadata": {},
   "outputs": [],
   "source": [
    "Configure the cluster to enable a python3 venv so that you may install packages"
   ]
  },
  {
   "cell_type": "code",
   "execution_count": 4,
   "id": "388ab855-7cf3-45b0-9326-6da49f26ed48",
   "metadata": {
    "tags": []
   },
   "outputs": [],
   "source": [
    "%%configure -f\n",
    "{  \"conf\":{\n",
    "        \"spark.pyspark.python\":\"python3\",\n",
    "        \"spark.pyspark.virtualenv.enabled\":\"true\",\n",
    "        \"spark.pyspark.virtualenv.type\":\"native\",\n",
    "        \"spark.pyspark.virtualenv.bin.path\":\"/usr/bin/virtualenv\"\n",
    "    }\n",
    "}"
   ]
  },
  {
   "cell_type": "code",
   "execution_count": null,
   "id": "f82f64ff-a619-4c3c-9387-e970be1844ea",
   "metadata": {
    "tags": []
   },
   "outputs": [],
   "source": [
    "# %%cleanup -f"
   ]
  },
  {
   "cell_type": "code",
   "execution_count": null,
   "id": "584ba170-7686-4bab-8f90-c760020080db",
   "metadata": {
    "tags": []
   },
   "outputs": [],
   "source": [
    "%%info"
   ]
  },
  {
   "cell_type": "code",
   "execution_count": 6,
   "id": "83bb4d58-2c58-43e1-a8ad-3ddc9271d378",
   "metadata": {},
   "outputs": [],
   "source": [
    "### Install pip packages on spark cluster and confirm their versions, then import\n",
    "\n",
    "sc.install_pypi_package(\"pyarrow\")\n",
    "sc.install_pypi_package(\"pandas\")\n",
    "sc.install_pypi_package(\"scipy\")\n",
    "sc.install_pypi_package(\"boto3\")\n",
    "sc.install_pypi_package(\"botocore\")\n",
    "sc.install_pypi_package(\"statsmodels\")\n",
    "#sc.install_pypi_package(\"emr-notebooks-magics\")\n",
    "sc.list_packages()\n",
    "\n",
    "import sys\n",
    "import shutil\n",
    "import os\n",
    "#from ipykernel import get_connection_file\n",
    "import boto3\n",
    "#import pandas as pd\n",
    "#import numpy as np\n",
    "#import scipy.stats as ss"
   ]
  },
  {
   "cell_type": "code",
   "execution_count": null,
   "id": "d276b39a-cb07-470b-9352-b0e28e33f384",
   "metadata": {
    "tags": []
   },
   "outputs": [],
   "source": [
    "from pyspark import SparkFiles\n",
    "sc.addPyFile(SparkFiles.get(\"denodo_connection.py\"))"
   ]
  },
  {
   "cell_type": "code",
   "execution_count": null,
   "id": "4dacb8cd-3257-4df4-ad5c-99419f9c51f1",
   "metadata": {
    "tags": []
   },
   "outputs": [],
   "source": [
    "%%local\n",
    "\n",
    "ap_data_sector = \"CORN_NA_SUMMER\"\n",
    "analysis_year = 2023\n",
    "analysis_type = \"SingleExp\"\n",
    "target_pipeline_runid = \"20231229_21_12_00\"\n",
    "force_refresh = \"True\"\n",
    "\n",
    "#role = get_execution_role()\n",
    "\n",
    "# Configure Spark to use the SageMaker Spark dependency jars\n",
    "#jars = sagemaker_pyspark.classpath_jars()\n",
    "\n",
    "#classpath = \":\".join(sagemaker_pyspark.classpath_jars())\n",
    "\n",
    "# See the SageMaker Spark Github repo under sagemaker-pyspark-sdk\n",
    "# to learn how to connect to a remote EMR cluster running Spark from a Notebook Instance.\n",
    "#spark = SparkSession.builder.config(\"spark.driver.extraClassPath\", classpath)\\\n",
    "#   .master(\"local[*]\").getOrCreate()\n",
    "\n"
   ]
  },
  {
   "cell_type": "code",
   "execution_count": null,
   "id": "881b0e74-b05c-442a-a14c-bbb8d40eb5a8",
   "metadata": {},
   "outputs": [],
   "source": [
    "%%local\n",
    "#init\n",
    "current_source_ids = get_source_ids(ap_data_sector, analysis_year, analysis_type, target_pipeline_runid, force_refresh)\n",
    "print(current_source_ids)"
   ]
  },
  {
   "cell_type": "code",
   "execution_count": null,
   "id": "55e5d9de-ebf4-4d80-95eb-c294d29ca7e6",
   "metadata": {
    "tags": []
   },
   "outputs": [],
   "source": [
    "%%local\n",
    "#breakouts\n",
    "#breakout_config_df = pd.read_csv('/opt/ml/processing/input/code/data/breakout_config.csv')\n",
    "breakout_config_df = pd.read_csv('dme_core_pipeline/data/breakout_config.csv')\n",
    "breakout_config_df = merge_breakout_config(breakout_config_df,\n",
    "                                           ap_data_sector,\n",
    "                                           analysis_year,\n",
    "                                           analysis_type,\n",
    "                                           current_source_ids)\n",
    "\n",
    "# Record which configs are to be used\n",
    "#print(breakout_config_df.drop(['ece_data_sector_name'], axis=1).drop_duplicates())\n",
    "breakout_data_df = merge_breakout_data(breakout_config_df)"
   ]
  },
  {
   "cell_type": "code",
   "execution_count": null,
   "id": "fc1440df-c810-404b-bbfe-ec294b9252c8",
   "metadata": {
    "tags": []
   },
   "outputs": [],
   "source": [
    "%%local\n",
    "\n",
    "data_sector_config = get_data_sector_config(ap_data_sector)\n",
    "\n",
    "checks_df = merge_trial_check_entries(ap_data_sector,\n",
    "                                                  analysis_year,\n",
    "                                                  analysis_type,\n",
    "                                                  data_sector_config[\"spirit_crop_guid\"].iloc[0],\n",
    "                                                  data_sector_config[\"entry_id_source\"].iloc[0])\n",
    "\n",
    "checks_df = create_check_df(ap_data_sector, analysis_type, checks_df)\n",
    "tops_checks_df = get_tops_checks(ap_data_sector, analysis_year, analysis_type)\n",
    "\n",
    "checks_df = pd.concat([checks_df, tops_checks_df])\n",
    "\n",
    "checks_df = checks_df.groupby(['ap_data_sector', 'analysis_year', 'analysis_type', 'source_id', 'entry_id', 'material_type'], as_index=False\n",
    "                                                ).agg(\n",
    "                                                    {'cpifl':'max',\n",
    "                                                    'cperf':'max',\n",
    "                                                    'cagrf':'max',\n",
    "                                                    'cmatf':'max',\n",
    "                                                    'cregf':'max',\n",
    "                                                    'crtnf':'max',\n",
    "                                                    'par1_entry_id':'first',\n",
    "                                                    'par2_entry_id':'first'}                                      \n",
    "                                                )\n",
    "\n",
    "cols = checks_df.columns.tolist()\n",
    "cols = cols[0:5] + cols[6:12] + cols[5:6] + cols[12:14]\n",
    "\n",
    "checks_df = checks_df[cols]\n",
    "\n",
    "print(checks_df.head(10))"
   ]
  },
  {
   "cell_type": "code",
   "execution_count": null,
   "id": "b8437b7f-2142-46aa-844e-c0e4b91747d8",
   "metadata": {
    "tags": []
   },
   "outputs": [],
   "source": [
    "%%local\n",
    "#pvs pipeline\n",
    "#pvs_input_df = merge_pvs_input(ap_data_sector, analysis_year, analysis_type, current_source_ids)\n",
    "metric_config_df = pd.read_csv('dme_core_pipeline/data/metric_config.csv')\n",
    "regression_config_df = pd.read_csv('dme_core_pipeline/data/regression_cfg.csv')"
   ]
  },
  {
   "cell_type": "code",
   "execution_count": null,
   "id": "36872818-4f93-4f3f-80b4-55ff6a0910e3",
   "metadata": {
    "tags": []
   },
   "outputs": [],
   "source": [
    "%%send_to_spark -i breakout_config_df -t df -n breakout_config_sp_df"
   ]
  },
  {
   "cell_type": "code",
   "execution_count": null,
   "id": "dd37d6e8-c846-479a-a186-0c3e3203a93e",
   "metadata": {
    "tags": []
   },
   "outputs": [],
   "source": [
    "%%send_to_spark -i pvs_input_df -t df -n pvs_input_sp_df"
   ]
  },
  {
   "cell_type": "code",
   "execution_count": null,
   "id": "963845a4-b6e2-4650-b2ae-3ff87ba3bcc9",
   "metadata": {
    "tags": []
   },
   "outputs": [],
   "source": [
    "%%send_to_spark -i checks_df -t df -n checks_sp_df"
   ]
  },
  {
   "cell_type": "code",
   "execution_count": null,
   "id": "4d0417b4-0e99-4088-8114-de95021a40ea",
   "metadata": {
    "tags": []
   },
   "outputs": [],
   "source": [
    "%%send_to_spark -i metric_config_df -t df -n metric_config_sp_df"
   ]
  },
  {
   "cell_type": "code",
   "execution_count": null,
   "id": "7f6eb2c9-83fa-4f59-bda0-540cff9f5b65",
   "metadata": {
    "tags": []
   },
   "outputs": [],
   "source": [
    "%%send_to_spark -i regression_config_df -t df -n regression_config_sp_df"
   ]
  },
  {
   "cell_type": "code",
   "execution_count": null,
   "id": "2ebe5ca3-4df5-4e61-8ed9-00aab315471e",
   "metadata": {},
   "outputs": [],
   "source": [
    "\n",
    "# breakout_config_sp_df = spark.createDataFrame(breakout_config_df)\n",
    "# pvs_input_sp_df = spark.createDataFrame(pvs_input_df)\n",
    "# checks_sp_df = spark.creatDataFrame(checks_df)\n",
    "# metric_config_sp_df = spark.createDataFrame(metric_config_df)\n",
    "# regression_config_sp_df = spark.createDataFrame(regression_config_df)\n",
    "\n",
    "from libs.denodo.denodo_connection import DenodoConnection\n",
    "from libs.dme_sql_queries import *\n",
    "from libs.dme_pyspark_sql_queries import *\n",
    "from libs.metric_utils import *\n",
    "\n",
    "#pvs_input_sp_df.createOrReplaceTempView('pvs_input_raw')\n",
    "breakout_config_sp_df.createOrReplaceTempView('breakout_config')\n",
    "checks_sp_df.createOrReplaceTempView('trial_pheno_checks')\n",
    "\n",
    "# Set recipe variables\n",
    "alpha = 0.3\n",
    "\n",
    "gr_cols = ['ap_data_sector', 'analysis_year', 'analysis_type', 'source_id', 'material_type',\n",
    "           'breakout_level_1', 'breakout_level_1_value', 'breakout_level_2', 'breakout_level_2_value',\n",
    "           'breakout_level_3', 'breakout_level_3_value', 'breakout_level_4', 'breakout_level_4_value', 'x',\n",
    "           'y']\n",
    "\n",
    "gr_cols2 = ['ap_data_sector', 'analysis_year', 'analysis_type', 'source_id', 'decision_group_rm', 'stage',\n",
    "            'material_type', 'breakout_level_1', 'breakout_level_1_value', 'breakout_level_2',\n",
    "            'breakout_level_2_value', 'breakout_level_3', 'breakout_level_3_value', 'breakout_level_4',\n",
    "            'breakout_level_4_value', 'trait']\n",
    "\n",
    "id_cols = ['entry_id', 'count', 'prediction', 'stddev', 'chkfl']\n",
    "\n",
    "cols = ['ap_data_sector', 'analysis_year', 'analysis_type', 'source_id', 'decision_group_rm', 'stage',\n",
    "        'material_type',\n",
    "        'breakout_level_1', 'breakout_level_1_value', 'breakout_level_2', 'breakout_level_2_value',\n",
    "        'breakout_level_3', 'breakout_level_3_value', 'breakout_level_4', 'breakout_level_4_value',\n",
    "        'entry_id', 'count', 'loc', 'prediction', 'stderr', 'metric', 'x', 'y', 'prediction_x',\n",
    "        'analysis_target_y',\n",
    "        'regression_id', 'adjusted_prediction', 'adj_model', 'adj_outlier', 'p_value', 'slope1', 'slope2',\n",
    "        'intercept']\n",
    "\n",
    "# Compute recipe outputs\n",
    "pvs_input_df = merge_pvs_spark_input(spark)\n",
    "\n",
    "pvs_input_df.createOrReplaceTempView('pvs_input')\n",
    "spark.catalog.dropTempView('pvs_input_raw')\n",
    "spark.catalog.dropTempView('breakout_config')\n",
    "\n",
    "if analysis_type != 'GenoPred':\n",
    "    regression_input = merge_pvs_regression_input(spark, analysis_year, ap_data_sector)\n",
    "    regression_input = regression_input.to_koalas()\n",
    "\n",
    "    pvs_regression_output_df = regression_input.groupby(gr_cols).apply(reg_adjust_parallel_rm_pyspark,\n",
    "                                                                       alpha=alpha)\n",
    "    if pvs_regression_output_df.shape[0] > 0:\n",
    "        pvs_regression_output_df = pvs_regression_output_df.loc[\n",
    "            pvs_regression_output_df.adjusted == 'Yes'].to_spark()\n",
    "        pvs_regression_output_df.createOrReplaceTempView('pvs_regression_output')\n",
    "        pvs_metric_raw_df = merge_pvs_cpifl_regression(spark, DKU_DST_analysis_year, DKU_DST_ap_data_sector,\n",
    "                                                       DKU_DST_analysis_type)\n",
    "        spark.catalog.dropTempView('pvs_regression_output')\n",
    "    else:\n",
    "        pvs_metric_raw_df = merge_pvs_cpifl(spark, DKU_DST_analysis_year, DKU_DST_ap_data_sector,\n",
    "                                            DKU_DST_analysis_type)\n",
    "else:\n",
    "    pvs_metric_raw_df = merge_pvs_cpifl(spark, DKU_DST_analysis_year, DKU_DST_ap_data_sector,\n",
    "                                        DKU_DST_analysis_type)\n",
    "\n",
    "# Compute recipe outputs\n",
    "pvs_metric_raw_df.createOrReplaceTempView('pvs_metric_raw')\n",
    "spark.catalog.dropTempView('regression_cfg')\n",
    "spark.catalog.dropTempView('pvs_input')\n",
    "\n",
    "pvs_df = merge_pvs_metric_input(spark, DKU_DST_analysis_year, DKU_DST_ap_data_sector, DKU_DST_analysis_type,\n",
    "                                pvs_metric_raw_df, gr_cols2)\n",
    "spark.catalog.dropTempView('pvs_metric_raw')\n",
    "\n",
    "print(pvs_df.head())"
   ]
  }
 ],
 "metadata": {
  "availableInstances": [
   {
    "_defaultOrder": 0,
    "_isFastLaunch": true,
    "category": "General purpose",
    "gpuNum": 0,
    "hideHardwareSpecs": false,
    "memoryGiB": 4,
    "name": "ml.t3.medium",
    "vcpuNum": 2
   },
   {
    "_defaultOrder": 1,
    "_isFastLaunch": false,
    "category": "General purpose",
    "gpuNum": 0,
    "hideHardwareSpecs": false,
    "memoryGiB": 8,
    "name": "ml.t3.large",
    "vcpuNum": 2
   },
   {
    "_defaultOrder": 2,
    "_isFastLaunch": false,
    "category": "General purpose",
    "gpuNum": 0,
    "hideHardwareSpecs": false,
    "memoryGiB": 16,
    "name": "ml.t3.xlarge",
    "vcpuNum": 4
   },
   {
    "_defaultOrder": 3,
    "_isFastLaunch": false,
    "category": "General purpose",
    "gpuNum": 0,
    "hideHardwareSpecs": false,
    "memoryGiB": 32,
    "name": "ml.t3.2xlarge",
    "vcpuNum": 8
   },
   {
    "_defaultOrder": 4,
    "_isFastLaunch": true,
    "category": "General purpose",
    "gpuNum": 0,
    "hideHardwareSpecs": false,
    "memoryGiB": 8,
    "name": "ml.m5.large",
    "vcpuNum": 2
   },
   {
    "_defaultOrder": 5,
    "_isFastLaunch": false,
    "category": "General purpose",
    "gpuNum": 0,
    "hideHardwareSpecs": false,
    "memoryGiB": 16,
    "name": "ml.m5.xlarge",
    "vcpuNum": 4
   },
   {
    "_defaultOrder": 6,
    "_isFastLaunch": false,
    "category": "General purpose",
    "gpuNum": 0,
    "hideHardwareSpecs": false,
    "memoryGiB": 32,
    "name": "ml.m5.2xlarge",
    "vcpuNum": 8
   },
   {
    "_defaultOrder": 7,
    "_isFastLaunch": false,
    "category": "General purpose",
    "gpuNum": 0,
    "hideHardwareSpecs": false,
    "memoryGiB": 64,
    "name": "ml.m5.4xlarge",
    "vcpuNum": 16
   },
   {
    "_defaultOrder": 8,
    "_isFastLaunch": false,
    "category": "General purpose",
    "gpuNum": 0,
    "hideHardwareSpecs": false,
    "memoryGiB": 128,
    "name": "ml.m5.8xlarge",
    "vcpuNum": 32
   },
   {
    "_defaultOrder": 9,
    "_isFastLaunch": false,
    "category": "General purpose",
    "gpuNum": 0,
    "hideHardwareSpecs": false,
    "memoryGiB": 192,
    "name": "ml.m5.12xlarge",
    "vcpuNum": 48
   },
   {
    "_defaultOrder": 10,
    "_isFastLaunch": false,
    "category": "General purpose",
    "gpuNum": 0,
    "hideHardwareSpecs": false,
    "memoryGiB": 256,
    "name": "ml.m5.16xlarge",
    "vcpuNum": 64
   },
   {
    "_defaultOrder": 11,
    "_isFastLaunch": false,
    "category": "General purpose",
    "gpuNum": 0,
    "hideHardwareSpecs": false,
    "memoryGiB": 384,
    "name": "ml.m5.24xlarge",
    "vcpuNum": 96
   },
   {
    "_defaultOrder": 12,
    "_isFastLaunch": false,
    "category": "General purpose",
    "gpuNum": 0,
    "hideHardwareSpecs": false,
    "memoryGiB": 8,
    "name": "ml.m5d.large",
    "vcpuNum": 2
   },
   {
    "_defaultOrder": 13,
    "_isFastLaunch": false,
    "category": "General purpose",
    "gpuNum": 0,
    "hideHardwareSpecs": false,
    "memoryGiB": 16,
    "name": "ml.m5d.xlarge",
    "vcpuNum": 4
   },
   {
    "_defaultOrder": 14,
    "_isFastLaunch": false,
    "category": "General purpose",
    "gpuNum": 0,
    "hideHardwareSpecs": false,
    "memoryGiB": 32,
    "name": "ml.m5d.2xlarge",
    "vcpuNum": 8
   },
   {
    "_defaultOrder": 15,
    "_isFastLaunch": false,
    "category": "General purpose",
    "gpuNum": 0,
    "hideHardwareSpecs": false,
    "memoryGiB": 64,
    "name": "ml.m5d.4xlarge",
    "vcpuNum": 16
   },
   {
    "_defaultOrder": 16,
    "_isFastLaunch": false,
    "category": "General purpose",
    "gpuNum": 0,
    "hideHardwareSpecs": false,
    "memoryGiB": 128,
    "name": "ml.m5d.8xlarge",
    "vcpuNum": 32
   },
   {
    "_defaultOrder": 17,
    "_isFastLaunch": false,
    "category": "General purpose",
    "gpuNum": 0,
    "hideHardwareSpecs": false,
    "memoryGiB": 192,
    "name": "ml.m5d.12xlarge",
    "vcpuNum": 48
   },
   {
    "_defaultOrder": 18,
    "_isFastLaunch": false,
    "category": "General purpose",
    "gpuNum": 0,
    "hideHardwareSpecs": false,
    "memoryGiB": 256,
    "name": "ml.m5d.16xlarge",
    "vcpuNum": 64
   },
   {
    "_defaultOrder": 19,
    "_isFastLaunch": false,
    "category": "General purpose",
    "gpuNum": 0,
    "hideHardwareSpecs": false,
    "memoryGiB": 384,
    "name": "ml.m5d.24xlarge",
    "vcpuNum": 96
   },
   {
    "_defaultOrder": 20,
    "_isFastLaunch": false,
    "category": "General purpose",
    "gpuNum": 0,
    "hideHardwareSpecs": true,
    "memoryGiB": 0,
    "name": "ml.geospatial.interactive",
    "supportedImageNames": [
     "sagemaker-geospatial-v1-0"
    ],
    "vcpuNum": 0
   },
   {
    "_defaultOrder": 21,
    "_isFastLaunch": true,
    "category": "Compute optimized",
    "gpuNum": 0,
    "hideHardwareSpecs": false,
    "memoryGiB": 4,
    "name": "ml.c5.large",
    "vcpuNum": 2
   },
   {
    "_defaultOrder": 22,
    "_isFastLaunch": false,
    "category": "Compute optimized",
    "gpuNum": 0,
    "hideHardwareSpecs": false,
    "memoryGiB": 8,
    "name": "ml.c5.xlarge",
    "vcpuNum": 4
   },
   {
    "_defaultOrder": 23,
    "_isFastLaunch": false,
    "category": "Compute optimized",
    "gpuNum": 0,
    "hideHardwareSpecs": false,
    "memoryGiB": 16,
    "name": "ml.c5.2xlarge",
    "vcpuNum": 8
   },
   {
    "_defaultOrder": 24,
    "_isFastLaunch": false,
    "category": "Compute optimized",
    "gpuNum": 0,
    "hideHardwareSpecs": false,
    "memoryGiB": 32,
    "name": "ml.c5.4xlarge",
    "vcpuNum": 16
   },
   {
    "_defaultOrder": 25,
    "_isFastLaunch": false,
    "category": "Compute optimized",
    "gpuNum": 0,
    "hideHardwareSpecs": false,
    "memoryGiB": 72,
    "name": "ml.c5.9xlarge",
    "vcpuNum": 36
   },
   {
    "_defaultOrder": 26,
    "_isFastLaunch": false,
    "category": "Compute optimized",
    "gpuNum": 0,
    "hideHardwareSpecs": false,
    "memoryGiB": 96,
    "name": "ml.c5.12xlarge",
    "vcpuNum": 48
   },
   {
    "_defaultOrder": 27,
    "_isFastLaunch": false,
    "category": "Compute optimized",
    "gpuNum": 0,
    "hideHardwareSpecs": false,
    "memoryGiB": 144,
    "name": "ml.c5.18xlarge",
    "vcpuNum": 72
   },
   {
    "_defaultOrder": 28,
    "_isFastLaunch": false,
    "category": "Compute optimized",
    "gpuNum": 0,
    "hideHardwareSpecs": false,
    "memoryGiB": 192,
    "name": "ml.c5.24xlarge",
    "vcpuNum": 96
   },
   {
    "_defaultOrder": 29,
    "_isFastLaunch": true,
    "category": "Accelerated computing",
    "gpuNum": 1,
    "hideHardwareSpecs": false,
    "memoryGiB": 16,
    "name": "ml.g4dn.xlarge",
    "vcpuNum": 4
   },
   {
    "_defaultOrder": 30,
    "_isFastLaunch": false,
    "category": "Accelerated computing",
    "gpuNum": 1,
    "hideHardwareSpecs": false,
    "memoryGiB": 32,
    "name": "ml.g4dn.2xlarge",
    "vcpuNum": 8
   },
   {
    "_defaultOrder": 31,
    "_isFastLaunch": false,
    "category": "Accelerated computing",
    "gpuNum": 1,
    "hideHardwareSpecs": false,
    "memoryGiB": 64,
    "name": "ml.g4dn.4xlarge",
    "vcpuNum": 16
   },
   {
    "_defaultOrder": 32,
    "_isFastLaunch": false,
    "category": "Accelerated computing",
    "gpuNum": 1,
    "hideHardwareSpecs": false,
    "memoryGiB": 128,
    "name": "ml.g4dn.8xlarge",
    "vcpuNum": 32
   },
   {
    "_defaultOrder": 33,
    "_isFastLaunch": false,
    "category": "Accelerated computing",
    "gpuNum": 4,
    "hideHardwareSpecs": false,
    "memoryGiB": 192,
    "name": "ml.g4dn.12xlarge",
    "vcpuNum": 48
   },
   {
    "_defaultOrder": 34,
    "_isFastLaunch": false,
    "category": "Accelerated computing",
    "gpuNum": 1,
    "hideHardwareSpecs": false,
    "memoryGiB": 256,
    "name": "ml.g4dn.16xlarge",
    "vcpuNum": 64
   },
   {
    "_defaultOrder": 35,
    "_isFastLaunch": false,
    "category": "Accelerated computing",
    "gpuNum": 1,
    "hideHardwareSpecs": false,
    "memoryGiB": 61,
    "name": "ml.p3.2xlarge",
    "vcpuNum": 8
   },
   {
    "_defaultOrder": 36,
    "_isFastLaunch": false,
    "category": "Accelerated computing",
    "gpuNum": 4,
    "hideHardwareSpecs": false,
    "memoryGiB": 244,
    "name": "ml.p3.8xlarge",
    "vcpuNum": 32
   },
   {
    "_defaultOrder": 37,
    "_isFastLaunch": false,
    "category": "Accelerated computing",
    "gpuNum": 8,
    "hideHardwareSpecs": false,
    "memoryGiB": 488,
    "name": "ml.p3.16xlarge",
    "vcpuNum": 64
   },
   {
    "_defaultOrder": 38,
    "_isFastLaunch": false,
    "category": "Accelerated computing",
    "gpuNum": 8,
    "hideHardwareSpecs": false,
    "memoryGiB": 768,
    "name": "ml.p3dn.24xlarge",
    "vcpuNum": 96
   },
   {
    "_defaultOrder": 39,
    "_isFastLaunch": false,
    "category": "Memory Optimized",
    "gpuNum": 0,
    "hideHardwareSpecs": false,
    "memoryGiB": 16,
    "name": "ml.r5.large",
    "vcpuNum": 2
   },
   {
    "_defaultOrder": 40,
    "_isFastLaunch": false,
    "category": "Memory Optimized",
    "gpuNum": 0,
    "hideHardwareSpecs": false,
    "memoryGiB": 32,
    "name": "ml.r5.xlarge",
    "vcpuNum": 4
   },
   {
    "_defaultOrder": 41,
    "_isFastLaunch": false,
    "category": "Memory Optimized",
    "gpuNum": 0,
    "hideHardwareSpecs": false,
    "memoryGiB": 64,
    "name": "ml.r5.2xlarge",
    "vcpuNum": 8
   },
   {
    "_defaultOrder": 42,
    "_isFastLaunch": false,
    "category": "Memory Optimized",
    "gpuNum": 0,
    "hideHardwareSpecs": false,
    "memoryGiB": 128,
    "name": "ml.r5.4xlarge",
    "vcpuNum": 16
   },
   {
    "_defaultOrder": 43,
    "_isFastLaunch": false,
    "category": "Memory Optimized",
    "gpuNum": 0,
    "hideHardwareSpecs": false,
    "memoryGiB": 256,
    "name": "ml.r5.8xlarge",
    "vcpuNum": 32
   },
   {
    "_defaultOrder": 44,
    "_isFastLaunch": false,
    "category": "Memory Optimized",
    "gpuNum": 0,
    "hideHardwareSpecs": false,
    "memoryGiB": 384,
    "name": "ml.r5.12xlarge",
    "vcpuNum": 48
   },
   {
    "_defaultOrder": 45,
    "_isFastLaunch": false,
    "category": "Memory Optimized",
    "gpuNum": 0,
    "hideHardwareSpecs": false,
    "memoryGiB": 512,
    "name": "ml.r5.16xlarge",
    "vcpuNum": 64
   },
   {
    "_defaultOrder": 46,
    "_isFastLaunch": false,
    "category": "Memory Optimized",
    "gpuNum": 0,
    "hideHardwareSpecs": false,
    "memoryGiB": 768,
    "name": "ml.r5.24xlarge",
    "vcpuNum": 96
   },
   {
    "_defaultOrder": 47,
    "_isFastLaunch": false,
    "category": "Accelerated computing",
    "gpuNum": 1,
    "hideHardwareSpecs": false,
    "memoryGiB": 16,
    "name": "ml.g5.xlarge",
    "vcpuNum": 4
   },
   {
    "_defaultOrder": 48,
    "_isFastLaunch": false,
    "category": "Accelerated computing",
    "gpuNum": 1,
    "hideHardwareSpecs": false,
    "memoryGiB": 32,
    "name": "ml.g5.2xlarge",
    "vcpuNum": 8
   },
   {
    "_defaultOrder": 49,
    "_isFastLaunch": false,
    "category": "Accelerated computing",
    "gpuNum": 1,
    "hideHardwareSpecs": false,
    "memoryGiB": 64,
    "name": "ml.g5.4xlarge",
    "vcpuNum": 16
   },
   {
    "_defaultOrder": 50,
    "_isFastLaunch": false,
    "category": "Accelerated computing",
    "gpuNum": 1,
    "hideHardwareSpecs": false,
    "memoryGiB": 128,
    "name": "ml.g5.8xlarge",
    "vcpuNum": 32
   },
   {
    "_defaultOrder": 51,
    "_isFastLaunch": false,
    "category": "Accelerated computing",
    "gpuNum": 1,
    "hideHardwareSpecs": false,
    "memoryGiB": 256,
    "name": "ml.g5.16xlarge",
    "vcpuNum": 64
   },
   {
    "_defaultOrder": 52,
    "_isFastLaunch": false,
    "category": "Accelerated computing",
    "gpuNum": 4,
    "hideHardwareSpecs": false,
    "memoryGiB": 192,
    "name": "ml.g5.12xlarge",
    "vcpuNum": 48
   },
   {
    "_defaultOrder": 53,
    "_isFastLaunch": false,
    "category": "Accelerated computing",
    "gpuNum": 4,
    "hideHardwareSpecs": false,
    "memoryGiB": 384,
    "name": "ml.g5.24xlarge",
    "vcpuNum": 96
   },
   {
    "_defaultOrder": 54,
    "_isFastLaunch": false,
    "category": "Accelerated computing",
    "gpuNum": 8,
    "hideHardwareSpecs": false,
    "memoryGiB": 768,
    "name": "ml.g5.48xlarge",
    "vcpuNum": 192
   }
  ],
  "instance_type": "ml.t3.medium",
  "kernelspec": {
   "display_name": "SparkMagic PySpark (SparkAnalytics 1.0)",
   "language": "python",
   "name": "conda-env-sm_sparkmagic-pysparkkernel__SAGEMAKER_INTERNAL__arn:aws:sagemaker:us-east-1:081325390199:image/sagemaker-sparkanalytics-v1"
  },
  "language_info": {
   "codemirror_mode": {
    "name": "python",
    "version": 3
   },
   "file_extension": ".py",
   "mimetype": "text/x-python",
   "name": "pyspark",
   "pygments_lexer": "python3"
  }
 },
 "nbformat": 4,
 "nbformat_minor": 5
}
